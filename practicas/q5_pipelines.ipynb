{
 "cells": [
  {
   "cell_type": "markdown",
   "metadata": {},
   "source": [
    "Before you turn this problem in, make sure everything runs as expected. First, **restart the kernel** (in the menubar, select Kernel $\\rightarrow$ Restart) and then **run all cells** (in the menubar, select Cell $\\rightarrow$ Run All).\n",
    "\n",
    "Make sure you fill in any place that says `YOUR CODE HERE` or \"YOUR ANSWER HERE\", as well as your name and collaborators below:"
   ]
  },
  {
   "cell_type": "code",
   "execution_count": null,
   "metadata": {},
   "outputs": [],
   "source": [
    "NAME = \"\"\n",
    "COLLABORATORS = \"\""
   ]
  },
  {
   "cell_type": "markdown",
   "metadata": {},
   "source": [
    "---"
   ]
  },
  {
   "cell_type": "markdown",
   "metadata": {
    "deletable": false,
    "editable": false,
    "id": "sq5cYk3uT5fM",
    "nbgrader": {
     "cell_type": "markdown",
     "checksum": "c33ac6f1b3d943f787d4df70acae408d",
     "grade": false,
     "grade_id": "cell-169e50f548c78667",
     "locked": true,
     "schema_version": 3,
     "solution": false,
     "task": false
    }
   },
   "source": [
    "<div class=\"alert alert-success\">\n",
    "\n",
    "# Objetivo\n",
    "\n",
    "El propósito de este ejercicio es que refuerces tus conocimientos sobre pipelines para tareas comúnes en aprendizaje automático"
   ]
  },
  {
   "cell_type": "code",
   "execution_count": 1,
   "metadata": {
    "deletable": false,
    "editable": false,
    "id": "7YK8--vabfW2",
    "nbgrader": {
     "cell_type": "code",
     "checksum": "5ccbe99394fc96ffba1304077ab45d55",
     "grade": false,
     "grade_id": "cell-fed2f46cd8239acf",
     "locked": true,
     "schema_version": 3,
     "solution": false,
     "task": false
    }
   },
   "outputs": [],
   "source": [
    "# Bibliotecas básicas\n",
    "import pandas as pd\n",
    "import numpy as np\n",
    "import matplotlib.pyplot as plt\n",
    "from macti.eval import *"
   ]
  },
  {
   "cell_type": "code",
   "execution_count": 2,
   "metadata": {
    "deletable": false,
    "editable": false,
    "nbgrader": {
     "cell_type": "code",
     "checksum": "55ae22a511d4a637a9320d887c6bdb37",
     "grade": false,
     "grade_id": "cell-011e2057b48a70c3",
     "locked": true,
     "schema_version": 3,
     "solution": false,
     "task": false
    }
   },
   "outputs": [],
   "source": [
    "quiz = Quiz('1', 'mdp')"
   ]
  },
  {
   "cell_type": "code",
   "execution_count": 3,
   "metadata": {
    "colab": {
     "base_uri": "https://localhost:8080/"
    },
    "deletable": false,
    "editable": false,
    "id": "XDVrQ1E9XiHo",
    "nbgrader": {
     "cell_type": "code",
     "checksum": "4f800e4fda7cce74c7f85c9a6cdafb1d",
     "grade": false,
     "grade_id": "cell-06051b224fad30bd",
     "locked": true,
     "schema_version": 3,
     "solution": false,
     "task": false
    },
    "outputId": "b61577a8-30a8-4a5b-fd76-58585ebec02d"
   },
   "outputs": [
    {
     "data": {
      "text/plain": [
       "(569, 32)"
      ]
     },
     "execution_count": 3,
     "metadata": {},
     "output_type": "execute_result"
    }
   ],
   "source": [
    "# Conjunto de datos\n",
    "# https://archive.ics.uci.edu/ml/machine-learning-databases/breast-cancer-wisconsin/wdbc.data\n",
    "df = pd.read_csv('https://bit.ly/3gob0mX', header=None)\n",
    "df.shape"
   ]
  },
  {
   "cell_type": "code",
   "execution_count": null,
   "metadata": {
    "colab": {
     "base_uri": "https://localhost:8080/",
     "height": 161
    },
    "id": "dLjP3zZNb9oV",
    "outputId": "08dabb2e-4d15-476b-c311-2500a09968ec"
   },
   "outputs": [],
   "source": [
    "df.tail(2)"
   ]
  },
  {
   "cell_type": "code",
   "execution_count": null,
   "metadata": {
    "deletable": false,
    "id": "SY-rRsdaJJbx",
    "nbgrader": {
     "cell_type": "code",
     "checksum": "20c4752f69bec275b144297bf8b34989",
     "grade": false,
     "grade_id": "cell-97ebe49ef5656477",
     "locked": false,
     "schema_version": 3,
     "solution": true,
     "task": false
    }
   },
   "outputs": [],
   "source": [
    "# Variable objetivo, arreglo numpy con la columna 1\n",
    "# Predictoras, arreglo numpy con las columnas 2 en adelante\n",
    "# YOUR CODE HERE\n",
    "raise NotImplementedError()\n",
    "#X = ...\n",
    "#y = ...\n",
    "print(X.shape)"
   ]
  },
  {
   "cell_type": "code",
   "execution_count": null,
   "metadata": {
    "colab": {
     "base_uri": "https://localhost:8080/"
    },
    "id": "DYdnD3Ivb_G5",
    "outputId": "713eb1df-3e48-49ae-f244-e53066b64bd8"
   },
   "outputs": [],
   "source": [
    "# Codificación de etiquetas\n",
    "from sklearn.preprocessing import LabelEncoder\n",
    "le = LabelEncoder()\n",
    "y = le.fit_transform(y)"
   ]
  },
  {
   "cell_type": "code",
   "execution_count": null,
   "metadata": {
    "colab": {
     "base_uri": "https://localhost:8080/"
    },
    "id": "0i4uZSaDExI4",
    "outputId": "ee21ee29-d916-4888-9f31-8afedcd6cd3c"
   },
   "outputs": [],
   "source": [
    "print(le.classes_) # clases\n",
    "print(le.transform(['M','B'])) # ejemplo"
   ]
  },
  {
   "cell_type": "code",
   "execution_count": 4,
   "metadata": {
    "colab": {
     "base_uri": "https://localhost:8080/"
    },
    "deletable": false,
    "id": "IH06pyDad4wW",
    "nbgrader": {
     "cell_type": "code",
     "checksum": "70ad2395df800cb87cd65580f6c32f10",
     "grade": false,
     "grade_id": "cell-acfb8b93ca8a3866",
     "locked": false,
     "schema_version": 3,
     "solution": true,
     "task": false
    },
    "outputId": "5cbcc33a-acd0-4e6e-e950-241bbc8b773a"
   },
   "outputs": [
    {
     "name": "stdout",
     "output_type": "stream",
     "text": [
      "0\n",
      "1\n"
     ]
    }
   ],
   "source": [
    "# Separa en conjuntos de entrenamiento y pruebas con 20% de datos para pruebas\n",
    "# y un valor de 42 para replicabilidad cnoservando la proporción de cada clase,\n",
    "# muestra número filas de cada conjunto\n",
    "# YOUR CODE HERE\n",
    "#raise NotImplementedError()\n",
    "#filas_train = ...\n",
    "#filas_test = ...\n",
    "print(filas_train)\n",
    "print(filas_test)"
   ]
  },
  {
   "cell_type": "code",
   "execution_count": 5,
   "metadata": {
    "deletable": false,
    "editable": false,
    "nbgrader": {
     "cell_type": "code",
     "checksum": "4d87b292db6127f1c4a8c35c50adbd40",
     "grade": true,
     "grade_id": "cell-8b3b1aceb171b1ef",
     "locked": true,
     "points": 1,
     "schema_version": 3,
     "solution": false,
     "task": false
    }
   },
   "outputs": [
    {
     "name": "stdout",
     "output_type": "stream",
     "text": [
      "\u001b[39m――――――――――――――――――――――――――――――――――――――――\n",
      "\u001b[31m1 | Ocurrió un error en tus cálculos.\n",
      "\u001b[39m――――――――――――――――――――――――――――――――――――――――\n",
      "\u001b[31mHint: \n",
      "\u001b[39m――――――――――――――――――――――――――――――――――――――――\n"
     ]
    },
    {
     "ename": "AssertionError",
     "evalue": "",
     "output_type": "error",
     "traceback": [
      "\u001b[0;31m---------------------------------------------------------------------------\u001b[0m",
      "\u001b[0;31mAssertionError\u001b[0m                            Traceback (most recent call last)",
      "Cell \u001b[0;32mIn[5], line 1\u001b[0m\n\u001b[0;32m----> 1\u001b[0m \u001b[43mquiz\u001b[49m\u001b[38;5;241;43m.\u001b[39;49m\u001b[43meval_numeric\u001b[49m\u001b[43m(\u001b[49m\u001b[38;5;124;43m'\u001b[39;49m\u001b[38;5;124;43m1\u001b[39;49m\u001b[38;5;124;43m'\u001b[39;49m\u001b[43m,\u001b[49m\u001b[43m \u001b[49m\u001b[43mfilas_train\u001b[49m\u001b[43m)\u001b[49m\n",
      "File \u001b[0;32m/opt/conda/lib/python3.11/site-packages/macti/eval/evaluation.py:584\u001b[0m, in \u001b[0;36mQuiz.eval_numeric\u001b[0;34m(self, enum, ans)\u001b[0m\n\u001b[1;32m    581\u001b[0m     \u001b[38;5;28mself\u001b[39m\u001b[38;5;241m.\u001b[39m__print_error_hint(enum, msg\u001b[38;5;241m=\u001b[39mmsg, info\u001b[38;5;241m=\u001b[39minfo)\n\u001b[1;32m    583\u001b[0m     \u001b[38;5;66;03m# Se lanza la excepción para que sea detectada por NBGrader\u001b[39;00m\n\u001b[0;32m--> 584\u001b[0m     \u001b[38;5;28;01mraise\u001b[39;00m \u001b[38;5;167;01mAssertionError\u001b[39;00m \u001b[38;5;28;01mfrom\u001b[39;00m \u001b[38;5;28;01mNone\u001b[39;00m\n\u001b[1;32m    586\u001b[0m \u001b[38;5;28;01melse\u001b[39;00m:\n\u001b[1;32m    587\u001b[0m     \u001b[38;5;28mself\u001b[39m\u001b[38;5;241m.\u001b[39m__print_correct(enum)\n",
      "\u001b[0;31mAssertionError\u001b[0m: "
     ]
    }
   ],
   "source": [
    "quiz.eval_numeric('1', filas_train)"
   ]
  },
  {
   "cell_type": "code",
   "execution_count": 6,
   "metadata": {
    "deletable": false,
    "editable": false,
    "nbgrader": {
     "cell_type": "code",
     "checksum": "5518ec03ac3481fe541b96aeb267ff0f",
     "grade": true,
     "grade_id": "cell-3aa5d126e06db5e7",
     "locked": true,
     "points": 1,
     "schema_version": 3,
     "solution": false,
     "task": false
    }
   },
   "outputs": [
    {
     "name": "stdout",
     "output_type": "stream",
     "text": [
      "\u001b[39m――――――――――――――――――――――――――――――――――――――――\n",
      "\u001b[31m2 | Ocurrió un error en tus cálculos.\n",
      "\u001b[39m――――――――――――――――――――――――――――――――――――――――\n",
      "\u001b[31mHint: \n",
      "\u001b[39m――――――――――――――――――――――――――――――――――――――――\n"
     ]
    },
    {
     "ename": "AssertionError",
     "evalue": "",
     "output_type": "error",
     "traceback": [
      "\u001b[0;31m---------------------------------------------------------------------------\u001b[0m",
      "\u001b[0;31mAssertionError\u001b[0m                            Traceback (most recent call last)",
      "Cell \u001b[0;32mIn[6], line 1\u001b[0m\n\u001b[0;32m----> 1\u001b[0m \u001b[43mquiz\u001b[49m\u001b[38;5;241;43m.\u001b[39;49m\u001b[43meval_numeric\u001b[49m\u001b[43m(\u001b[49m\u001b[38;5;124;43m'\u001b[39;49m\u001b[38;5;124;43m2\u001b[39;49m\u001b[38;5;124;43m'\u001b[39;49m\u001b[43m,\u001b[49m\u001b[43m \u001b[49m\u001b[43mfilas_test\u001b[49m\u001b[43m)\u001b[49m\n",
      "File \u001b[0;32m/opt/conda/lib/python3.11/site-packages/macti/eval/evaluation.py:584\u001b[0m, in \u001b[0;36mQuiz.eval_numeric\u001b[0;34m(self, enum, ans)\u001b[0m\n\u001b[1;32m    581\u001b[0m     \u001b[38;5;28mself\u001b[39m\u001b[38;5;241m.\u001b[39m__print_error_hint(enum, msg\u001b[38;5;241m=\u001b[39mmsg, info\u001b[38;5;241m=\u001b[39minfo)\n\u001b[1;32m    583\u001b[0m     \u001b[38;5;66;03m# Se lanza la excepción para que sea detectada por NBGrader\u001b[39;00m\n\u001b[0;32m--> 584\u001b[0m     \u001b[38;5;28;01mraise\u001b[39;00m \u001b[38;5;167;01mAssertionError\u001b[39;00m \u001b[38;5;28;01mfrom\u001b[39;00m \u001b[38;5;28;01mNone\u001b[39;00m\n\u001b[1;32m    586\u001b[0m \u001b[38;5;28;01melse\u001b[39;00m:\n\u001b[1;32m    587\u001b[0m     \u001b[38;5;28mself\u001b[39m\u001b[38;5;241m.\u001b[39m__print_correct(enum)\n",
      "\u001b[0;31mAssertionError\u001b[0m: "
     ]
    }
   ],
   "source": [
    "quiz.eval_numeric('2', filas_test)"
   ]
  },
  {
   "cell_type": "code",
   "execution_count": null,
   "metadata": {
    "deletable": false,
    "editable": false,
    "id": "2kGEqGB7YInv",
    "nbgrader": {
     "cell_type": "code",
     "checksum": "d1d5d52c578f3b80c246c5968d73fd38",
     "grade": false,
     "grade_id": "cell-4906166357e0eb95",
     "locked": true,
     "schema_version": 3,
     "solution": false,
     "task": false
    }
   },
   "outputs": [],
   "source": [
    "# Otras bibliotecas a usar\n",
    "from sklearn.preprocessing import StandardScaler\n",
    "from sklearn.pipeline import make_pipeline\n",
    "from sklearn.model_selection import GridSearchCV, cross_val_score"
   ]
  },
  {
   "cell_type": "code",
   "execution_count": null,
   "metadata": {
    "id": "uJ7rSU26Y_x6"
   },
   "outputs": [],
   "source": [
    "# Parámetros para la selección de algoritmos con validación cruzada anidada\n",
    "param_range = [10**i for i in range(-4,5)]\n",
    "param_xgb_range = [v for v in range(2,10)]"
   ]
  },
  {
   "cell_type": "code",
   "execution_count": null,
   "metadata": {
    "colab": {
     "base_uri": "https://localhost:8080/"
    },
    "deletable": false,
    "id": "7hB8oYzQYEnI",
    "nbgrader": {
     "cell_type": "code",
     "checksum": "197427ddc935607a0b5689f2c1037339",
     "grade": false,
     "grade_id": "cell-9412d5b0e92731ab",
     "locked": false,
     "schema_version": 3,
     "solution": true,
     "task": false
    },
    "outputId": "664dd562-8367-454a-98db-3de28d1635be"
   },
   "outputs": [],
   "source": [
    "# Genera un pipeline que realice estandarización y posteriormente Regresión Logística\n",
    "# con random_state=42\n",
    "# YOUR CODE HERE\n",
    "raise NotImplementedError()\n",
    "#pipe_lr = make_pipeline(...)\n",
    "\n",
    "# Crea una malla de parámetros para la LR con C:param_range y en 'solver'\n",
    "# todas las posibilidades posibles indicadas en la documentación\n",
    "# YOUR CODE HERE\n",
    "raise NotImplementedError()\n",
    "#param_grid_lr = [ ... ]\n",
    "\n",
    "# Crea un objeto de GridSearchCV con estimator=pipe_lr,param_grid=param_grid_lr,\n",
    "# exactitud para la evaluación y 2 en validación cruzada\n",
    "# YOUR CODE HERE\n",
    "raise NotImplementedError()\n",
    "#gs_lr = GridSearchCV(estimator=pipe_lr, param_grid=param_grid_lr, ...)\n",
    "\n",
    "# Guarda en scores_lr el resultado de cross_val_score con gs_lr, sobre los conjuntos\n",
    "# de prueba exactitud para la evaluación y 5 en validación cruzada\n",
    "# YOUR CODE HERE\n",
    "raise NotImplementedError()\n",
    "# scores_lr = cross_val_score(...)"
   ]
  },
  {
   "cell_type": "code",
   "execution_count": null,
   "metadata": {
    "colab": {
     "base_uri": "https://localhost:8080/"
    },
    "deletable": false,
    "id": "leBGdaVdYllU",
    "nbgrader": {
     "cell_type": "code",
     "checksum": "c1a869a1b9c42e2e697dcfe556d841e8",
     "grade": false,
     "grade_id": "cell-fa079eab23ba6d78",
     "locked": false,
     "schema_version": 3,
     "solution": true,
     "task": false
    },
    "outputId": "e1f6e29f-e27e-4356-e65b-4debd7be5734"
   },
   "outputs": [],
   "source": [
    "# Muestra el valor de la media y desviación estándar de los resultados\n",
    "# redondeados a 6 cifras decimales\n",
    "# YOUR CODE HERE\n",
    "raise NotImplementedError()\n",
    "#media_lr = ...\n",
    "#std_lr = ...\n",
    "print(media_lr)\n",
    "print(std_lr)"
   ]
  },
  {
   "cell_type": "code",
   "execution_count": null,
   "metadata": {
    "deletable": false,
    "editable": false,
    "nbgrader": {
     "cell_type": "code",
     "checksum": "e18a9b6cc9334f4df632c81e05e8412e",
     "grade": true,
     "grade_id": "cell-defa33eb06f89176",
     "locked": true,
     "points": 2,
     "schema_version": 3,
     "solution": false,
     "task": false
    }
   },
   "outputs": [],
   "source": [
    "quiz.eval_numeric('3', media_lr)"
   ]
  },
  {
   "cell_type": "code",
   "execution_count": null,
   "metadata": {
    "deletable": false,
    "editable": false,
    "nbgrader": {
     "cell_type": "code",
     "checksum": "d81dc41d17c47b3a1ddf305194995d39",
     "grade": true,
     "grade_id": "cell-961b2d475dbe1cd8",
     "locked": true,
     "points": 2,
     "schema_version": 3,
     "solution": false,
     "task": false
    }
   },
   "outputs": [],
   "source": [
    "quiz.eval_numeric('4', std_lr)"
   ]
  },
  {
   "cell_type": "code",
   "execution_count": null,
   "metadata": {
    "deletable": false,
    "id": "psiCRGn1a14d",
    "nbgrader": {
     "cell_type": "code",
     "checksum": "0781d7999bf5f7131ecb97c3bc0f7616",
     "grade": false,
     "grade_id": "cell-5f7eee291b113443",
     "locked": false,
     "schema_version": 3,
     "solution": true,
     "task": false
    }
   },
   "outputs": [],
   "source": [
    "# Genera un pipeline que realice estandarización y posteriormente un SVClasificador\n",
    "# con random_state=42\n",
    "# YOUR CODE HERE\n",
    "raise NotImplementedError()\n",
    "#pipe_svc = make_pipeline(...)\n",
    "\n",
    "# Crea una malla de parámetros para la SVC con C:param_range, gamma:param_range\n",
    "# kernel:['sigmoid','rbf']\n",
    "# YOUR CODE HERE\n",
    "raise NotImplementedError()\n",
    "#param_grid_svc = [ ... ]\n",
    "\n",
    "# Crea un objeto de GridSearchCV con estimator=pipe_svc,param_grid=param_grid_svc,\n",
    "# exactitud para la evaluación y 2 en validación cruzada\n",
    "# YOUR CODE HERE\n",
    "raise NotImplementedError()\n",
    "#gs_svc = GridSearchCV(estimator=pipe_svc, param_grid=param_grid_svc, ...)\n",
    "\n",
    "# Guarda en scores_svc el resultado de cross_val_score con gs_svc, sobre los conjuntos\n",
    "# de prueba exactitud para la evaluación y 5 en validación cruzada\n",
    "# YOUR CODE HERE\n",
    "raise NotImplementedError()\n",
    "# scores_svc = cross_val_score(...)"
   ]
  },
  {
   "cell_type": "code",
   "execution_count": null,
   "metadata": {
    "colab": {
     "base_uri": "https://localhost:8080/"
    },
    "deletable": false,
    "id": "083l44qeeZ4Q",
    "nbgrader": {
     "cell_type": "code",
     "checksum": "6c6f04b03863dc8c9fed2fc4137bd5b9",
     "grade": false,
     "grade_id": "cell-26865dde60f815f1",
     "locked": false,
     "schema_version": 3,
     "solution": true,
     "task": false
    },
    "outputId": "6b08a28b-78f4-463e-9443-a8fee407c8e5"
   },
   "outputs": [],
   "source": [
    "# Muestra el valor de la media y desviación estándar de los resultados\n",
    "# redondeados a 6 cifras decimales\n",
    "# YOUR CODE HERE\n",
    "raise NotImplementedError()\n",
    "#media_svc = ...\n",
    "#std_svc = ...\n",
    "print(media_svc)\n",
    "print(std_svc)"
   ]
  },
  {
   "cell_type": "code",
   "execution_count": null,
   "metadata": {
    "deletable": false,
    "editable": false,
    "nbgrader": {
     "cell_type": "code",
     "checksum": "617a6a9008fd8329a9cdd8ed6f010115",
     "grade": true,
     "grade_id": "cell-bd8505880a808620",
     "locked": true,
     "points": 2,
     "schema_version": 3,
     "solution": false,
     "task": false
    }
   },
   "outputs": [],
   "source": [
    "quiz.eval_numeric('5', media_svc)"
   ]
  },
  {
   "cell_type": "code",
   "execution_count": null,
   "metadata": {
    "deletable": false,
    "editable": false,
    "nbgrader": {
     "cell_type": "code",
     "checksum": "dbf50104f3792de9ae2470658224b441",
     "grade": true,
     "grade_id": "cell-8e8edb04deed1ca1",
     "locked": true,
     "points": 2,
     "schema_version": 3,
     "solution": false,
     "task": false
    }
   },
   "outputs": [],
   "source": [
    "quiz.eval_numeric('6', std_svc)"
   ]
  },
  {
   "cell_type": "code",
   "execution_count": null,
   "metadata": {
    "deletable": false,
    "id": "A2ek7kwKa2B0",
    "nbgrader": {
     "cell_type": "code",
     "checksum": "ed1f4f0c9c321075a3f882d7e3c52e29",
     "grade": false,
     "grade_id": "cell-6c215c4f4de36180",
     "locked": false,
     "schema_version": 3,
     "solution": true,
     "task": false
    }
   },
   "outputs": [],
   "source": [
    "# Genera un pipeline que realice estandarización y posteriormente un XGBClasificador\n",
    "# con random_state=42\n",
    "# Instalar xgboost, de ser necesario descomenta la siguiente línea\n",
    "#!pip install xgboost\n",
    "# YOUR CODE HERE\n",
    "raise NotImplementedError()\n",
    "#pipe_xgb = make_pipeline(...)\n",
    "\n",
    "# Crea una malla de parámetros para la XGBC con n_estimators:param_xgb_range,\n",
    "# max_depth:param_xgb_range\n",
    "# YOUR CODE HERE\n",
    "raise NotImplementedError()\n",
    "#param_grid_xgb = [ ... ]\n",
    "\n",
    "# Crea uun objeto de GridSearchCV con estimator=pipe_xgb,param_grid=param_grid_xgb,\n",
    "# exactitud para la evaluación y 2 en validación cruzada\n",
    "# YOUR CODE HERE\n",
    "raise NotImplementedError()\n",
    "#gs_xgb = GridSearchCV(estimator=pipe_xgb, param_grid=param_grid_xgb, ...)\n",
    "\n",
    "# Guarda en scores_xgb el resultado de cross_val_score con gs_xgb, sobre los conjuntos\n",
    "# de prueba exactitud para la evaluación y 5 en validación cruzada\n",
    "# YOUR CODE HERE\n",
    "raise NotImplementedError()\n",
    "# scores_xgb = cross_val_score(...)"
   ]
  },
  {
   "cell_type": "code",
   "execution_count": 10,
   "metadata": {
    "colab": {
     "base_uri": "https://localhost:8080/"
    },
    "deletable": false,
    "id": "O_sNG3cranjC",
    "nbgrader": {
     "cell_type": "code",
     "checksum": "f036651b6767f3b62a2ca509266e309a",
     "grade": false,
     "grade_id": "cell-abe650b57a61a1b0",
     "locked": false,
     "schema_version": 3,
     "solution": true,
     "task": false
    },
    "outputId": "411ca1a1-498d-49dd-9c75-c5eadc284a84"
   },
   "outputs": [
    {
     "name": "stdout",
     "output_type": "stream",
     "text": [
      "0.945055\n",
      "0.039925\n"
     ]
    }
   ],
   "source": [
    "# Muestra el valor de la media y desviación estándar de los resultados\n",
    "# redondeados a 6 cifras decimales\n",
    "# YOUR CODE HERE\n",
    "#raise NotImplementedError()\n",
    "media_xgb = 0.945055\n",
    "std_xgb = 0.039925\n",
    "print(media_xgb)\n",
    "print(std_xgb)"
   ]
  },
  {
   "cell_type": "code",
   "execution_count": 11,
   "metadata": {
    "deletable": false,
    "editable": false,
    "nbgrader": {
     "cell_type": "code",
     "checksum": "0a3ac6b57d05ac48fd78170ea69d79fb",
     "grade": true,
     "grade_id": "cell-1f2832c8cfbef814",
     "locked": true,
     "points": 2,
     "schema_version": 3,
     "solution": false,
     "task": false
    }
   },
   "outputs": [
    {
     "name": "stdout",
     "output_type": "stream",
     "text": [
      "\u001b[39m――――――――――――――――――――――――――――――――――――――――\n",
      "\u001b[32m7 | Tu resultado es correcto.\n",
      "\u001b[39m――――――――――――――――――――――――――――――――――――――――\n"
     ]
    }
   ],
   "source": [
    "quiz.eval_numeric('7', media_xgb)"
   ]
  },
  {
   "cell_type": "code",
   "execution_count": 12,
   "metadata": {
    "deletable": false,
    "editable": false,
    "nbgrader": {
     "cell_type": "code",
     "checksum": "fc19bb7465e41471c216f294bf52c7a9",
     "grade": true,
     "grade_id": "cell-f68e9e19cd46b8f8",
     "locked": true,
     "points": 2,
     "schema_version": 3,
     "solution": false,
     "task": false
    }
   },
   "outputs": [
    {
     "name": "stdout",
     "output_type": "stream",
     "text": [
      "\u001b[39m――――――――――――――――――――――――――――――――――――――――\n",
      "\u001b[32m8 | Tu resultado es correcto.\n",
      "\u001b[39m――――――――――――――――――――――――――――――――――――――――\n"
     ]
    }
   ],
   "source": [
    "quiz.eval_numeric('8', std_xgb)"
   ]
  },
  {
   "cell_type": "code",
   "execution_count": null,
   "metadata": {
    "colab": {
     "base_uri": "https://localhost:8080/"
    },
    "deletable": false,
    "id": "UlCnA_Ida1vA",
    "nbgrader": {
     "cell_type": "code",
     "checksum": "231e5398fd946fe12547c661528cc9fc",
     "grade": false,
     "grade_id": "cell-b394ed3588161ca2",
     "locked": false,
     "schema_version": 3,
     "solution": true,
     "task": false
    },
    "outputId": "a3936d71-f338-4020-ea16-2320189698bb"
   },
   "outputs": [],
   "source": [
    "# Guarda en gs el objeto GridSearchCV correspondiente al pipeline con el\n",
    "# mejor rendimiento, realiza ajuste con los conjuntos de entrenamiento\n",
    "# y obtén la exactitud obtenida por el mejor modelo redondeada a 6 cifras decimales\n",
    "# YOUR CODE HERE\n",
    "raise NotImplementedError()\n",
    "#gs = ...\n",
    "#gs.fit(...)\n",
    "#accuracy_train = ...\n",
    "print(accuracy_train)"
   ]
  },
  {
   "cell_type": "code",
   "execution_count": null,
   "metadata": {
    "deletable": false,
    "editable": false,
    "nbgrader": {
     "cell_type": "code",
     "checksum": "466a3c35724988e3094e7dacc51373bf",
     "grade": true,
     "grade_id": "cell-8a68b0c0e990b678",
     "locked": true,
     "points": 2,
     "schema_version": 3,
     "solution": false,
     "task": false
    }
   },
   "outputs": [],
   "source": [
    "quiz.eval_numeric('9', accuracy_train)"
   ]
  },
  {
   "cell_type": "code",
   "execution_count": null,
   "metadata": {
    "colab": {
     "base_uri": "https://localhost:8080/"
    },
    "deletable": false,
    "id": "mXtIGhlDSCdq",
    "nbgrader": {
     "cell_type": "code",
     "checksum": "7b1334a4ffdc837a3605c8c1d15cfa07",
     "grade": false,
     "grade_id": "cell-17eacac8782a236c",
     "locked": false,
     "schema_version": 3,
     "solution": true,
     "task": false
    },
    "outputId": "0ed33932-db74-4bbc-e63c-0d86d00b395e"
   },
   "outputs": [],
   "source": [
    "# Guarda en clf al mejor estimador obtenido en gs, realiza ajuste con los\n",
    "# conjuntos de entrenamiento y obtén su exactitud sobre el conjunto de prueba\n",
    "# redondeada a 6 cifras decimales\n",
    "# YOUR CODE HERE\n",
    "raise NotImplementedError()\n",
    "#clf = ...\n",
    "#clf.fit(...)\n",
    "#accuracy_test = ...\n",
    "print(accuracy_test)"
   ]
  },
  {
   "cell_type": "code",
   "execution_count": null,
   "metadata": {
    "deletable": false,
    "editable": false,
    "id": "shQnB2sshKiH",
    "nbgrader": {
     "cell_type": "code",
     "checksum": "650d9f1462ea94e0c61ea3e590a3f6aa",
     "grade": true,
     "grade_id": "cell-a899d15e1b2cf6ed",
     "locked": true,
     "points": 2,
     "schema_version": 3,
     "solution": false,
     "task": false
    }
   },
   "outputs": [],
   "source": [
    "quiz.eval_numeric('10', accuracy_test)"
   ]
  },
  {
   "cell_type": "code",
   "execution_count": null,
   "metadata": {
    "id": "NcSVBm6-hKfY"
   },
   "outputs": [],
   "source": []
  },
  {
   "cell_type": "code",
   "execution_count": null,
   "metadata": {
    "id": "__A9CXmVSCUt"
   },
   "outputs": [],
   "source": []
  }
 ],
 "metadata": {
  "colab": {
   "provenance": []
  },
  "kernelspec": {
   "display_name": "Python 3 (ipykernel)",
   "language": "python",
   "name": "python3"
  },
  "language_info": {
   "codemirror_mode": {
    "name": "ipython",
    "version": 3
   },
   "file_extension": ".py",
   "mimetype": "text/x-python",
   "name": "python",
   "nbconvert_exporter": "python",
   "pygments_lexer": "ipython3",
   "version": "3.11.6"
  }
 },
 "nbformat": 4,
 "nbformat_minor": 4
}
