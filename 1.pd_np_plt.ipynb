{
  "nbformat": 4,
  "nbformat_minor": 0,
  "metadata": {
    "colab": {
      "provenance": []
    },
    "kernelspec": {
      "name": "python3",
      "display_name": "Python 3"
    },
    "language_info": {
      "name": "python"
    }
  },
  "cells": [
    {
      "cell_type": "markdown",
      "source": [
        "# Pandas"
      ],
      "metadata": {
        "id": "loJ0tq18pxf2"
      }
    },
    {
      "cell_type": "code",
      "metadata": {
        "id": "63Ejori3EwOr"
      },
      "source": [
        "# Pandas es una biblioteca para acceso y manipulación de datos\n",
        "import pandas as pd"
      ],
      "execution_count": null,
      "outputs": []
    },
    {
      "cell_type": "code",
      "metadata": {
        "id": "O-S3_rd8cnyq"
      },
      "source": [
        "datos = pd.read_csv('https://bit.ly/31B56KB')\n",
        "type(datos)"
      ],
      "execution_count": null,
      "outputs": []
    },
    {
      "cell_type": "code",
      "metadata": {
        "id": "IP62-oMEczLp"
      },
      "source": [
        "datos.head(3)"
      ],
      "execution_count": null,
      "outputs": []
    },
    {
      "cell_type": "code",
      "metadata": {
        "id": "mFu9i6Ukc7kK"
      },
      "source": [
        "datos.tail(3)"
      ],
      "execution_count": null,
      "outputs": []
    },
    {
      "cell_type": "code",
      "metadata": {
        "id": "1zG3kttQdMxJ"
      },
      "source": [
        "datos.info()"
      ],
      "execution_count": null,
      "outputs": []
    },
    {
      "cell_type": "code",
      "metadata": {
        "id": "lQm4cHD6dYKS"
      },
      "source": [
        "datos.describe()"
      ],
      "execution_count": null,
      "outputs": []
    },
    {
      "cell_type": "code",
      "metadata": {
        "id": "-j0A93rBdvbQ"
      },
      "source": [
        "len(datos)"
      ],
      "execution_count": null,
      "outputs": []
    },
    {
      "cell_type": "code",
      "metadata": {
        "id": "NlhIEjDtd79i"
      },
      "source": [
        "datos.columns"
      ],
      "execution_count": null,
      "outputs": []
    },
    {
      "cell_type": "code",
      "metadata": {
        "id": "3b7Hnv_ueAtU"
      },
      "source": [
        "datos.dtypes"
      ],
      "execution_count": null,
      "outputs": []
    },
    {
      "cell_type": "code",
      "metadata": {
        "id": "FAJR25WUeH6Z"
      },
      "source": [
        "datos.shape"
      ],
      "execution_count": null,
      "outputs": []
    },
    {
      "cell_type": "code",
      "metadata": {
        "id": "mBFDIW6qeSpC"
      },
      "source": [
        "datos.shape[0]"
      ],
      "execution_count": null,
      "outputs": []
    },
    {
      "cell_type": "code",
      "metadata": {
        "id": "NvE8Iz11ebXh"
      },
      "source": [
        "datos.values"
      ],
      "execution_count": null,
      "outputs": []
    },
    {
      "cell_type": "code",
      "metadata": {
        "id": "mIFj1TLRe1Gn"
      },
      "source": [
        "datos['Temperatura'].head(3)"
      ],
      "execution_count": null,
      "outputs": []
    },
    {
      "cell_type": "code",
      "metadata": {
        "id": "GQuScLkKYEpy"
      },
      "source": [
        "datos.Temperatura.head(3)"
      ],
      "execution_count": null,
      "outputs": []
    },
    {
      "cell_type": "code",
      "metadata": {
        "id": "pTjX6cuQYEml"
      },
      "source": [
        "# Series: almacena una columna\n",
        "s = datos.Contaminacion_SO2\n",
        "type(s)"
      ],
      "execution_count": null,
      "outputs": []
    },
    {
      "cell_type": "code",
      "metadata": {
        "id": "oqTQGfyPYEkQ"
      },
      "source": [
        "s.dtype"
      ],
      "execution_count": null,
      "outputs": []
    },
    {
      "cell_type": "code",
      "metadata": {
        "id": "Z9cyJWFUYEhK"
      },
      "source": [
        "s.values"
      ],
      "execution_count": null,
      "outputs": []
    },
    {
      "cell_type": "code",
      "metadata": {
        "id": "qyfJ2CfBYEez"
      },
      "source": [
        "s.describe()"
      ],
      "execution_count": null,
      "outputs": []
    },
    {
      "cell_type": "code",
      "metadata": {
        "id": "xE4IFF6TYEcC"
      },
      "source": [
        "s.mean()"
      ],
      "execution_count": null,
      "outputs": []
    },
    {
      "cell_type": "code",
      "metadata": {
        "id": "DKYEMWtvYEZX"
      },
      "source": [
        "s.sum()"
      ],
      "execution_count": null,
      "outputs": []
    },
    {
      "cell_type": "code",
      "metadata": {
        "id": "SPYGROsEYEWq"
      },
      "source": [
        "s.unique()"
      ],
      "execution_count": null,
      "outputs": []
    },
    {
      "cell_type": "code",
      "metadata": {
        "id": "jFz8S0tPYEUC"
      },
      "source": [
        "s.value_counts()"
      ],
      "execution_count": null,
      "outputs": []
    },
    {
      "cell_type": "code",
      "metadata": {
        "id": "RbE7iTbPYERf"
      },
      "source": [
        "s.sort_values(ascending=True).head(10)"
      ],
      "execution_count": null,
      "outputs": []
    },
    {
      "cell_type": "code",
      "metadata": {
        "id": "h_3uAsn1YEPG"
      },
      "source": [
        "s[9:16]"
      ],
      "execution_count": null,
      "outputs": []
    },
    {
      "cell_type": "code",
      "metadata": {
        "id": "BVm6Q79cYEMR"
      },
      "source": [
        "datos[9:16]"
      ],
      "execution_count": null,
      "outputs": []
    },
    {
      "cell_type": "code",
      "metadata": {
        "id": "ra5zTPVKYEJz"
      },
      "source": [
        "datos.iloc[3:8,:]"
      ],
      "execution_count": null,
      "outputs": []
    },
    {
      "cell_type": "code",
      "metadata": {
        "id": "HDTrYMT2YEHN"
      },
      "source": [
        "datos.iloc[3:8,2:6]"
      ],
      "execution_count": null,
      "outputs": []
    },
    {
      "cell_type": "code",
      "metadata": {
        "id": "QJcfjF-kYEEh"
      },
      "source": [
        "datos.iloc[:,2:6]"
      ],
      "execution_count": null,
      "outputs": []
    },
    {
      "cell_type": "code",
      "metadata": {
        "id": "2fonCa_OhSUF"
      },
      "source": [
        "datos.iloc[:,-3:6]"
      ],
      "execution_count": null,
      "outputs": []
    },
    {
      "cell_type": "code",
      "metadata": {
        "id": "QDzDLhRGz_kf"
      },
      "source": [
        "# Columnas específicas de un DF\n",
        "df2 = datos.filter(['Temperatura', 'Dias_Lluvia'])\n",
        "df2"
      ],
      "execution_count": null,
      "outputs": []
    },
    {
      "cell_type": "code",
      "metadata": {
        "id": "EF19PUPoz_iN"
      },
      "source": [
        "df2 = datos.drop(['Temperatura', 'Dias_Lluvia'], axis=1)\n",
        "df2"
      ],
      "execution_count": null,
      "outputs": []
    },
    {
      "cell_type": "code",
      "metadata": {
        "id": "dY4_RtIvYEDH"
      },
      "source": [
        "s = datos.Dias_Lluvia\n",
        "s.values"
      ],
      "execution_count": null,
      "outputs": []
    },
    {
      "cell_type": "code",
      "metadata": {
        "id": "7E6bHRSnYEBI"
      },
      "source": [
        "s.value_counts()"
      ],
      "execution_count": null,
      "outputs": []
    },
    {
      "cell_type": "code",
      "metadata": {
        "id": "zTbnAZhJYD-s"
      },
      "source": [
        "grupo = datos.groupby('Dias_Lluvia')\n",
        "type(grupo)"
      ],
      "execution_count": null,
      "outputs": []
    },
    {
      "cell_type": "code",
      "metadata": {
        "id": "cMz2RQLGhCkZ"
      },
      "source": [
        "grupo.mean()"
      ],
      "execution_count": null,
      "outputs": []
    },
    {
      "cell_type": "code",
      "metadata": {
        "id": "6BEkjtQwhCgz"
      },
      "source": [
        "grupo.sum().head(20)"
      ],
      "execution_count": null,
      "outputs": []
    },
    {
      "cell_type": "code",
      "metadata": {
        "id": "jWXf_l2whCdS"
      },
      "source": [
        "s_grupo = grupo.sum()\n",
        "cond = s_grupo.Temperatura >= 65\n",
        "cond"
      ],
      "execution_count": null,
      "outputs": []
    },
    {
      "cell_type": "code",
      "metadata": {
        "id": "XCYdNxPrhCaZ"
      },
      "source": [
        "s_grupo[cond]"
      ],
      "execution_count": null,
      "outputs": []
    },
    {
      "cell_type": "markdown",
      "source": [
        "# Numpy"
      ],
      "metadata": {
        "id": "bRGQntK6p9LF"
      }
    },
    {
      "cell_type": "code",
      "metadata": {
        "id": "UMa0kfNChCX2"
      },
      "source": [
        "# Numpy: utilizar arreglos y matrices \"a la matlab\"\n",
        "import numpy as np"
      ],
      "execution_count": null,
      "outputs": []
    },
    {
      "cell_type": "code",
      "metadata": {
        "id": "pcxGrQSnhCVb"
      },
      "source": [
        "v = np.array([1,2,3,4,5])\n",
        "type(v)"
      ],
      "execution_count": null,
      "outputs": []
    },
    {
      "cell_type": "code",
      "metadata": {
        "id": "j7ztQlWZhCSY"
      },
      "source": [
        "v.shape"
      ],
      "execution_count": null,
      "outputs": []
    },
    {
      "cell_type": "code",
      "metadata": {
        "id": "qsO2G3aRhCQQ"
      },
      "source": [
        "v.ndim"
      ],
      "execution_count": null,
      "outputs": []
    },
    {
      "cell_type": "code",
      "metadata": {
        "id": "BX57X-wqhCNI"
      },
      "source": [
        "v.dtype"
      ],
      "execution_count": null,
      "outputs": []
    },
    {
      "cell_type": "code",
      "metadata": {
        "id": "RAWeUENnhCK1"
      },
      "source": [
        "v + v"
      ],
      "execution_count": null,
      "outputs": []
    },
    {
      "cell_type": "code",
      "metadata": {
        "id": "VBdAkhW9hCIU"
      },
      "source": [
        "7.18 * v"
      ],
      "execution_count": null,
      "outputs": []
    },
    {
      "cell_type": "code",
      "metadata": {
        "id": "Qcd1mG3EhCFg"
      },
      "source": [
        "v * v"
      ],
      "execution_count": null,
      "outputs": []
    },
    {
      "cell_type": "code",
      "metadata": {
        "id": "KI-dOCtDlfFf"
      },
      "source": [
        "v @ v # producto punto"
      ],
      "execution_count": null,
      "outputs": []
    },
    {
      "cell_type": "code",
      "metadata": {
        "id": "uL1I5xC1lfCP"
      },
      "source": [
        "np.zeros(5)"
      ],
      "execution_count": null,
      "outputs": []
    },
    {
      "cell_type": "code",
      "metadata": {
        "id": "mpvwrt-Ale_u"
      },
      "source": [
        "np.ones(5)"
      ],
      "execution_count": null,
      "outputs": []
    },
    {
      "cell_type": "code",
      "metadata": {
        "id": "M9AtRcZ8le9B"
      },
      "source": [
        "m = np.array([[1,2,3],[4,5,6],[7,8,9]])\n",
        "type(m)"
      ],
      "execution_count": null,
      "outputs": []
    },
    {
      "cell_type": "code",
      "metadata": {
        "id": "l1RZqBAsorg3"
      },
      "source": [
        "m.shape"
      ],
      "execution_count": null,
      "outputs": []
    },
    {
      "cell_type": "code",
      "metadata": {
        "id": "dHAU5REZle6G"
      },
      "source": [
        "m + m"
      ],
      "execution_count": null,
      "outputs": []
    },
    {
      "cell_type": "code",
      "metadata": {
        "id": "R25Pk-xrle3f"
      },
      "source": [
        "7.12 * m"
      ],
      "execution_count": null,
      "outputs": []
    },
    {
      "cell_type": "code",
      "metadata": {
        "id": "S1nsArL2oFLM"
      },
      "source": [
        "m * m"
      ],
      "execution_count": null,
      "outputs": []
    },
    {
      "cell_type": "code",
      "metadata": {
        "id": "aJPtne_UoFIX"
      },
      "source": [
        "m@m"
      ],
      "execution_count": null,
      "outputs": []
    },
    {
      "cell_type": "code",
      "metadata": {
        "id": "MeDekttHoFF-"
      },
      "source": [
        "np.zeros((2,3))"
      ],
      "execution_count": null,
      "outputs": []
    },
    {
      "cell_type": "code",
      "metadata": {
        "id": "ij_lXtyAoFEF"
      },
      "source": [
        "np.ones((3,2))"
      ],
      "execution_count": null,
      "outputs": []
    },
    {
      "cell_type": "code",
      "metadata": {
        "id": "0lELiKmooFAW"
      },
      "source": [
        "r = np.random.random((3,5))*100\n",
        "r"
      ],
      "execution_count": null,
      "outputs": []
    },
    {
      "cell_type": "code",
      "metadata": {
        "id": "h0UuxALYoE9C"
      },
      "source": [
        "rt = r.T\n",
        "rt"
      ],
      "execution_count": null,
      "outputs": []
    },
    {
      "cell_type": "code",
      "metadata": {
        "id": "vBg6RNkJle03"
      },
      "source": [
        "rt[1,2]"
      ],
      "execution_count": null,
      "outputs": []
    },
    {
      "cell_type": "code",
      "metadata": {
        "id": "kTAEpA06leyn"
      },
      "source": [
        "rt[1,:]"
      ],
      "execution_count": null,
      "outputs": []
    },
    {
      "cell_type": "code",
      "metadata": {
        "id": "Izk3OsIflevo"
      },
      "source": [
        "rt[:,2]"
      ],
      "execution_count": null,
      "outputs": []
    },
    {
      "cell_type": "code",
      "metadata": {
        "id": "1RKdPSGqletW"
      },
      "source": [
        "rt[2:5,1:3]"
      ],
      "execution_count": null,
      "outputs": []
    },
    {
      "cell_type": "code",
      "metadata": {
        "id": "JVDCVbnQqaMb"
      },
      "source": [
        "rt > 45"
      ],
      "execution_count": null,
      "outputs": []
    },
    {
      "cell_type": "code",
      "metadata": {
        "id": "LQoYdEy5qaI2"
      },
      "source": [
        "rt[ rt>45 ]"
      ],
      "execution_count": null,
      "outputs": []
    },
    {
      "cell_type": "code",
      "metadata": {
        "id": "EjNtb1hnqaGJ"
      },
      "source": [
        "rt.sum()"
      ],
      "execution_count": null,
      "outputs": []
    },
    {
      "cell_type": "code",
      "metadata": {
        "id": "8zSJJUFIqaC_"
      },
      "source": [
        "rt.sum(axis=0)"
      ],
      "execution_count": null,
      "outputs": []
    },
    {
      "cell_type": "code",
      "metadata": {
        "id": "4lwItJRWqZ_5"
      },
      "source": [
        "rt.sum(axis=1)"
      ],
      "execution_count": null,
      "outputs": []
    },
    {
      "cell_type": "code",
      "metadata": {
        "id": "oNi7Wn3xqZ9J"
      },
      "source": [
        "rt.std()"
      ],
      "execution_count": null,
      "outputs": []
    },
    {
      "cell_type": "code",
      "metadata": {
        "id": "ZucxtqZ4qZ57"
      },
      "source": [
        "rt.std(axis=0)"
      ],
      "execution_count": null,
      "outputs": []
    },
    {
      "cell_type": "code",
      "metadata": {
        "id": "sYzUalUQrNq_"
      },
      "source": [
        "a = np.arange(10)\n",
        "a"
      ],
      "execution_count": null,
      "outputs": []
    },
    {
      "cell_type": "code",
      "metadata": {
        "id": "sR8pVgGnrNns"
      },
      "source": [
        "a2 = a.reshape(2,5)\n",
        "a2"
      ],
      "execution_count": null,
      "outputs": []
    },
    {
      "cell_type": "code",
      "metadata": {
        "id": "eRwV8zBerNlC"
      },
      "source": [
        "a.reshape(5,2)"
      ],
      "execution_count": null,
      "outputs": []
    },
    {
      "cell_type": "code",
      "metadata": {
        "id": "dbiDfz9ZrNjK"
      },
      "source": [
        "a"
      ],
      "execution_count": null,
      "outputs": []
    },
    {
      "cell_type": "code",
      "metadata": {
        "id": "cN4l0okCrNfS"
      },
      "source": [
        "v = np.array([7,8,9])\n",
        "m = np.array([[1,2,3],[4,5,6]])\n",
        "v.shape"
      ],
      "execution_count": null,
      "outputs": []
    },
    {
      "cell_type": "code",
      "metadata": {
        "id": "_b6GmTU8rNc5"
      },
      "source": [
        "m.shape"
      ],
      "execution_count": null,
      "outputs": []
    },
    {
      "cell_type": "code",
      "metadata": {
        "id": "ELVmAd4yrNap"
      },
      "source": [
        "v+m"
      ],
      "execution_count": null,
      "outputs": []
    },
    {
      "cell_type": "code",
      "metadata": {
        "id": "hAQWzknQrNTI"
      },
      "source": [
        "v = np.array([8,9])\n",
        "m = np.array([[1,2,3],[4,5,6]]).T\n",
        "m.shape"
      ],
      "execution_count": null,
      "outputs": []
    },
    {
      "cell_type": "code",
      "metadata": {
        "id": "1oinX2g4s4vg"
      },
      "source": [
        "m"
      ],
      "execution_count": null,
      "outputs": []
    },
    {
      "cell_type": "code",
      "metadata": {
        "id": "5QEbbFFrlemz"
      },
      "source": [
        "v+m"
      ],
      "execution_count": null,
      "outputs": []
    },
    {
      "cell_type": "code",
      "metadata": {
        "id": "glqB04dBlekn"
      },
      "source": [
        "v * m"
      ],
      "execution_count": null,
      "outputs": []
    },
    {
      "cell_type": "code",
      "metadata": {
        "id": "tIeTaE1qr2Xe"
      },
      "source": [
        "v @ m"
      ],
      "execution_count": null,
      "outputs": []
    },
    {
      "cell_type": "code",
      "metadata": {
        "id": "_l2vuG3ar2Vg"
      },
      "source": [
        "m @ v"
      ],
      "execution_count": null,
      "outputs": []
    },
    {
      "cell_type": "markdown",
      "source": [
        "# Matplotlib"
      ],
      "metadata": {
        "id": "7ewrylBUIxsm"
      }
    },
    {
      "cell_type": "code",
      "metadata": {
        "id": "sH7_Fsyer2C9"
      },
      "source": [
        "# Matplotlib\n",
        "import numpy as np\n",
        "import matplotlib.pyplot as plt"
      ],
      "execution_count": null,
      "outputs": []
    },
    {
      "cell_type": "code",
      "metadata": {
        "id": "ep6u59d1r2AN"
      },
      "source": [
        "x = np.linspace(-5, 5, 50)\n",
        "y = np.sin(x)\n",
        "\n",
        "plt.plot(x, y, 'y*', linestyle='dashed', markersize=10)"
      ],
      "execution_count": null,
      "outputs": []
    },
    {
      "cell_type": "code",
      "metadata": {
        "id": "WFQ7zMkbr19N"
      },
      "source": [
        "x = np.linspace(0, 2, 100)\n",
        "plt.plot(x, x, label='lineal')\n",
        "plt.plot(x, x**2, label='cuadrática')\n",
        "plt.plot(x, x**3, label='cúbica')\n",
        "plt.xlabel('eje X')\n",
        "plt.ylabel('f(X)')\n",
        "plt.title('Funciones')\n",
        "plt.grid()\n",
        "plt.legend()\n",
        "plt.show()"
      ],
      "execution_count": null,
      "outputs": []
    },
    {
      "cell_type": "code",
      "metadata": {
        "id": "HiDn0kg31jbm"
      },
      "source": [
        "n = 50\n",
        "x = np.random.rand(n)\n",
        "y = np.random.rand(n)\n",
        "colores = np.random.rand(n) * 20\n",
        "areas = (30 * np.random.rand(n))**2\n",
        "plt.scatter(x,y,s=areas,c=colores,alpha=0.4)\n",
        "plt.show()"
      ],
      "execution_count": null,
      "outputs": []
    },
    {
      "cell_type": "code",
      "metadata": {
        "id": "06tH2iIh1jYr"
      },
      "source": [
        "mu,sigma = 100,15\n",
        "x = mu+sigma * np.random.randn(1000)\n",
        "plt.hist(x, 50, density=True)\n",
        "plt.title('Histograma')\n",
        "plt.text(50, 0.030, r'$\\mu=100,\\ \\sigma=15$')\n",
        "plt.show()"
      ],
      "execution_count": null,
      "outputs": []
    },
    {
      "cell_type": "code",
      "metadata": {
        "id": "2CtNIic71jSE"
      },
      "source": [
        "data={'foo':10,'bar':15,'foobar':5,'barfoo':20}\n",
        "names=list(data.keys())\n",
        "values=list(data.values())\n",
        "fig,((ax1,ax2),(ax3,ax4)) = plt.subplots(2,2,figsize=(8,8),sharey=True)\n",
        "\n",
        "ax1.bar(names,values)\n",
        "ax1.set_title('Barras')\n",
        "\n",
        "ax2.scatter(names,values)\n",
        "ax2.set_title('Dispersión')\n",
        "\n",
        "ax3.plot(names, values)\n",
        "ax3.set_title('Líneas')\n",
        "\n",
        "areas = [v*50 for v in values]\n",
        "ax4.scatter(names,values,s=areas)\n",
        "ax4.set_title('Dispersión con áreas')"
      ],
      "execution_count": null,
      "outputs": []
    },
    {
      "cell_type": "code",
      "metadata": {
        "id": "ln3vlfae1jPw"
      },
      "source": [
        "type(fig)"
      ],
      "execution_count": null,
      "outputs": []
    },
    {
      "cell_type": "code",
      "metadata": {
        "id": "qi0zyEwN8HOE"
      },
      "source": [
        "type(ax1)"
      ],
      "execution_count": null,
      "outputs": []
    },
    {
      "cell_type": "code",
      "metadata": {
        "id": "3Roj7ES28JNK"
      },
      "source": [],
      "execution_count": null,
      "outputs": []
    }
  ]
}