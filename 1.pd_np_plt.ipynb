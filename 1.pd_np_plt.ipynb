{
  "cells": [
    {
      "cell_type": "markdown",
      "metadata": {
        "id": "loJ0tq18pxf2"
      },
      "source": [
        "# Pandas"
      ]
    },
    {
      "cell_type": "code",
      "execution_count": 1,
      "metadata": {
        "id": "63Ejori3EwOr"
      },
      "outputs": [],
      "source": [
        "# Pandas es una biblioteca para acceso y manipulación de datos\n",
        "import pandas as pd"
      ]
    },
    {
      "cell_type": "code",
      "execution_count": 2,
      "metadata": {
        "id": "O-S3_rd8cnyq"
      },
      "outputs": [
        {
          "data": {
            "text/plain": [
              "pandas.core.frame.DataFrame"
            ]
          },
          "execution_count": 2,
          "metadata": {},
          "output_type": "execute_result"
        }
      ],
      "source": [
        "datos = pd.read_csv('https://bit.ly/31B56KB')\n",
        "type(datos)"
      ]
    },
    {
      "cell_type": "code",
      "execution_count": 3,
      "metadata": {
        "id": "IP62-oMEczLp"
      },
      "outputs": [
        {
          "data": {
            "text/html": [
              "<div>\n",
              "<style scoped>\n",
              "    .dataframe tbody tr th:only-of-type {\n",
              "        vertical-align: middle;\n",
              "    }\n",
              "\n",
              "    .dataframe tbody tr th {\n",
              "        vertical-align: top;\n",
              "    }\n",
              "\n",
              "    .dataframe thead th {\n",
              "        text-align: right;\n",
              "    }\n",
              "</style>\n",
              "<table border=\"1\" class=\"dataframe\">\n",
              "  <thead>\n",
              "    <tr style=\"text-align: right;\">\n",
              "      <th></th>\n",
              "      <th>Contaminacion_SO2</th>\n",
              "      <th>Temperatura</th>\n",
              "      <th>Fabricas</th>\n",
              "      <th>Habitantes</th>\n",
              "      <th>Velocidad_viento</th>\n",
              "      <th>Lluvia</th>\n",
              "      <th>Dias_Lluvia</th>\n",
              "    </tr>\n",
              "  </thead>\n",
              "  <tbody>\n",
              "    <tr>\n",
              "      <th>0</th>\n",
              "      <td>10</td>\n",
              "      <td>70.3</td>\n",
              "      <td>213</td>\n",
              "      <td>582</td>\n",
              "      <td>6.0</td>\n",
              "      <td>7.05</td>\n",
              "      <td>36</td>\n",
              "    </tr>\n",
              "    <tr>\n",
              "      <th>1</th>\n",
              "      <td>13</td>\n",
              "      <td>61.0</td>\n",
              "      <td>91</td>\n",
              "      <td>132</td>\n",
              "      <td>8.2</td>\n",
              "      <td>48.52</td>\n",
              "      <td>100</td>\n",
              "    </tr>\n",
              "    <tr>\n",
              "      <th>2</th>\n",
              "      <td>12</td>\n",
              "      <td>56.7</td>\n",
              "      <td>453</td>\n",
              "      <td>716</td>\n",
              "      <td>8.7</td>\n",
              "      <td>20.66</td>\n",
              "      <td>67</td>\n",
              "    </tr>\n",
              "  </tbody>\n",
              "</table>\n",
              "</div>"
            ],
            "text/plain": [
              "   Contaminacion_SO2  Temperatura  Fabricas  Habitantes  Velocidad_viento  \\\n",
              "0                 10         70.3       213         582               6.0   \n",
              "1                 13         61.0        91         132               8.2   \n",
              "2                 12         56.7       453         716               8.7   \n",
              "\n",
              "   Lluvia  Dias_Lluvia  \n",
              "0    7.05           36  \n",
              "1   48.52          100  \n",
              "2   20.66           67  "
            ]
          },
          "execution_count": 3,
          "metadata": {},
          "output_type": "execute_result"
        }
      ],
      "source": [
        "datos.head(3)"
      ]
    },
    {
      "cell_type": "code",
      "execution_count": 4,
      "metadata": {
        "id": "mFu9i6Ukc7kK"
      },
      "outputs": [
        {
          "data": {
            "text/html": [
              "<div>\n",
              "<style scoped>\n",
              "    .dataframe tbody tr th:only-of-type {\n",
              "        vertical-align: middle;\n",
              "    }\n",
              "\n",
              "    .dataframe tbody tr th {\n",
              "        vertical-align: top;\n",
              "    }\n",
              "\n",
              "    .dataframe thead th {\n",
              "        text-align: right;\n",
              "    }\n",
              "</style>\n",
              "<table border=\"1\" class=\"dataframe\">\n",
              "  <thead>\n",
              "    <tr style=\"text-align: right;\">\n",
              "      <th></th>\n",
              "      <th>Contaminacion_SO2</th>\n",
              "      <th>Temperatura</th>\n",
              "      <th>Fabricas</th>\n",
              "      <th>Habitantes</th>\n",
              "      <th>Velocidad_viento</th>\n",
              "      <th>Lluvia</th>\n",
              "      <th>Dias_Lluvia</th>\n",
              "    </tr>\n",
              "  </thead>\n",
              "  <tbody>\n",
              "    <tr>\n",
              "      <th>38</th>\n",
              "      <td>29</td>\n",
              "      <td>51.1</td>\n",
              "      <td>379</td>\n",
              "      <td>531</td>\n",
              "      <td>9.4</td>\n",
              "      <td>38.79</td>\n",
              "      <td>164</td>\n",
              "    </tr>\n",
              "    <tr>\n",
              "      <th>39</th>\n",
              "      <td>31</td>\n",
              "      <td>55.2</td>\n",
              "      <td>35</td>\n",
              "      <td>71</td>\n",
              "      <td>6.5</td>\n",
              "      <td>40.75</td>\n",
              "      <td>148</td>\n",
              "    </tr>\n",
              "    <tr>\n",
              "      <th>40</th>\n",
              "      <td>16</td>\n",
              "      <td>45.7</td>\n",
              "      <td>569</td>\n",
              "      <td>717</td>\n",
              "      <td>11.8</td>\n",
              "      <td>29.07</td>\n",
              "      <td>123</td>\n",
              "    </tr>\n",
              "  </tbody>\n",
              "</table>\n",
              "</div>"
            ],
            "text/plain": [
              "    Contaminacion_SO2  Temperatura  Fabricas  Habitantes  Velocidad_viento  \\\n",
              "38                 29         51.1       379         531               9.4   \n",
              "39                 31         55.2        35          71               6.5   \n",
              "40                 16         45.7       569         717              11.8   \n",
              "\n",
              "    Lluvia  Dias_Lluvia  \n",
              "38   38.79          164  \n",
              "39   40.75          148  \n",
              "40   29.07          123  "
            ]
          },
          "execution_count": 4,
          "metadata": {},
          "output_type": "execute_result"
        }
      ],
      "source": [
        "datos.tail(3)"
      ]
    },
    {
      "cell_type": "code",
      "execution_count": 5,
      "metadata": {
        "id": "1zG3kttQdMxJ"
      },
      "outputs": [
        {
          "name": "stdout",
          "output_type": "stream",
          "text": [
            "<class 'pandas.core.frame.DataFrame'>\n",
            "RangeIndex: 41 entries, 0 to 40\n",
            "Data columns (total 7 columns):\n",
            " #   Column             Non-Null Count  Dtype  \n",
            "---  ------             --------------  -----  \n",
            " 0   Contaminacion_SO2  41 non-null     int64  \n",
            " 1   Temperatura        41 non-null     float64\n",
            " 2   Fabricas           41 non-null     int64  \n",
            " 3   Habitantes         41 non-null     int64  \n",
            " 4   Velocidad_viento   41 non-null     float64\n",
            " 5   Lluvia             41 non-null     float64\n",
            " 6   Dias_Lluvia        41 non-null     int64  \n",
            "dtypes: float64(3), int64(4)\n",
            "memory usage: 2.4 KB\n"
          ]
        }
      ],
      "source": [
        "datos.info()"
      ]
    },
    {
      "cell_type": "code",
      "execution_count": 6,
      "metadata": {
        "id": "lQm4cHD6dYKS"
      },
      "outputs": [
        {
          "data": {
            "text/html": [
              "<div>\n",
              "<style scoped>\n",
              "    .dataframe tbody tr th:only-of-type {\n",
              "        vertical-align: middle;\n",
              "    }\n",
              "\n",
              "    .dataframe tbody tr th {\n",
              "        vertical-align: top;\n",
              "    }\n",
              "\n",
              "    .dataframe thead th {\n",
              "        text-align: right;\n",
              "    }\n",
              "</style>\n",
              "<table border=\"1\" class=\"dataframe\">\n",
              "  <thead>\n",
              "    <tr style=\"text-align: right;\">\n",
              "      <th></th>\n",
              "      <th>Contaminacion_SO2</th>\n",
              "      <th>Temperatura</th>\n",
              "      <th>Fabricas</th>\n",
              "      <th>Habitantes</th>\n",
              "      <th>Velocidad_viento</th>\n",
              "      <th>Lluvia</th>\n",
              "      <th>Dias_Lluvia</th>\n",
              "    </tr>\n",
              "  </thead>\n",
              "  <tbody>\n",
              "    <tr>\n",
              "      <th>count</th>\n",
              "      <td>41.000000</td>\n",
              "      <td>41.000000</td>\n",
              "      <td>41.000000</td>\n",
              "      <td>41.000000</td>\n",
              "      <td>41.000000</td>\n",
              "      <td>41.000000</td>\n",
              "      <td>41.000000</td>\n",
              "    </tr>\n",
              "    <tr>\n",
              "      <th>mean</th>\n",
              "      <td>30.048780</td>\n",
              "      <td>55.763415</td>\n",
              "      <td>463.097561</td>\n",
              "      <td>608.609756</td>\n",
              "      <td>9.443902</td>\n",
              "      <td>36.769024</td>\n",
              "      <td>113.902439</td>\n",
              "    </tr>\n",
              "    <tr>\n",
              "      <th>std</th>\n",
              "      <td>23.472272</td>\n",
              "      <td>7.227716</td>\n",
              "      <td>563.473948</td>\n",
              "      <td>579.113023</td>\n",
              "      <td>1.428644</td>\n",
              "      <td>11.771550</td>\n",
              "      <td>26.506419</td>\n",
              "    </tr>\n",
              "    <tr>\n",
              "      <th>min</th>\n",
              "      <td>8.000000</td>\n",
              "      <td>43.500000</td>\n",
              "      <td>35.000000</td>\n",
              "      <td>71.000000</td>\n",
              "      <td>6.000000</td>\n",
              "      <td>7.050000</td>\n",
              "      <td>36.000000</td>\n",
              "    </tr>\n",
              "    <tr>\n",
              "      <th>25%</th>\n",
              "      <td>13.000000</td>\n",
              "      <td>50.600000</td>\n",
              "      <td>181.000000</td>\n",
              "      <td>299.000000</td>\n",
              "      <td>8.700000</td>\n",
              "      <td>30.960000</td>\n",
              "      <td>103.000000</td>\n",
              "    </tr>\n",
              "    <tr>\n",
              "      <th>50%</th>\n",
              "      <td>26.000000</td>\n",
              "      <td>54.600000</td>\n",
              "      <td>347.000000</td>\n",
              "      <td>515.000000</td>\n",
              "      <td>9.300000</td>\n",
              "      <td>38.740000</td>\n",
              "      <td>115.000000</td>\n",
              "    </tr>\n",
              "    <tr>\n",
              "      <th>75%</th>\n",
              "      <td>35.000000</td>\n",
              "      <td>59.300000</td>\n",
              "      <td>462.000000</td>\n",
              "      <td>717.000000</td>\n",
              "      <td>10.600000</td>\n",
              "      <td>43.110000</td>\n",
              "      <td>128.000000</td>\n",
              "    </tr>\n",
              "    <tr>\n",
              "      <th>max</th>\n",
              "      <td>110.000000</td>\n",
              "      <td>75.500000</td>\n",
              "      <td>3344.000000</td>\n",
              "      <td>3369.000000</td>\n",
              "      <td>12.700000</td>\n",
              "      <td>59.800000</td>\n",
              "      <td>166.000000</td>\n",
              "    </tr>\n",
              "  </tbody>\n",
              "</table>\n",
              "</div>"
            ],
            "text/plain": [
              "       Contaminacion_SO2  Temperatura     Fabricas   Habitantes  \\\n",
              "count          41.000000    41.000000    41.000000    41.000000   \n",
              "mean           30.048780    55.763415   463.097561   608.609756   \n",
              "std            23.472272     7.227716   563.473948   579.113023   \n",
              "min             8.000000    43.500000    35.000000    71.000000   \n",
              "25%            13.000000    50.600000   181.000000   299.000000   \n",
              "50%            26.000000    54.600000   347.000000   515.000000   \n",
              "75%            35.000000    59.300000   462.000000   717.000000   \n",
              "max           110.000000    75.500000  3344.000000  3369.000000   \n",
              "\n",
              "       Velocidad_viento     Lluvia  Dias_Lluvia  \n",
              "count         41.000000  41.000000    41.000000  \n",
              "mean           9.443902  36.769024   113.902439  \n",
              "std            1.428644  11.771550    26.506419  \n",
              "min            6.000000   7.050000    36.000000  \n",
              "25%            8.700000  30.960000   103.000000  \n",
              "50%            9.300000  38.740000   115.000000  \n",
              "75%           10.600000  43.110000   128.000000  \n",
              "max           12.700000  59.800000   166.000000  "
            ]
          },
          "execution_count": 6,
          "metadata": {},
          "output_type": "execute_result"
        }
      ],
      "source": [
        "datos.describe()"
      ]
    },
    {
      "cell_type": "code",
      "execution_count": 7,
      "metadata": {
        "id": "-j0A93rBdvbQ"
      },
      "outputs": [
        {
          "data": {
            "text/plain": [
              "41"
            ]
          },
          "execution_count": 7,
          "metadata": {},
          "output_type": "execute_result"
        }
      ],
      "source": [
        "len(datos)"
      ]
    },
    {
      "cell_type": "code",
      "execution_count": 8,
      "metadata": {
        "id": "NlhIEjDtd79i"
      },
      "outputs": [
        {
          "data": {
            "text/plain": [
              "Index(['Contaminacion_SO2', 'Temperatura', 'Fabricas', 'Habitantes',\n",
              "       'Velocidad_viento', 'Lluvia', 'Dias_Lluvia'],\n",
              "      dtype='object')"
            ]
          },
          "execution_count": 8,
          "metadata": {},
          "output_type": "execute_result"
        }
      ],
      "source": [
        "datos.columns"
      ]
    },
    {
      "cell_type": "code",
      "execution_count": 21,
      "metadata": {
        "id": "3b7Hnv_ueAtU"
      },
      "outputs": [
        {
          "data": {
            "text/plain": [
              "Contaminacion_SO2      int64\n",
              "Temperatura          float64\n",
              "Fabricas               int64\n",
              "Habitantes             int64\n",
              "Velocidad_viento     float64\n",
              "Lluvia               float64\n",
              "Dias_Lluvia            int64\n",
              "dtype: object"
            ]
          },
          "execution_count": 21,
          "metadata": {},
          "output_type": "execute_result"
        }
      ],
      "source": [
        "datos.dtypes"
      ]
    },
    {
      "cell_type": "code",
      "execution_count": 10,
      "metadata": {
        "id": "FAJR25WUeH6Z"
      },
      "outputs": [
        {
          "data": {
            "text/plain": [
              "(41, 7)"
            ]
          },
          "execution_count": 10,
          "metadata": {},
          "output_type": "execute_result"
        }
      ],
      "source": [
        "datos.shape"
      ]
    },
    {
      "cell_type": "code",
      "execution_count": 22,
      "metadata": {
        "id": "mBFDIW6qeSpC"
      },
      "outputs": [
        {
          "data": {
            "text/plain": [
              "41"
            ]
          },
          "execution_count": 22,
          "metadata": {},
          "output_type": "execute_result"
        }
      ],
      "source": [
        "datos.shape[0]"
      ]
    },
    {
      "cell_type": "code",
      "execution_count": 23,
      "metadata": {
        "id": "NvE8Iz11ebXh"
      },
      "outputs": [
        {
          "data": {
            "text/plain": [
              "array([[  10.  ,   70.3 ,  213.  ,  582.  ,    6.  ,    7.05,   36.  ],\n",
              "       [  13.  ,   61.  ,   91.  ,  132.  ,    8.2 ,   48.52,  100.  ],\n",
              "       [  12.  ,   56.7 ,  453.  ,  716.  ,    8.7 ,   20.66,   67.  ],\n",
              "       [  17.  ,   51.9 ,  454.  ,  515.  ,    9.  ,   12.95,   86.  ],\n",
              "       [  56.  ,   49.1 ,  412.  ,  158.  ,    9.  ,   43.37,  127.  ],\n",
              "       [  36.  ,   54.  ,   80.  ,   80.  ,    9.  ,   40.25,  114.  ],\n",
              "       [  29.  ,   57.3 ,  434.  ,  757.  ,    9.3 ,   38.89,  111.  ],\n",
              "       [  14.  ,   68.4 ,  136.  ,  529.  ,    8.8 ,   54.47,  116.  ],\n",
              "       [  10.  ,   75.5 ,  207.  ,  335.  ,    9.  ,   59.8 ,  128.  ],\n",
              "       [  24.  ,   61.5 ,  368.  ,  497.  ,    9.1 ,   48.34,  115.  ],\n",
              "       [ 110.  ,   50.6 , 3344.  , 3369.  ,   10.4 ,   34.44,  122.  ],\n",
              "       [  28.  ,   52.3 ,  361.  ,  746.  ,    9.7 ,   38.74,  121.  ],\n",
              "       [  17.  ,   49.  ,  104.  ,  201.  ,   11.2 ,   30.85,  103.  ],\n",
              "       [   8.  ,   56.6 ,  125.  ,  277.  ,   12.7 ,   30.58,   82.  ],\n",
              "       [  30.  ,   55.6 ,  291.  ,  593.  ,    8.3 ,   43.11,  123.  ],\n",
              "       [   9.  ,   68.3 ,  204.  ,  361.  ,    8.4 ,   56.77,  113.  ],\n",
              "       [  47.  ,   55.  ,  625.  ,  905.  ,    9.6 ,   41.31,  111.  ],\n",
              "       [  35.  ,   49.9 , 1064.  , 1513.  ,   10.1 ,   30.96,  129.  ],\n",
              "       [  29.  ,   43.5 ,  699.  ,  744.  ,   10.6 ,   25.94,  137.  ],\n",
              "       [  14.  ,   54.5 ,  381.  ,  507.  ,   10.  ,   37.  ,   99.  ],\n",
              "       [  56.  ,   55.9 ,  775.  ,  622.  ,    9.5 ,   35.89,  105.  ],\n",
              "       [  14.  ,   51.5 ,  181.  ,  347.  ,   10.9 ,   30.18,   98.  ],\n",
              "       [  11.  ,   56.8 ,   46.  ,  244.  ,    8.9 ,    7.77,   58.  ],\n",
              "       [  46.  ,   47.6 ,   44.  ,  116.  ,    8.8 ,   33.36,  135.  ],\n",
              "       [  11.  ,   47.1 ,  391.  ,  463.  ,   12.4 ,   36.11,  166.  ],\n",
              "       [  23.  ,   54.  ,  462.  ,  453.  ,    7.1 ,   39.04,  132.  ],\n",
              "       [  65.  ,   49.7 , 1007.  ,  751.  ,   10.9 ,   34.99,  155.  ],\n",
              "       [  26.  ,   51.5 ,  266.  ,  540.  ,    8.6 ,   37.01,  134.  ],\n",
              "       [  69.  ,   54.6 , 1692.  , 1950.  ,    9.6 ,   39.93,  115.  ],\n",
              "       [  61.  ,   50.4 ,  347.  ,  520.  ,    9.4 ,   36.22,  147.  ],\n",
              "       [  94.  ,   50.  ,  343.  ,  179.  ,   10.6 ,   42.75,  125.  ],\n",
              "       [  10.  ,   61.6 ,  337.  ,  624.  ,    9.2 ,   49.1 ,  105.  ],\n",
              "       [  18.  ,   59.4 ,  275.  ,  448.  ,    7.9 ,   46.  ,  119.  ],\n",
              "       [   9.  ,   66.2 ,  641.  ,  844.  ,   10.9 ,   35.94,   78.  ],\n",
              "       [  10.  ,   68.9 ,  721.  , 1233.  ,   10.8 ,   48.19,  103.  ],\n",
              "       [  28.  ,   51.  ,  137.  ,  176.  ,    8.7 ,   15.17,   89.  ],\n",
              "       [  31.  ,   59.3 ,   96.  ,  308.  ,   10.6 ,   44.68,  116.  ],\n",
              "       [  26.  ,   57.8 ,  197.  ,  299.  ,    7.6 ,   42.59,  115.  ],\n",
              "       [  29.  ,   51.1 ,  379.  ,  531.  ,    9.4 ,   38.79,  164.  ],\n",
              "       [  31.  ,   55.2 ,   35.  ,   71.  ,    6.5 ,   40.75,  148.  ],\n",
              "       [  16.  ,   45.7 ,  569.  ,  717.  ,   11.8 ,   29.07,  123.  ]])"
            ]
          },
          "execution_count": 23,
          "metadata": {},
          "output_type": "execute_result"
        }
      ],
      "source": [
        "datos.values"
      ]
    },
    {
      "cell_type": "code",
      "execution_count": 24,
      "metadata": {
        "id": "mIFj1TLRe1Gn"
      },
      "outputs": [
        {
          "data": {
            "text/plain": [
              "0    70.3\n",
              "1    61.0\n",
              "2    56.7\n",
              "Name: Temperatura, dtype: float64"
            ]
          },
          "execution_count": 24,
          "metadata": {},
          "output_type": "execute_result"
        }
      ],
      "source": [
        "datos['Temperatura'].head(3)"
      ]
    },
    {
      "cell_type": "code",
      "execution_count": 25,
      "metadata": {
        "id": "GQuScLkKYEpy"
      },
      "outputs": [
        {
          "data": {
            "text/plain": [
              "0    70.3\n",
              "1    61.0\n",
              "2    56.7\n",
              "Name: Temperatura, dtype: float64"
            ]
          },
          "execution_count": 25,
          "metadata": {},
          "output_type": "execute_result"
        }
      ],
      "source": [
        "datos.Temperatura.head(3)"
      ]
    },
    {
      "cell_type": "code",
      "execution_count": 26,
      "metadata": {
        "id": "pTjX6cuQYEml"
      },
      "outputs": [
        {
          "data": {
            "text/plain": [
              "pandas.core.series.Series"
            ]
          },
          "execution_count": 26,
          "metadata": {},
          "output_type": "execute_result"
        }
      ],
      "source": [
        "# Series: almacena una columna\n",
        "s = datos.Contaminacion_SO2\n",
        "type(s)"
      ]
    },
    {
      "cell_type": "code",
      "execution_count": 27,
      "metadata": {
        "id": "oqTQGfyPYEkQ"
      },
      "outputs": [
        {
          "data": {
            "text/plain": [
              "dtype('int64')"
            ]
          },
          "execution_count": 27,
          "metadata": {},
          "output_type": "execute_result"
        }
      ],
      "source": [
        "s.dtype"
      ]
    },
    {
      "cell_type": "code",
      "execution_count": 28,
      "metadata": {
        "id": "Z9cyJWFUYEhK"
      },
      "outputs": [
        {
          "data": {
            "text/plain": [
              "array([ 10,  13,  12,  17,  56,  36,  29,  14,  10,  24, 110,  28,  17,\n",
              "         8,  30,   9,  47,  35,  29,  14,  56,  14,  11,  46,  11,  23,\n",
              "        65,  26,  69,  61,  94,  10,  18,   9,  10,  28,  31,  26,  29,\n",
              "        31,  16])"
            ]
          },
          "execution_count": 28,
          "metadata": {},
          "output_type": "execute_result"
        }
      ],
      "source": [
        "s.values"
      ]
    },
    {
      "cell_type": "code",
      "execution_count": 29,
      "metadata": {
        "id": "qyfJ2CfBYEez"
      },
      "outputs": [
        {
          "data": {
            "text/plain": [
              "count     41.000000\n",
              "mean      30.048780\n",
              "std       23.472272\n",
              "min        8.000000\n",
              "25%       13.000000\n",
              "50%       26.000000\n",
              "75%       35.000000\n",
              "max      110.000000\n",
              "Name: Contaminacion_SO2, dtype: float64"
            ]
          },
          "execution_count": 29,
          "metadata": {},
          "output_type": "execute_result"
        }
      ],
      "source": [
        "s.describe()"
      ]
    },
    {
      "cell_type": "code",
      "execution_count": 30,
      "metadata": {
        "id": "xE4IFF6TYEcC"
      },
      "outputs": [
        {
          "data": {
            "text/plain": [
              "np.float64(30.048780487804876)"
            ]
          },
          "execution_count": 30,
          "metadata": {},
          "output_type": "execute_result"
        }
      ],
      "source": [
        "s.mean()"
      ]
    },
    {
      "cell_type": "code",
      "execution_count": 31,
      "metadata": {
        "id": "DKYEMWtvYEZX"
      },
      "outputs": [
        {
          "data": {
            "text/plain": [
              "np.int64(1232)"
            ]
          },
          "execution_count": 31,
          "metadata": {},
          "output_type": "execute_result"
        }
      ],
      "source": [
        "s.sum()"
      ]
    },
    {
      "cell_type": "code",
      "execution_count": 32,
      "metadata": {
        "id": "SPYGROsEYEWq"
      },
      "outputs": [
        {
          "data": {
            "text/plain": [
              "array([ 10,  13,  12,  17,  56,  36,  29,  14,  24, 110,  28,   8,  30,\n",
              "         9,  47,  35,  11,  46,  23,  65,  26,  69,  61,  94,  18,  31,\n",
              "        16])"
            ]
          },
          "execution_count": 32,
          "metadata": {},
          "output_type": "execute_result"
        }
      ],
      "source": [
        "s.unique()"
      ]
    },
    {
      "cell_type": "code",
      "execution_count": 33,
      "metadata": {
        "id": "jFz8S0tPYEUC"
      },
      "outputs": [
        {
          "data": {
            "text/plain": [
              "Contaminacion_SO2\n",
              "10     4\n",
              "14     3\n",
              "29     3\n",
              "28     2\n",
              "17     2\n",
              "56     2\n",
              "9      2\n",
              "26     2\n",
              "31     2\n",
              "11     2\n",
              "13     1\n",
              "110    1\n",
              "24     1\n",
              "36     1\n",
              "12     1\n",
              "47     1\n",
              "35     1\n",
              "30     1\n",
              "8      1\n",
              "23     1\n",
              "46     1\n",
              "69     1\n",
              "65     1\n",
              "61     1\n",
              "94     1\n",
              "18     1\n",
              "16     1\n",
              "Name: count, dtype: int64"
            ]
          },
          "execution_count": 33,
          "metadata": {},
          "output_type": "execute_result"
        }
      ],
      "source": [
        "s.value_counts()"
      ]
    },
    {
      "cell_type": "code",
      "execution_count": 36,
      "metadata": {
        "id": "RbE7iTbPYERf"
      },
      "outputs": [
        {
          "data": {
            "text/plain": [
              "13     8\n",
              "15     9\n",
              "33     9\n",
              "0     10\n",
              "31    10\n",
              "8     10\n",
              "34    10\n",
              "22    11\n",
              "24    11\n",
              "2     12\n",
              "Name: Contaminacion_SO2, dtype: int64"
            ]
          },
          "execution_count": 36,
          "metadata": {},
          "output_type": "execute_result"
        }
      ],
      "source": [
        "s.sort_values(ascending=True).head(10)"
      ]
    },
    {
      "cell_type": "code",
      "execution_count": 37,
      "metadata": {
        "id": "h_3uAsn1YEPG"
      },
      "outputs": [
        {
          "data": {
            "text/plain": [
              "9      24\n",
              "10    110\n",
              "11     28\n",
              "12     17\n",
              "13      8\n",
              "14     30\n",
              "15      9\n",
              "Name: Contaminacion_SO2, dtype: int64"
            ]
          },
          "execution_count": 37,
          "metadata": {},
          "output_type": "execute_result"
        }
      ],
      "source": [
        "s[9:16]"
      ]
    },
    {
      "cell_type": "code",
      "execution_count": 38,
      "metadata": {
        "id": "BVm6Q79cYEMR"
      },
      "outputs": [
        {
          "data": {
            "text/html": [
              "<div>\n",
              "<style scoped>\n",
              "    .dataframe tbody tr th:only-of-type {\n",
              "        vertical-align: middle;\n",
              "    }\n",
              "\n",
              "    .dataframe tbody tr th {\n",
              "        vertical-align: top;\n",
              "    }\n",
              "\n",
              "    .dataframe thead th {\n",
              "        text-align: right;\n",
              "    }\n",
              "</style>\n",
              "<table border=\"1\" class=\"dataframe\">\n",
              "  <thead>\n",
              "    <tr style=\"text-align: right;\">\n",
              "      <th></th>\n",
              "      <th>Contaminacion_SO2</th>\n",
              "      <th>Temperatura</th>\n",
              "      <th>Fabricas</th>\n",
              "      <th>Habitantes</th>\n",
              "      <th>Velocidad_viento</th>\n",
              "      <th>Lluvia</th>\n",
              "      <th>Dias_Lluvia</th>\n",
              "    </tr>\n",
              "  </thead>\n",
              "  <tbody>\n",
              "    <tr>\n",
              "      <th>9</th>\n",
              "      <td>24</td>\n",
              "      <td>61.5</td>\n",
              "      <td>368</td>\n",
              "      <td>497</td>\n",
              "      <td>9.1</td>\n",
              "      <td>48.34</td>\n",
              "      <td>115</td>\n",
              "    </tr>\n",
              "    <tr>\n",
              "      <th>10</th>\n",
              "      <td>110</td>\n",
              "      <td>50.6</td>\n",
              "      <td>3344</td>\n",
              "      <td>3369</td>\n",
              "      <td>10.4</td>\n",
              "      <td>34.44</td>\n",
              "      <td>122</td>\n",
              "    </tr>\n",
              "    <tr>\n",
              "      <th>11</th>\n",
              "      <td>28</td>\n",
              "      <td>52.3</td>\n",
              "      <td>361</td>\n",
              "      <td>746</td>\n",
              "      <td>9.7</td>\n",
              "      <td>38.74</td>\n",
              "      <td>121</td>\n",
              "    </tr>\n",
              "    <tr>\n",
              "      <th>12</th>\n",
              "      <td>17</td>\n",
              "      <td>49.0</td>\n",
              "      <td>104</td>\n",
              "      <td>201</td>\n",
              "      <td>11.2</td>\n",
              "      <td>30.85</td>\n",
              "      <td>103</td>\n",
              "    </tr>\n",
              "    <tr>\n",
              "      <th>13</th>\n",
              "      <td>8</td>\n",
              "      <td>56.6</td>\n",
              "      <td>125</td>\n",
              "      <td>277</td>\n",
              "      <td>12.7</td>\n",
              "      <td>30.58</td>\n",
              "      <td>82</td>\n",
              "    </tr>\n",
              "    <tr>\n",
              "      <th>14</th>\n",
              "      <td>30</td>\n",
              "      <td>55.6</td>\n",
              "      <td>291</td>\n",
              "      <td>593</td>\n",
              "      <td>8.3</td>\n",
              "      <td>43.11</td>\n",
              "      <td>123</td>\n",
              "    </tr>\n",
              "    <tr>\n",
              "      <th>15</th>\n",
              "      <td>9</td>\n",
              "      <td>68.3</td>\n",
              "      <td>204</td>\n",
              "      <td>361</td>\n",
              "      <td>8.4</td>\n",
              "      <td>56.77</td>\n",
              "      <td>113</td>\n",
              "    </tr>\n",
              "  </tbody>\n",
              "</table>\n",
              "</div>"
            ],
            "text/plain": [
              "    Contaminacion_SO2  Temperatura  Fabricas  Habitantes  Velocidad_viento  \\\n",
              "9                  24         61.5       368         497               9.1   \n",
              "10                110         50.6      3344        3369              10.4   \n",
              "11                 28         52.3       361         746               9.7   \n",
              "12                 17         49.0       104         201              11.2   \n",
              "13                  8         56.6       125         277              12.7   \n",
              "14                 30         55.6       291         593               8.3   \n",
              "15                  9         68.3       204         361               8.4   \n",
              "\n",
              "    Lluvia  Dias_Lluvia  \n",
              "9    48.34          115  \n",
              "10   34.44          122  \n",
              "11   38.74          121  \n",
              "12   30.85          103  \n",
              "13   30.58           82  \n",
              "14   43.11          123  \n",
              "15   56.77          113  "
            ]
          },
          "execution_count": 38,
          "metadata": {},
          "output_type": "execute_result"
        }
      ],
      "source": [
        "datos[9:16]"
      ]
    },
    {
      "cell_type": "code",
      "execution_count": 39,
      "metadata": {
        "id": "ra5zTPVKYEJz"
      },
      "outputs": [
        {
          "data": {
            "text/html": [
              "<div>\n",
              "<style scoped>\n",
              "    .dataframe tbody tr th:only-of-type {\n",
              "        vertical-align: middle;\n",
              "    }\n",
              "\n",
              "    .dataframe tbody tr th {\n",
              "        vertical-align: top;\n",
              "    }\n",
              "\n",
              "    .dataframe thead th {\n",
              "        text-align: right;\n",
              "    }\n",
              "</style>\n",
              "<table border=\"1\" class=\"dataframe\">\n",
              "  <thead>\n",
              "    <tr style=\"text-align: right;\">\n",
              "      <th></th>\n",
              "      <th>Contaminacion_SO2</th>\n",
              "      <th>Temperatura</th>\n",
              "      <th>Fabricas</th>\n",
              "      <th>Habitantes</th>\n",
              "      <th>Velocidad_viento</th>\n",
              "      <th>Lluvia</th>\n",
              "      <th>Dias_Lluvia</th>\n",
              "    </tr>\n",
              "  </thead>\n",
              "  <tbody>\n",
              "    <tr>\n",
              "      <th>3</th>\n",
              "      <td>17</td>\n",
              "      <td>51.9</td>\n",
              "      <td>454</td>\n",
              "      <td>515</td>\n",
              "      <td>9.0</td>\n",
              "      <td>12.95</td>\n",
              "      <td>86</td>\n",
              "    </tr>\n",
              "    <tr>\n",
              "      <th>4</th>\n",
              "      <td>56</td>\n",
              "      <td>49.1</td>\n",
              "      <td>412</td>\n",
              "      <td>158</td>\n",
              "      <td>9.0</td>\n",
              "      <td>43.37</td>\n",
              "      <td>127</td>\n",
              "    </tr>\n",
              "    <tr>\n",
              "      <th>5</th>\n",
              "      <td>36</td>\n",
              "      <td>54.0</td>\n",
              "      <td>80</td>\n",
              "      <td>80</td>\n",
              "      <td>9.0</td>\n",
              "      <td>40.25</td>\n",
              "      <td>114</td>\n",
              "    </tr>\n",
              "    <tr>\n",
              "      <th>6</th>\n",
              "      <td>29</td>\n",
              "      <td>57.3</td>\n",
              "      <td>434</td>\n",
              "      <td>757</td>\n",
              "      <td>9.3</td>\n",
              "      <td>38.89</td>\n",
              "      <td>111</td>\n",
              "    </tr>\n",
              "    <tr>\n",
              "      <th>7</th>\n",
              "      <td>14</td>\n",
              "      <td>68.4</td>\n",
              "      <td>136</td>\n",
              "      <td>529</td>\n",
              "      <td>8.8</td>\n",
              "      <td>54.47</td>\n",
              "      <td>116</td>\n",
              "    </tr>\n",
              "  </tbody>\n",
              "</table>\n",
              "</div>"
            ],
            "text/plain": [
              "   Contaminacion_SO2  Temperatura  Fabricas  Habitantes  Velocidad_viento  \\\n",
              "3                 17         51.9       454         515               9.0   \n",
              "4                 56         49.1       412         158               9.0   \n",
              "5                 36         54.0        80          80               9.0   \n",
              "6                 29         57.3       434         757               9.3   \n",
              "7                 14         68.4       136         529               8.8   \n",
              "\n",
              "   Lluvia  Dias_Lluvia  \n",
              "3   12.95           86  \n",
              "4   43.37          127  \n",
              "5   40.25          114  \n",
              "6   38.89          111  \n",
              "7   54.47          116  "
            ]
          },
          "execution_count": 39,
          "metadata": {},
          "output_type": "execute_result"
        }
      ],
      "source": [
        "datos.iloc[3:8,:]"
      ]
    },
    {
      "cell_type": "code",
      "execution_count": 40,
      "metadata": {
        "id": "HDTrYMT2YEHN"
      },
      "outputs": [
        {
          "data": {
            "text/html": [
              "<div>\n",
              "<style scoped>\n",
              "    .dataframe tbody tr th:only-of-type {\n",
              "        vertical-align: middle;\n",
              "    }\n",
              "\n",
              "    .dataframe tbody tr th {\n",
              "        vertical-align: top;\n",
              "    }\n",
              "\n",
              "    .dataframe thead th {\n",
              "        text-align: right;\n",
              "    }\n",
              "</style>\n",
              "<table border=\"1\" class=\"dataframe\">\n",
              "  <thead>\n",
              "    <tr style=\"text-align: right;\">\n",
              "      <th></th>\n",
              "      <th>Fabricas</th>\n",
              "      <th>Habitantes</th>\n",
              "      <th>Velocidad_viento</th>\n",
              "      <th>Lluvia</th>\n",
              "    </tr>\n",
              "  </thead>\n",
              "  <tbody>\n",
              "    <tr>\n",
              "      <th>3</th>\n",
              "      <td>454</td>\n",
              "      <td>515</td>\n",
              "      <td>9.0</td>\n",
              "      <td>12.95</td>\n",
              "    </tr>\n",
              "    <tr>\n",
              "      <th>4</th>\n",
              "      <td>412</td>\n",
              "      <td>158</td>\n",
              "      <td>9.0</td>\n",
              "      <td>43.37</td>\n",
              "    </tr>\n",
              "    <tr>\n",
              "      <th>5</th>\n",
              "      <td>80</td>\n",
              "      <td>80</td>\n",
              "      <td>9.0</td>\n",
              "      <td>40.25</td>\n",
              "    </tr>\n",
              "    <tr>\n",
              "      <th>6</th>\n",
              "      <td>434</td>\n",
              "      <td>757</td>\n",
              "      <td>9.3</td>\n",
              "      <td>38.89</td>\n",
              "    </tr>\n",
              "    <tr>\n",
              "      <th>7</th>\n",
              "      <td>136</td>\n",
              "      <td>529</td>\n",
              "      <td>8.8</td>\n",
              "      <td>54.47</td>\n",
              "    </tr>\n",
              "  </tbody>\n",
              "</table>\n",
              "</div>"
            ],
            "text/plain": [
              "   Fabricas  Habitantes  Velocidad_viento  Lluvia\n",
              "3       454         515               9.0   12.95\n",
              "4       412         158               9.0   43.37\n",
              "5        80          80               9.0   40.25\n",
              "6       434         757               9.3   38.89\n",
              "7       136         529               8.8   54.47"
            ]
          },
          "execution_count": 40,
          "metadata": {},
          "output_type": "execute_result"
        }
      ],
      "source": [
        "datos.iloc[3:8,2:6]"
      ]
    },
    {
      "cell_type": "code",
      "execution_count": 41,
      "metadata": {
        "id": "QJcfjF-kYEEh"
      },
      "outputs": [
        {
          "data": {
            "text/html": [
              "<div>\n",
              "<style scoped>\n",
              "    .dataframe tbody tr th:only-of-type {\n",
              "        vertical-align: middle;\n",
              "    }\n",
              "\n",
              "    .dataframe tbody tr th {\n",
              "        vertical-align: top;\n",
              "    }\n",
              "\n",
              "    .dataframe thead th {\n",
              "        text-align: right;\n",
              "    }\n",
              "</style>\n",
              "<table border=\"1\" class=\"dataframe\">\n",
              "  <thead>\n",
              "    <tr style=\"text-align: right;\">\n",
              "      <th></th>\n",
              "      <th>Fabricas</th>\n",
              "      <th>Habitantes</th>\n",
              "      <th>Velocidad_viento</th>\n",
              "      <th>Lluvia</th>\n",
              "    </tr>\n",
              "  </thead>\n",
              "  <tbody>\n",
              "    <tr>\n",
              "      <th>0</th>\n",
              "      <td>213</td>\n",
              "      <td>582</td>\n",
              "      <td>6.0</td>\n",
              "      <td>7.05</td>\n",
              "    </tr>\n",
              "    <tr>\n",
              "      <th>1</th>\n",
              "      <td>91</td>\n",
              "      <td>132</td>\n",
              "      <td>8.2</td>\n",
              "      <td>48.52</td>\n",
              "    </tr>\n",
              "    <tr>\n",
              "      <th>2</th>\n",
              "      <td>453</td>\n",
              "      <td>716</td>\n",
              "      <td>8.7</td>\n",
              "      <td>20.66</td>\n",
              "    </tr>\n",
              "    <tr>\n",
              "      <th>3</th>\n",
              "      <td>454</td>\n",
              "      <td>515</td>\n",
              "      <td>9.0</td>\n",
              "      <td>12.95</td>\n",
              "    </tr>\n",
              "    <tr>\n",
              "      <th>4</th>\n",
              "      <td>412</td>\n",
              "      <td>158</td>\n",
              "      <td>9.0</td>\n",
              "      <td>43.37</td>\n",
              "    </tr>\n",
              "    <tr>\n",
              "      <th>5</th>\n",
              "      <td>80</td>\n",
              "      <td>80</td>\n",
              "      <td>9.0</td>\n",
              "      <td>40.25</td>\n",
              "    </tr>\n",
              "    <tr>\n",
              "      <th>6</th>\n",
              "      <td>434</td>\n",
              "      <td>757</td>\n",
              "      <td>9.3</td>\n",
              "      <td>38.89</td>\n",
              "    </tr>\n",
              "    <tr>\n",
              "      <th>7</th>\n",
              "      <td>136</td>\n",
              "      <td>529</td>\n",
              "      <td>8.8</td>\n",
              "      <td>54.47</td>\n",
              "    </tr>\n",
              "    <tr>\n",
              "      <th>8</th>\n",
              "      <td>207</td>\n",
              "      <td>335</td>\n",
              "      <td>9.0</td>\n",
              "      <td>59.80</td>\n",
              "    </tr>\n",
              "    <tr>\n",
              "      <th>9</th>\n",
              "      <td>368</td>\n",
              "      <td>497</td>\n",
              "      <td>9.1</td>\n",
              "      <td>48.34</td>\n",
              "    </tr>\n",
              "    <tr>\n",
              "      <th>10</th>\n",
              "      <td>3344</td>\n",
              "      <td>3369</td>\n",
              "      <td>10.4</td>\n",
              "      <td>34.44</td>\n",
              "    </tr>\n",
              "    <tr>\n",
              "      <th>11</th>\n",
              "      <td>361</td>\n",
              "      <td>746</td>\n",
              "      <td>9.7</td>\n",
              "      <td>38.74</td>\n",
              "    </tr>\n",
              "    <tr>\n",
              "      <th>12</th>\n",
              "      <td>104</td>\n",
              "      <td>201</td>\n",
              "      <td>11.2</td>\n",
              "      <td>30.85</td>\n",
              "    </tr>\n",
              "    <tr>\n",
              "      <th>13</th>\n",
              "      <td>125</td>\n",
              "      <td>277</td>\n",
              "      <td>12.7</td>\n",
              "      <td>30.58</td>\n",
              "    </tr>\n",
              "    <tr>\n",
              "      <th>14</th>\n",
              "      <td>291</td>\n",
              "      <td>593</td>\n",
              "      <td>8.3</td>\n",
              "      <td>43.11</td>\n",
              "    </tr>\n",
              "    <tr>\n",
              "      <th>15</th>\n",
              "      <td>204</td>\n",
              "      <td>361</td>\n",
              "      <td>8.4</td>\n",
              "      <td>56.77</td>\n",
              "    </tr>\n",
              "    <tr>\n",
              "      <th>16</th>\n",
              "      <td>625</td>\n",
              "      <td>905</td>\n",
              "      <td>9.6</td>\n",
              "      <td>41.31</td>\n",
              "    </tr>\n",
              "    <tr>\n",
              "      <th>17</th>\n",
              "      <td>1064</td>\n",
              "      <td>1513</td>\n",
              "      <td>10.1</td>\n",
              "      <td>30.96</td>\n",
              "    </tr>\n",
              "    <tr>\n",
              "      <th>18</th>\n",
              "      <td>699</td>\n",
              "      <td>744</td>\n",
              "      <td>10.6</td>\n",
              "      <td>25.94</td>\n",
              "    </tr>\n",
              "    <tr>\n",
              "      <th>19</th>\n",
              "      <td>381</td>\n",
              "      <td>507</td>\n",
              "      <td>10.0</td>\n",
              "      <td>37.00</td>\n",
              "    </tr>\n",
              "    <tr>\n",
              "      <th>20</th>\n",
              "      <td>775</td>\n",
              "      <td>622</td>\n",
              "      <td>9.5</td>\n",
              "      <td>35.89</td>\n",
              "    </tr>\n",
              "    <tr>\n",
              "      <th>21</th>\n",
              "      <td>181</td>\n",
              "      <td>347</td>\n",
              "      <td>10.9</td>\n",
              "      <td>30.18</td>\n",
              "    </tr>\n",
              "    <tr>\n",
              "      <th>22</th>\n",
              "      <td>46</td>\n",
              "      <td>244</td>\n",
              "      <td>8.9</td>\n",
              "      <td>7.77</td>\n",
              "    </tr>\n",
              "    <tr>\n",
              "      <th>23</th>\n",
              "      <td>44</td>\n",
              "      <td>116</td>\n",
              "      <td>8.8</td>\n",
              "      <td>33.36</td>\n",
              "    </tr>\n",
              "    <tr>\n",
              "      <th>24</th>\n",
              "      <td>391</td>\n",
              "      <td>463</td>\n",
              "      <td>12.4</td>\n",
              "      <td>36.11</td>\n",
              "    </tr>\n",
              "    <tr>\n",
              "      <th>25</th>\n",
              "      <td>462</td>\n",
              "      <td>453</td>\n",
              "      <td>7.1</td>\n",
              "      <td>39.04</td>\n",
              "    </tr>\n",
              "    <tr>\n",
              "      <th>26</th>\n",
              "      <td>1007</td>\n",
              "      <td>751</td>\n",
              "      <td>10.9</td>\n",
              "      <td>34.99</td>\n",
              "    </tr>\n",
              "    <tr>\n",
              "      <th>27</th>\n",
              "      <td>266</td>\n",
              "      <td>540</td>\n",
              "      <td>8.6</td>\n",
              "      <td>37.01</td>\n",
              "    </tr>\n",
              "    <tr>\n",
              "      <th>28</th>\n",
              "      <td>1692</td>\n",
              "      <td>1950</td>\n",
              "      <td>9.6</td>\n",
              "      <td>39.93</td>\n",
              "    </tr>\n",
              "    <tr>\n",
              "      <th>29</th>\n",
              "      <td>347</td>\n",
              "      <td>520</td>\n",
              "      <td>9.4</td>\n",
              "      <td>36.22</td>\n",
              "    </tr>\n",
              "    <tr>\n",
              "      <th>30</th>\n",
              "      <td>343</td>\n",
              "      <td>179</td>\n",
              "      <td>10.6</td>\n",
              "      <td>42.75</td>\n",
              "    </tr>\n",
              "    <tr>\n",
              "      <th>31</th>\n",
              "      <td>337</td>\n",
              "      <td>624</td>\n",
              "      <td>9.2</td>\n",
              "      <td>49.10</td>\n",
              "    </tr>\n",
              "    <tr>\n",
              "      <th>32</th>\n",
              "      <td>275</td>\n",
              "      <td>448</td>\n",
              "      <td>7.9</td>\n",
              "      <td>46.00</td>\n",
              "    </tr>\n",
              "    <tr>\n",
              "      <th>33</th>\n",
              "      <td>641</td>\n",
              "      <td>844</td>\n",
              "      <td>10.9</td>\n",
              "      <td>35.94</td>\n",
              "    </tr>\n",
              "    <tr>\n",
              "      <th>34</th>\n",
              "      <td>721</td>\n",
              "      <td>1233</td>\n",
              "      <td>10.8</td>\n",
              "      <td>48.19</td>\n",
              "    </tr>\n",
              "    <tr>\n",
              "      <th>35</th>\n",
              "      <td>137</td>\n",
              "      <td>176</td>\n",
              "      <td>8.7</td>\n",
              "      <td>15.17</td>\n",
              "    </tr>\n",
              "    <tr>\n",
              "      <th>36</th>\n",
              "      <td>96</td>\n",
              "      <td>308</td>\n",
              "      <td>10.6</td>\n",
              "      <td>44.68</td>\n",
              "    </tr>\n",
              "    <tr>\n",
              "      <th>37</th>\n",
              "      <td>197</td>\n",
              "      <td>299</td>\n",
              "      <td>7.6</td>\n",
              "      <td>42.59</td>\n",
              "    </tr>\n",
              "    <tr>\n",
              "      <th>38</th>\n",
              "      <td>379</td>\n",
              "      <td>531</td>\n",
              "      <td>9.4</td>\n",
              "      <td>38.79</td>\n",
              "    </tr>\n",
              "    <tr>\n",
              "      <th>39</th>\n",
              "      <td>35</td>\n",
              "      <td>71</td>\n",
              "      <td>6.5</td>\n",
              "      <td>40.75</td>\n",
              "    </tr>\n",
              "    <tr>\n",
              "      <th>40</th>\n",
              "      <td>569</td>\n",
              "      <td>717</td>\n",
              "      <td>11.8</td>\n",
              "      <td>29.07</td>\n",
              "    </tr>\n",
              "  </tbody>\n",
              "</table>\n",
              "</div>"
            ],
            "text/plain": [
              "    Fabricas  Habitantes  Velocidad_viento  Lluvia\n",
              "0        213         582               6.0    7.05\n",
              "1         91         132               8.2   48.52\n",
              "2        453         716               8.7   20.66\n",
              "3        454         515               9.0   12.95\n",
              "4        412         158               9.0   43.37\n",
              "5         80          80               9.0   40.25\n",
              "6        434         757               9.3   38.89\n",
              "7        136         529               8.8   54.47\n",
              "8        207         335               9.0   59.80\n",
              "9        368         497               9.1   48.34\n",
              "10      3344        3369              10.4   34.44\n",
              "11       361         746               9.7   38.74\n",
              "12       104         201              11.2   30.85\n",
              "13       125         277              12.7   30.58\n",
              "14       291         593               8.3   43.11\n",
              "15       204         361               8.4   56.77\n",
              "16       625         905               9.6   41.31\n",
              "17      1064        1513              10.1   30.96\n",
              "18       699         744              10.6   25.94\n",
              "19       381         507              10.0   37.00\n",
              "20       775         622               9.5   35.89\n",
              "21       181         347              10.9   30.18\n",
              "22        46         244               8.9    7.77\n",
              "23        44         116               8.8   33.36\n",
              "24       391         463              12.4   36.11\n",
              "25       462         453               7.1   39.04\n",
              "26      1007         751              10.9   34.99\n",
              "27       266         540               8.6   37.01\n",
              "28      1692        1950               9.6   39.93\n",
              "29       347         520               9.4   36.22\n",
              "30       343         179              10.6   42.75\n",
              "31       337         624               9.2   49.10\n",
              "32       275         448               7.9   46.00\n",
              "33       641         844              10.9   35.94\n",
              "34       721        1233              10.8   48.19\n",
              "35       137         176               8.7   15.17\n",
              "36        96         308              10.6   44.68\n",
              "37       197         299               7.6   42.59\n",
              "38       379         531               9.4   38.79\n",
              "39        35          71               6.5   40.75\n",
              "40       569         717              11.8   29.07"
            ]
          },
          "execution_count": 41,
          "metadata": {},
          "output_type": "execute_result"
        }
      ],
      "source": [
        "datos.iloc[:,2:6]"
      ]
    },
    {
      "cell_type": "code",
      "execution_count": 42,
      "metadata": {
        "id": "2fonCa_OhSUF"
      },
      "outputs": [
        {
          "data": {
            "text/html": [
              "<div>\n",
              "<style scoped>\n",
              "    .dataframe tbody tr th:only-of-type {\n",
              "        vertical-align: middle;\n",
              "    }\n",
              "\n",
              "    .dataframe tbody tr th {\n",
              "        vertical-align: top;\n",
              "    }\n",
              "\n",
              "    .dataframe thead th {\n",
              "        text-align: right;\n",
              "    }\n",
              "</style>\n",
              "<table border=\"1\" class=\"dataframe\">\n",
              "  <thead>\n",
              "    <tr style=\"text-align: right;\">\n",
              "      <th></th>\n",
              "      <th>Velocidad_viento</th>\n",
              "      <th>Lluvia</th>\n",
              "    </tr>\n",
              "  </thead>\n",
              "  <tbody>\n",
              "    <tr>\n",
              "      <th>0</th>\n",
              "      <td>6.0</td>\n",
              "      <td>7.05</td>\n",
              "    </tr>\n",
              "    <tr>\n",
              "      <th>1</th>\n",
              "      <td>8.2</td>\n",
              "      <td>48.52</td>\n",
              "    </tr>\n",
              "    <tr>\n",
              "      <th>2</th>\n",
              "      <td>8.7</td>\n",
              "      <td>20.66</td>\n",
              "    </tr>\n",
              "    <tr>\n",
              "      <th>3</th>\n",
              "      <td>9.0</td>\n",
              "      <td>12.95</td>\n",
              "    </tr>\n",
              "    <tr>\n",
              "      <th>4</th>\n",
              "      <td>9.0</td>\n",
              "      <td>43.37</td>\n",
              "    </tr>\n",
              "    <tr>\n",
              "      <th>5</th>\n",
              "      <td>9.0</td>\n",
              "      <td>40.25</td>\n",
              "    </tr>\n",
              "    <tr>\n",
              "      <th>6</th>\n",
              "      <td>9.3</td>\n",
              "      <td>38.89</td>\n",
              "    </tr>\n",
              "    <tr>\n",
              "      <th>7</th>\n",
              "      <td>8.8</td>\n",
              "      <td>54.47</td>\n",
              "    </tr>\n",
              "    <tr>\n",
              "      <th>8</th>\n",
              "      <td>9.0</td>\n",
              "      <td>59.80</td>\n",
              "    </tr>\n",
              "    <tr>\n",
              "      <th>9</th>\n",
              "      <td>9.1</td>\n",
              "      <td>48.34</td>\n",
              "    </tr>\n",
              "    <tr>\n",
              "      <th>10</th>\n",
              "      <td>10.4</td>\n",
              "      <td>34.44</td>\n",
              "    </tr>\n",
              "    <tr>\n",
              "      <th>11</th>\n",
              "      <td>9.7</td>\n",
              "      <td>38.74</td>\n",
              "    </tr>\n",
              "    <tr>\n",
              "      <th>12</th>\n",
              "      <td>11.2</td>\n",
              "      <td>30.85</td>\n",
              "    </tr>\n",
              "    <tr>\n",
              "      <th>13</th>\n",
              "      <td>12.7</td>\n",
              "      <td>30.58</td>\n",
              "    </tr>\n",
              "    <tr>\n",
              "      <th>14</th>\n",
              "      <td>8.3</td>\n",
              "      <td>43.11</td>\n",
              "    </tr>\n",
              "    <tr>\n",
              "      <th>15</th>\n",
              "      <td>8.4</td>\n",
              "      <td>56.77</td>\n",
              "    </tr>\n",
              "    <tr>\n",
              "      <th>16</th>\n",
              "      <td>9.6</td>\n",
              "      <td>41.31</td>\n",
              "    </tr>\n",
              "    <tr>\n",
              "      <th>17</th>\n",
              "      <td>10.1</td>\n",
              "      <td>30.96</td>\n",
              "    </tr>\n",
              "    <tr>\n",
              "      <th>18</th>\n",
              "      <td>10.6</td>\n",
              "      <td>25.94</td>\n",
              "    </tr>\n",
              "    <tr>\n",
              "      <th>19</th>\n",
              "      <td>10.0</td>\n",
              "      <td>37.00</td>\n",
              "    </tr>\n",
              "    <tr>\n",
              "      <th>20</th>\n",
              "      <td>9.5</td>\n",
              "      <td>35.89</td>\n",
              "    </tr>\n",
              "    <tr>\n",
              "      <th>21</th>\n",
              "      <td>10.9</td>\n",
              "      <td>30.18</td>\n",
              "    </tr>\n",
              "    <tr>\n",
              "      <th>22</th>\n",
              "      <td>8.9</td>\n",
              "      <td>7.77</td>\n",
              "    </tr>\n",
              "    <tr>\n",
              "      <th>23</th>\n",
              "      <td>8.8</td>\n",
              "      <td>33.36</td>\n",
              "    </tr>\n",
              "    <tr>\n",
              "      <th>24</th>\n",
              "      <td>12.4</td>\n",
              "      <td>36.11</td>\n",
              "    </tr>\n",
              "    <tr>\n",
              "      <th>25</th>\n",
              "      <td>7.1</td>\n",
              "      <td>39.04</td>\n",
              "    </tr>\n",
              "    <tr>\n",
              "      <th>26</th>\n",
              "      <td>10.9</td>\n",
              "      <td>34.99</td>\n",
              "    </tr>\n",
              "    <tr>\n",
              "      <th>27</th>\n",
              "      <td>8.6</td>\n",
              "      <td>37.01</td>\n",
              "    </tr>\n",
              "    <tr>\n",
              "      <th>28</th>\n",
              "      <td>9.6</td>\n",
              "      <td>39.93</td>\n",
              "    </tr>\n",
              "    <tr>\n",
              "      <th>29</th>\n",
              "      <td>9.4</td>\n",
              "      <td>36.22</td>\n",
              "    </tr>\n",
              "    <tr>\n",
              "      <th>30</th>\n",
              "      <td>10.6</td>\n",
              "      <td>42.75</td>\n",
              "    </tr>\n",
              "    <tr>\n",
              "      <th>31</th>\n",
              "      <td>9.2</td>\n",
              "      <td>49.10</td>\n",
              "    </tr>\n",
              "    <tr>\n",
              "      <th>32</th>\n",
              "      <td>7.9</td>\n",
              "      <td>46.00</td>\n",
              "    </tr>\n",
              "    <tr>\n",
              "      <th>33</th>\n",
              "      <td>10.9</td>\n",
              "      <td>35.94</td>\n",
              "    </tr>\n",
              "    <tr>\n",
              "      <th>34</th>\n",
              "      <td>10.8</td>\n",
              "      <td>48.19</td>\n",
              "    </tr>\n",
              "    <tr>\n",
              "      <th>35</th>\n",
              "      <td>8.7</td>\n",
              "      <td>15.17</td>\n",
              "    </tr>\n",
              "    <tr>\n",
              "      <th>36</th>\n",
              "      <td>10.6</td>\n",
              "      <td>44.68</td>\n",
              "    </tr>\n",
              "    <tr>\n",
              "      <th>37</th>\n",
              "      <td>7.6</td>\n",
              "      <td>42.59</td>\n",
              "    </tr>\n",
              "    <tr>\n",
              "      <th>38</th>\n",
              "      <td>9.4</td>\n",
              "      <td>38.79</td>\n",
              "    </tr>\n",
              "    <tr>\n",
              "      <th>39</th>\n",
              "      <td>6.5</td>\n",
              "      <td>40.75</td>\n",
              "    </tr>\n",
              "    <tr>\n",
              "      <th>40</th>\n",
              "      <td>11.8</td>\n",
              "      <td>29.07</td>\n",
              "    </tr>\n",
              "  </tbody>\n",
              "</table>\n",
              "</div>"
            ],
            "text/plain": [
              "    Velocidad_viento  Lluvia\n",
              "0                6.0    7.05\n",
              "1                8.2   48.52\n",
              "2                8.7   20.66\n",
              "3                9.0   12.95\n",
              "4                9.0   43.37\n",
              "5                9.0   40.25\n",
              "6                9.3   38.89\n",
              "7                8.8   54.47\n",
              "8                9.0   59.80\n",
              "9                9.1   48.34\n",
              "10              10.4   34.44\n",
              "11               9.7   38.74\n",
              "12              11.2   30.85\n",
              "13              12.7   30.58\n",
              "14               8.3   43.11\n",
              "15               8.4   56.77\n",
              "16               9.6   41.31\n",
              "17              10.1   30.96\n",
              "18              10.6   25.94\n",
              "19              10.0   37.00\n",
              "20               9.5   35.89\n",
              "21              10.9   30.18\n",
              "22               8.9    7.77\n",
              "23               8.8   33.36\n",
              "24              12.4   36.11\n",
              "25               7.1   39.04\n",
              "26              10.9   34.99\n",
              "27               8.6   37.01\n",
              "28               9.6   39.93\n",
              "29               9.4   36.22\n",
              "30              10.6   42.75\n",
              "31               9.2   49.10\n",
              "32               7.9   46.00\n",
              "33              10.9   35.94\n",
              "34              10.8   48.19\n",
              "35               8.7   15.17\n",
              "36              10.6   44.68\n",
              "37               7.6   42.59\n",
              "38               9.4   38.79\n",
              "39               6.5   40.75\n",
              "40              11.8   29.07"
            ]
          },
          "execution_count": 42,
          "metadata": {},
          "output_type": "execute_result"
        }
      ],
      "source": [
        "datos.iloc[:,-3:6]"
      ]
    },
    {
      "cell_type": "code",
      "execution_count": 43,
      "metadata": {
        "id": "QDzDLhRGz_kf"
      },
      "outputs": [
        {
          "data": {
            "text/html": [
              "<div>\n",
              "<style scoped>\n",
              "    .dataframe tbody tr th:only-of-type {\n",
              "        vertical-align: middle;\n",
              "    }\n",
              "\n",
              "    .dataframe tbody tr th {\n",
              "        vertical-align: top;\n",
              "    }\n",
              "\n",
              "    .dataframe thead th {\n",
              "        text-align: right;\n",
              "    }\n",
              "</style>\n",
              "<table border=\"1\" class=\"dataframe\">\n",
              "  <thead>\n",
              "    <tr style=\"text-align: right;\">\n",
              "      <th></th>\n",
              "      <th>Temperatura</th>\n",
              "      <th>Dias_Lluvia</th>\n",
              "    </tr>\n",
              "  </thead>\n",
              "  <tbody>\n",
              "    <tr>\n",
              "      <th>0</th>\n",
              "      <td>70.3</td>\n",
              "      <td>36</td>\n",
              "    </tr>\n",
              "    <tr>\n",
              "      <th>1</th>\n",
              "      <td>61.0</td>\n",
              "      <td>100</td>\n",
              "    </tr>\n",
              "    <tr>\n",
              "      <th>2</th>\n",
              "      <td>56.7</td>\n",
              "      <td>67</td>\n",
              "    </tr>\n",
              "    <tr>\n",
              "      <th>3</th>\n",
              "      <td>51.9</td>\n",
              "      <td>86</td>\n",
              "    </tr>\n",
              "    <tr>\n",
              "      <th>4</th>\n",
              "      <td>49.1</td>\n",
              "      <td>127</td>\n",
              "    </tr>\n",
              "    <tr>\n",
              "      <th>5</th>\n",
              "      <td>54.0</td>\n",
              "      <td>114</td>\n",
              "    </tr>\n",
              "    <tr>\n",
              "      <th>6</th>\n",
              "      <td>57.3</td>\n",
              "      <td>111</td>\n",
              "    </tr>\n",
              "    <tr>\n",
              "      <th>7</th>\n",
              "      <td>68.4</td>\n",
              "      <td>116</td>\n",
              "    </tr>\n",
              "    <tr>\n",
              "      <th>8</th>\n",
              "      <td>75.5</td>\n",
              "      <td>128</td>\n",
              "    </tr>\n",
              "    <tr>\n",
              "      <th>9</th>\n",
              "      <td>61.5</td>\n",
              "      <td>115</td>\n",
              "    </tr>\n",
              "    <tr>\n",
              "      <th>10</th>\n",
              "      <td>50.6</td>\n",
              "      <td>122</td>\n",
              "    </tr>\n",
              "    <tr>\n",
              "      <th>11</th>\n",
              "      <td>52.3</td>\n",
              "      <td>121</td>\n",
              "    </tr>\n",
              "    <tr>\n",
              "      <th>12</th>\n",
              "      <td>49.0</td>\n",
              "      <td>103</td>\n",
              "    </tr>\n",
              "    <tr>\n",
              "      <th>13</th>\n",
              "      <td>56.6</td>\n",
              "      <td>82</td>\n",
              "    </tr>\n",
              "    <tr>\n",
              "      <th>14</th>\n",
              "      <td>55.6</td>\n",
              "      <td>123</td>\n",
              "    </tr>\n",
              "    <tr>\n",
              "      <th>15</th>\n",
              "      <td>68.3</td>\n",
              "      <td>113</td>\n",
              "    </tr>\n",
              "    <tr>\n",
              "      <th>16</th>\n",
              "      <td>55.0</td>\n",
              "      <td>111</td>\n",
              "    </tr>\n",
              "    <tr>\n",
              "      <th>17</th>\n",
              "      <td>49.9</td>\n",
              "      <td>129</td>\n",
              "    </tr>\n",
              "    <tr>\n",
              "      <th>18</th>\n",
              "      <td>43.5</td>\n",
              "      <td>137</td>\n",
              "    </tr>\n",
              "    <tr>\n",
              "      <th>19</th>\n",
              "      <td>54.5</td>\n",
              "      <td>99</td>\n",
              "    </tr>\n",
              "    <tr>\n",
              "      <th>20</th>\n",
              "      <td>55.9</td>\n",
              "      <td>105</td>\n",
              "    </tr>\n",
              "    <tr>\n",
              "      <th>21</th>\n",
              "      <td>51.5</td>\n",
              "      <td>98</td>\n",
              "    </tr>\n",
              "    <tr>\n",
              "      <th>22</th>\n",
              "      <td>56.8</td>\n",
              "      <td>58</td>\n",
              "    </tr>\n",
              "    <tr>\n",
              "      <th>23</th>\n",
              "      <td>47.6</td>\n",
              "      <td>135</td>\n",
              "    </tr>\n",
              "    <tr>\n",
              "      <th>24</th>\n",
              "      <td>47.1</td>\n",
              "      <td>166</td>\n",
              "    </tr>\n",
              "    <tr>\n",
              "      <th>25</th>\n",
              "      <td>54.0</td>\n",
              "      <td>132</td>\n",
              "    </tr>\n",
              "    <tr>\n",
              "      <th>26</th>\n",
              "      <td>49.7</td>\n",
              "      <td>155</td>\n",
              "    </tr>\n",
              "    <tr>\n",
              "      <th>27</th>\n",
              "      <td>51.5</td>\n",
              "      <td>134</td>\n",
              "    </tr>\n",
              "    <tr>\n",
              "      <th>28</th>\n",
              "      <td>54.6</td>\n",
              "      <td>115</td>\n",
              "    </tr>\n",
              "    <tr>\n",
              "      <th>29</th>\n",
              "      <td>50.4</td>\n",
              "      <td>147</td>\n",
              "    </tr>\n",
              "    <tr>\n",
              "      <th>30</th>\n",
              "      <td>50.0</td>\n",
              "      <td>125</td>\n",
              "    </tr>\n",
              "    <tr>\n",
              "      <th>31</th>\n",
              "      <td>61.6</td>\n",
              "      <td>105</td>\n",
              "    </tr>\n",
              "    <tr>\n",
              "      <th>32</th>\n",
              "      <td>59.4</td>\n",
              "      <td>119</td>\n",
              "    </tr>\n",
              "    <tr>\n",
              "      <th>33</th>\n",
              "      <td>66.2</td>\n",
              "      <td>78</td>\n",
              "    </tr>\n",
              "    <tr>\n",
              "      <th>34</th>\n",
              "      <td>68.9</td>\n",
              "      <td>103</td>\n",
              "    </tr>\n",
              "    <tr>\n",
              "      <th>35</th>\n",
              "      <td>51.0</td>\n",
              "      <td>89</td>\n",
              "    </tr>\n",
              "    <tr>\n",
              "      <th>36</th>\n",
              "      <td>59.3</td>\n",
              "      <td>116</td>\n",
              "    </tr>\n",
              "    <tr>\n",
              "      <th>37</th>\n",
              "      <td>57.8</td>\n",
              "      <td>115</td>\n",
              "    </tr>\n",
              "    <tr>\n",
              "      <th>38</th>\n",
              "      <td>51.1</td>\n",
              "      <td>164</td>\n",
              "    </tr>\n",
              "    <tr>\n",
              "      <th>39</th>\n",
              "      <td>55.2</td>\n",
              "      <td>148</td>\n",
              "    </tr>\n",
              "    <tr>\n",
              "      <th>40</th>\n",
              "      <td>45.7</td>\n",
              "      <td>123</td>\n",
              "    </tr>\n",
              "  </tbody>\n",
              "</table>\n",
              "</div>"
            ],
            "text/plain": [
              "    Temperatura  Dias_Lluvia\n",
              "0          70.3           36\n",
              "1          61.0          100\n",
              "2          56.7           67\n",
              "3          51.9           86\n",
              "4          49.1          127\n",
              "5          54.0          114\n",
              "6          57.3          111\n",
              "7          68.4          116\n",
              "8          75.5          128\n",
              "9          61.5          115\n",
              "10         50.6          122\n",
              "11         52.3          121\n",
              "12         49.0          103\n",
              "13         56.6           82\n",
              "14         55.6          123\n",
              "15         68.3          113\n",
              "16         55.0          111\n",
              "17         49.9          129\n",
              "18         43.5          137\n",
              "19         54.5           99\n",
              "20         55.9          105\n",
              "21         51.5           98\n",
              "22         56.8           58\n",
              "23         47.6          135\n",
              "24         47.1          166\n",
              "25         54.0          132\n",
              "26         49.7          155\n",
              "27         51.5          134\n",
              "28         54.6          115\n",
              "29         50.4          147\n",
              "30         50.0          125\n",
              "31         61.6          105\n",
              "32         59.4          119\n",
              "33         66.2           78\n",
              "34         68.9          103\n",
              "35         51.0           89\n",
              "36         59.3          116\n",
              "37         57.8          115\n",
              "38         51.1          164\n",
              "39         55.2          148\n",
              "40         45.7          123"
            ]
          },
          "execution_count": 43,
          "metadata": {},
          "output_type": "execute_result"
        }
      ],
      "source": [
        "# Columnas específicas de un DF\n",
        "df2 = datos.filter(['Temperatura', 'Dias_Lluvia'])\n",
        "df2"
      ]
    },
    {
      "cell_type": "code",
      "execution_count": 44,
      "metadata": {
        "id": "EF19PUPoz_iN"
      },
      "outputs": [
        {
          "data": {
            "text/html": [
              "<div>\n",
              "<style scoped>\n",
              "    .dataframe tbody tr th:only-of-type {\n",
              "        vertical-align: middle;\n",
              "    }\n",
              "\n",
              "    .dataframe tbody tr th {\n",
              "        vertical-align: top;\n",
              "    }\n",
              "\n",
              "    .dataframe thead th {\n",
              "        text-align: right;\n",
              "    }\n",
              "</style>\n",
              "<table border=\"1\" class=\"dataframe\">\n",
              "  <thead>\n",
              "    <tr style=\"text-align: right;\">\n",
              "      <th></th>\n",
              "      <th>Contaminacion_SO2</th>\n",
              "      <th>Fabricas</th>\n",
              "      <th>Habitantes</th>\n",
              "      <th>Velocidad_viento</th>\n",
              "      <th>Lluvia</th>\n",
              "    </tr>\n",
              "  </thead>\n",
              "  <tbody>\n",
              "    <tr>\n",
              "      <th>0</th>\n",
              "      <td>10</td>\n",
              "      <td>213</td>\n",
              "      <td>582</td>\n",
              "      <td>6.0</td>\n",
              "      <td>7.05</td>\n",
              "    </tr>\n",
              "    <tr>\n",
              "      <th>1</th>\n",
              "      <td>13</td>\n",
              "      <td>91</td>\n",
              "      <td>132</td>\n",
              "      <td>8.2</td>\n",
              "      <td>48.52</td>\n",
              "    </tr>\n",
              "    <tr>\n",
              "      <th>2</th>\n",
              "      <td>12</td>\n",
              "      <td>453</td>\n",
              "      <td>716</td>\n",
              "      <td>8.7</td>\n",
              "      <td>20.66</td>\n",
              "    </tr>\n",
              "    <tr>\n",
              "      <th>3</th>\n",
              "      <td>17</td>\n",
              "      <td>454</td>\n",
              "      <td>515</td>\n",
              "      <td>9.0</td>\n",
              "      <td>12.95</td>\n",
              "    </tr>\n",
              "    <tr>\n",
              "      <th>4</th>\n",
              "      <td>56</td>\n",
              "      <td>412</td>\n",
              "      <td>158</td>\n",
              "      <td>9.0</td>\n",
              "      <td>43.37</td>\n",
              "    </tr>\n",
              "    <tr>\n",
              "      <th>5</th>\n",
              "      <td>36</td>\n",
              "      <td>80</td>\n",
              "      <td>80</td>\n",
              "      <td>9.0</td>\n",
              "      <td>40.25</td>\n",
              "    </tr>\n",
              "    <tr>\n",
              "      <th>6</th>\n",
              "      <td>29</td>\n",
              "      <td>434</td>\n",
              "      <td>757</td>\n",
              "      <td>9.3</td>\n",
              "      <td>38.89</td>\n",
              "    </tr>\n",
              "    <tr>\n",
              "      <th>7</th>\n",
              "      <td>14</td>\n",
              "      <td>136</td>\n",
              "      <td>529</td>\n",
              "      <td>8.8</td>\n",
              "      <td>54.47</td>\n",
              "    </tr>\n",
              "    <tr>\n",
              "      <th>8</th>\n",
              "      <td>10</td>\n",
              "      <td>207</td>\n",
              "      <td>335</td>\n",
              "      <td>9.0</td>\n",
              "      <td>59.80</td>\n",
              "    </tr>\n",
              "    <tr>\n",
              "      <th>9</th>\n",
              "      <td>24</td>\n",
              "      <td>368</td>\n",
              "      <td>497</td>\n",
              "      <td>9.1</td>\n",
              "      <td>48.34</td>\n",
              "    </tr>\n",
              "    <tr>\n",
              "      <th>10</th>\n",
              "      <td>110</td>\n",
              "      <td>3344</td>\n",
              "      <td>3369</td>\n",
              "      <td>10.4</td>\n",
              "      <td>34.44</td>\n",
              "    </tr>\n",
              "    <tr>\n",
              "      <th>11</th>\n",
              "      <td>28</td>\n",
              "      <td>361</td>\n",
              "      <td>746</td>\n",
              "      <td>9.7</td>\n",
              "      <td>38.74</td>\n",
              "    </tr>\n",
              "    <tr>\n",
              "      <th>12</th>\n",
              "      <td>17</td>\n",
              "      <td>104</td>\n",
              "      <td>201</td>\n",
              "      <td>11.2</td>\n",
              "      <td>30.85</td>\n",
              "    </tr>\n",
              "    <tr>\n",
              "      <th>13</th>\n",
              "      <td>8</td>\n",
              "      <td>125</td>\n",
              "      <td>277</td>\n",
              "      <td>12.7</td>\n",
              "      <td>30.58</td>\n",
              "    </tr>\n",
              "    <tr>\n",
              "      <th>14</th>\n",
              "      <td>30</td>\n",
              "      <td>291</td>\n",
              "      <td>593</td>\n",
              "      <td>8.3</td>\n",
              "      <td>43.11</td>\n",
              "    </tr>\n",
              "    <tr>\n",
              "      <th>15</th>\n",
              "      <td>9</td>\n",
              "      <td>204</td>\n",
              "      <td>361</td>\n",
              "      <td>8.4</td>\n",
              "      <td>56.77</td>\n",
              "    </tr>\n",
              "    <tr>\n",
              "      <th>16</th>\n",
              "      <td>47</td>\n",
              "      <td>625</td>\n",
              "      <td>905</td>\n",
              "      <td>9.6</td>\n",
              "      <td>41.31</td>\n",
              "    </tr>\n",
              "    <tr>\n",
              "      <th>17</th>\n",
              "      <td>35</td>\n",
              "      <td>1064</td>\n",
              "      <td>1513</td>\n",
              "      <td>10.1</td>\n",
              "      <td>30.96</td>\n",
              "    </tr>\n",
              "    <tr>\n",
              "      <th>18</th>\n",
              "      <td>29</td>\n",
              "      <td>699</td>\n",
              "      <td>744</td>\n",
              "      <td>10.6</td>\n",
              "      <td>25.94</td>\n",
              "    </tr>\n",
              "    <tr>\n",
              "      <th>19</th>\n",
              "      <td>14</td>\n",
              "      <td>381</td>\n",
              "      <td>507</td>\n",
              "      <td>10.0</td>\n",
              "      <td>37.00</td>\n",
              "    </tr>\n",
              "    <tr>\n",
              "      <th>20</th>\n",
              "      <td>56</td>\n",
              "      <td>775</td>\n",
              "      <td>622</td>\n",
              "      <td>9.5</td>\n",
              "      <td>35.89</td>\n",
              "    </tr>\n",
              "    <tr>\n",
              "      <th>21</th>\n",
              "      <td>14</td>\n",
              "      <td>181</td>\n",
              "      <td>347</td>\n",
              "      <td>10.9</td>\n",
              "      <td>30.18</td>\n",
              "    </tr>\n",
              "    <tr>\n",
              "      <th>22</th>\n",
              "      <td>11</td>\n",
              "      <td>46</td>\n",
              "      <td>244</td>\n",
              "      <td>8.9</td>\n",
              "      <td>7.77</td>\n",
              "    </tr>\n",
              "    <tr>\n",
              "      <th>23</th>\n",
              "      <td>46</td>\n",
              "      <td>44</td>\n",
              "      <td>116</td>\n",
              "      <td>8.8</td>\n",
              "      <td>33.36</td>\n",
              "    </tr>\n",
              "    <tr>\n",
              "      <th>24</th>\n",
              "      <td>11</td>\n",
              "      <td>391</td>\n",
              "      <td>463</td>\n",
              "      <td>12.4</td>\n",
              "      <td>36.11</td>\n",
              "    </tr>\n",
              "    <tr>\n",
              "      <th>25</th>\n",
              "      <td>23</td>\n",
              "      <td>462</td>\n",
              "      <td>453</td>\n",
              "      <td>7.1</td>\n",
              "      <td>39.04</td>\n",
              "    </tr>\n",
              "    <tr>\n",
              "      <th>26</th>\n",
              "      <td>65</td>\n",
              "      <td>1007</td>\n",
              "      <td>751</td>\n",
              "      <td>10.9</td>\n",
              "      <td>34.99</td>\n",
              "    </tr>\n",
              "    <tr>\n",
              "      <th>27</th>\n",
              "      <td>26</td>\n",
              "      <td>266</td>\n",
              "      <td>540</td>\n",
              "      <td>8.6</td>\n",
              "      <td>37.01</td>\n",
              "    </tr>\n",
              "    <tr>\n",
              "      <th>28</th>\n",
              "      <td>69</td>\n",
              "      <td>1692</td>\n",
              "      <td>1950</td>\n",
              "      <td>9.6</td>\n",
              "      <td>39.93</td>\n",
              "    </tr>\n",
              "    <tr>\n",
              "      <th>29</th>\n",
              "      <td>61</td>\n",
              "      <td>347</td>\n",
              "      <td>520</td>\n",
              "      <td>9.4</td>\n",
              "      <td>36.22</td>\n",
              "    </tr>\n",
              "    <tr>\n",
              "      <th>30</th>\n",
              "      <td>94</td>\n",
              "      <td>343</td>\n",
              "      <td>179</td>\n",
              "      <td>10.6</td>\n",
              "      <td>42.75</td>\n",
              "    </tr>\n",
              "    <tr>\n",
              "      <th>31</th>\n",
              "      <td>10</td>\n",
              "      <td>337</td>\n",
              "      <td>624</td>\n",
              "      <td>9.2</td>\n",
              "      <td>49.10</td>\n",
              "    </tr>\n",
              "    <tr>\n",
              "      <th>32</th>\n",
              "      <td>18</td>\n",
              "      <td>275</td>\n",
              "      <td>448</td>\n",
              "      <td>7.9</td>\n",
              "      <td>46.00</td>\n",
              "    </tr>\n",
              "    <tr>\n",
              "      <th>33</th>\n",
              "      <td>9</td>\n",
              "      <td>641</td>\n",
              "      <td>844</td>\n",
              "      <td>10.9</td>\n",
              "      <td>35.94</td>\n",
              "    </tr>\n",
              "    <tr>\n",
              "      <th>34</th>\n",
              "      <td>10</td>\n",
              "      <td>721</td>\n",
              "      <td>1233</td>\n",
              "      <td>10.8</td>\n",
              "      <td>48.19</td>\n",
              "    </tr>\n",
              "    <tr>\n",
              "      <th>35</th>\n",
              "      <td>28</td>\n",
              "      <td>137</td>\n",
              "      <td>176</td>\n",
              "      <td>8.7</td>\n",
              "      <td>15.17</td>\n",
              "    </tr>\n",
              "    <tr>\n",
              "      <th>36</th>\n",
              "      <td>31</td>\n",
              "      <td>96</td>\n",
              "      <td>308</td>\n",
              "      <td>10.6</td>\n",
              "      <td>44.68</td>\n",
              "    </tr>\n",
              "    <tr>\n",
              "      <th>37</th>\n",
              "      <td>26</td>\n",
              "      <td>197</td>\n",
              "      <td>299</td>\n",
              "      <td>7.6</td>\n",
              "      <td>42.59</td>\n",
              "    </tr>\n",
              "    <tr>\n",
              "      <th>38</th>\n",
              "      <td>29</td>\n",
              "      <td>379</td>\n",
              "      <td>531</td>\n",
              "      <td>9.4</td>\n",
              "      <td>38.79</td>\n",
              "    </tr>\n",
              "    <tr>\n",
              "      <th>39</th>\n",
              "      <td>31</td>\n",
              "      <td>35</td>\n",
              "      <td>71</td>\n",
              "      <td>6.5</td>\n",
              "      <td>40.75</td>\n",
              "    </tr>\n",
              "    <tr>\n",
              "      <th>40</th>\n",
              "      <td>16</td>\n",
              "      <td>569</td>\n",
              "      <td>717</td>\n",
              "      <td>11.8</td>\n",
              "      <td>29.07</td>\n",
              "    </tr>\n",
              "  </tbody>\n",
              "</table>\n",
              "</div>"
            ],
            "text/plain": [
              "    Contaminacion_SO2  Fabricas  Habitantes  Velocidad_viento  Lluvia\n",
              "0                  10       213         582               6.0    7.05\n",
              "1                  13        91         132               8.2   48.52\n",
              "2                  12       453         716               8.7   20.66\n",
              "3                  17       454         515               9.0   12.95\n",
              "4                  56       412         158               9.0   43.37\n",
              "5                  36        80          80               9.0   40.25\n",
              "6                  29       434         757               9.3   38.89\n",
              "7                  14       136         529               8.8   54.47\n",
              "8                  10       207         335               9.0   59.80\n",
              "9                  24       368         497               9.1   48.34\n",
              "10                110      3344        3369              10.4   34.44\n",
              "11                 28       361         746               9.7   38.74\n",
              "12                 17       104         201              11.2   30.85\n",
              "13                  8       125         277              12.7   30.58\n",
              "14                 30       291         593               8.3   43.11\n",
              "15                  9       204         361               8.4   56.77\n",
              "16                 47       625         905               9.6   41.31\n",
              "17                 35      1064        1513              10.1   30.96\n",
              "18                 29       699         744              10.6   25.94\n",
              "19                 14       381         507              10.0   37.00\n",
              "20                 56       775         622               9.5   35.89\n",
              "21                 14       181         347              10.9   30.18\n",
              "22                 11        46         244               8.9    7.77\n",
              "23                 46        44         116               8.8   33.36\n",
              "24                 11       391         463              12.4   36.11\n",
              "25                 23       462         453               7.1   39.04\n",
              "26                 65      1007         751              10.9   34.99\n",
              "27                 26       266         540               8.6   37.01\n",
              "28                 69      1692        1950               9.6   39.93\n",
              "29                 61       347         520               9.4   36.22\n",
              "30                 94       343         179              10.6   42.75\n",
              "31                 10       337         624               9.2   49.10\n",
              "32                 18       275         448               7.9   46.00\n",
              "33                  9       641         844              10.9   35.94\n",
              "34                 10       721        1233              10.8   48.19\n",
              "35                 28       137         176               8.7   15.17\n",
              "36                 31        96         308              10.6   44.68\n",
              "37                 26       197         299               7.6   42.59\n",
              "38                 29       379         531               9.4   38.79\n",
              "39                 31        35          71               6.5   40.75\n",
              "40                 16       569         717              11.8   29.07"
            ]
          },
          "execution_count": 44,
          "metadata": {},
          "output_type": "execute_result"
        }
      ],
      "source": [
        "df2 = datos.drop(['Temperatura', 'Dias_Lluvia'], axis=1)\n",
        "df2"
      ]
    },
    {
      "cell_type": "code",
      "execution_count": 45,
      "metadata": {
        "id": "dY4_RtIvYEDH"
      },
      "outputs": [
        {
          "data": {
            "text/plain": [
              "array([ 36, 100,  67,  86, 127, 114, 111, 116, 128, 115, 122, 121, 103,\n",
              "        82, 123, 113, 111, 129, 137,  99, 105,  98,  58, 135, 166, 132,\n",
              "       155, 134, 115, 147, 125, 105, 119,  78, 103,  89, 116, 115, 164,\n",
              "       148, 123])"
            ]
          },
          "execution_count": 45,
          "metadata": {},
          "output_type": "execute_result"
        }
      ],
      "source": [
        "s = datos.Dias_Lluvia\n",
        "s.values"
      ]
    },
    {
      "cell_type": "code",
      "execution_count": 46,
      "metadata": {
        "id": "7E6bHRSnYEBI"
      },
      "outputs": [
        {
          "data": {
            "text/plain": [
              "Dias_Lluvia\n",
              "115    3\n",
              "111    2\n",
              "123    2\n",
              "105    2\n",
              "116    2\n",
              "103    2\n",
              "100    1\n",
              "36     1\n",
              "114    1\n",
              "127    1\n",
              "128    1\n",
              "86     1\n",
              "121    1\n",
              "122    1\n",
              "82     1\n",
              "113    1\n",
              "129    1\n",
              "67     1\n",
              "137    1\n",
              "99     1\n",
              "98     1\n",
              "58     1\n",
              "135    1\n",
              "166    1\n",
              "132    1\n",
              "155    1\n",
              "134    1\n",
              "147    1\n",
              "125    1\n",
              "119    1\n",
              "78     1\n",
              "89     1\n",
              "164    1\n",
              "148    1\n",
              "Name: count, dtype: int64"
            ]
          },
          "execution_count": 46,
          "metadata": {},
          "output_type": "execute_result"
        }
      ],
      "source": [
        "s.value_counts()"
      ]
    },
    {
      "cell_type": "code",
      "execution_count": 47,
      "metadata": {
        "id": "zTbnAZhJYD-s"
      },
      "outputs": [
        {
          "data": {
            "text/plain": [
              "pandas.core.groupby.generic.DataFrameGroupBy"
            ]
          },
          "execution_count": 47,
          "metadata": {},
          "output_type": "execute_result"
        }
      ],
      "source": [
        "grupo = datos.groupby('Dias_Lluvia')\n",
        "type(grupo)"
      ]
    },
    {
      "cell_type": "code",
      "execution_count": 53,
      "metadata": {
        "id": "cMz2RQLGhCkZ"
      },
      "outputs": [
        {
          "data": {
            "text/html": [
              "<div>\n",
              "<style scoped>\n",
              "    .dataframe tbody tr th:only-of-type {\n",
              "        vertical-align: middle;\n",
              "    }\n",
              "\n",
              "    .dataframe tbody tr th {\n",
              "        vertical-align: top;\n",
              "    }\n",
              "\n",
              "    .dataframe thead th {\n",
              "        text-align: right;\n",
              "    }\n",
              "</style>\n",
              "<table border=\"1\" class=\"dataframe\">\n",
              "  <thead>\n",
              "    <tr style=\"text-align: right;\">\n",
              "      <th></th>\n",
              "      <th>Contaminacion_SO2</th>\n",
              "      <th>Temperatura</th>\n",
              "      <th>Fabricas</th>\n",
              "      <th>Habitantes</th>\n",
              "      <th>Velocidad_viento</th>\n",
              "      <th>Lluvia</th>\n",
              "    </tr>\n",
              "    <tr>\n",
              "      <th>Dias_Lluvia</th>\n",
              "      <th></th>\n",
              "      <th></th>\n",
              "      <th></th>\n",
              "      <th></th>\n",
              "      <th></th>\n",
              "      <th></th>\n",
              "    </tr>\n",
              "  </thead>\n",
              "  <tbody>\n",
              "    <tr>\n",
              "      <th>36</th>\n",
              "      <td>10.000000</td>\n",
              "      <td>70.300000</td>\n",
              "      <td>213.000000</td>\n",
              "      <td>582.000000</td>\n",
              "      <td>6.000000</td>\n",
              "      <td>7.050</td>\n",
              "    </tr>\n",
              "    <tr>\n",
              "      <th>58</th>\n",
              "      <td>11.000000</td>\n",
              "      <td>56.800000</td>\n",
              "      <td>46.000000</td>\n",
              "      <td>244.000000</td>\n",
              "      <td>8.900000</td>\n",
              "      <td>7.770</td>\n",
              "    </tr>\n",
              "    <tr>\n",
              "      <th>67</th>\n",
              "      <td>12.000000</td>\n",
              "      <td>56.700000</td>\n",
              "      <td>453.000000</td>\n",
              "      <td>716.000000</td>\n",
              "      <td>8.700000</td>\n",
              "      <td>20.660</td>\n",
              "    </tr>\n",
              "    <tr>\n",
              "      <th>78</th>\n",
              "      <td>9.000000</td>\n",
              "      <td>66.200000</td>\n",
              "      <td>641.000000</td>\n",
              "      <td>844.000000</td>\n",
              "      <td>10.900000</td>\n",
              "      <td>35.940</td>\n",
              "    </tr>\n",
              "    <tr>\n",
              "      <th>82</th>\n",
              "      <td>8.000000</td>\n",
              "      <td>56.600000</td>\n",
              "      <td>125.000000</td>\n",
              "      <td>277.000000</td>\n",
              "      <td>12.700000</td>\n",
              "      <td>30.580</td>\n",
              "    </tr>\n",
              "    <tr>\n",
              "      <th>86</th>\n",
              "      <td>17.000000</td>\n",
              "      <td>51.900000</td>\n",
              "      <td>454.000000</td>\n",
              "      <td>515.000000</td>\n",
              "      <td>9.000000</td>\n",
              "      <td>12.950</td>\n",
              "    </tr>\n",
              "    <tr>\n",
              "      <th>89</th>\n",
              "      <td>28.000000</td>\n",
              "      <td>51.000000</td>\n",
              "      <td>137.000000</td>\n",
              "      <td>176.000000</td>\n",
              "      <td>8.700000</td>\n",
              "      <td>15.170</td>\n",
              "    </tr>\n",
              "    <tr>\n",
              "      <th>98</th>\n",
              "      <td>14.000000</td>\n",
              "      <td>51.500000</td>\n",
              "      <td>181.000000</td>\n",
              "      <td>347.000000</td>\n",
              "      <td>10.900000</td>\n",
              "      <td>30.180</td>\n",
              "    </tr>\n",
              "    <tr>\n",
              "      <th>99</th>\n",
              "      <td>14.000000</td>\n",
              "      <td>54.500000</td>\n",
              "      <td>381.000000</td>\n",
              "      <td>507.000000</td>\n",
              "      <td>10.000000</td>\n",
              "      <td>37.000</td>\n",
              "    </tr>\n",
              "    <tr>\n",
              "      <th>100</th>\n",
              "      <td>13.000000</td>\n",
              "      <td>61.000000</td>\n",
              "      <td>91.000000</td>\n",
              "      <td>132.000000</td>\n",
              "      <td>8.200000</td>\n",
              "      <td>48.520</td>\n",
              "    </tr>\n",
              "    <tr>\n",
              "      <th>103</th>\n",
              "      <td>13.500000</td>\n",
              "      <td>58.950000</td>\n",
              "      <td>412.500000</td>\n",
              "      <td>717.000000</td>\n",
              "      <td>11.000000</td>\n",
              "      <td>39.520</td>\n",
              "    </tr>\n",
              "    <tr>\n",
              "      <th>105</th>\n",
              "      <td>33.000000</td>\n",
              "      <td>58.750000</td>\n",
              "      <td>556.000000</td>\n",
              "      <td>623.000000</td>\n",
              "      <td>9.350000</td>\n",
              "      <td>42.495</td>\n",
              "    </tr>\n",
              "    <tr>\n",
              "      <th>111</th>\n",
              "      <td>38.000000</td>\n",
              "      <td>56.150000</td>\n",
              "      <td>529.500000</td>\n",
              "      <td>831.000000</td>\n",
              "      <td>9.450000</td>\n",
              "      <td>40.100</td>\n",
              "    </tr>\n",
              "    <tr>\n",
              "      <th>113</th>\n",
              "      <td>9.000000</td>\n",
              "      <td>68.300000</td>\n",
              "      <td>204.000000</td>\n",
              "      <td>361.000000</td>\n",
              "      <td>8.400000</td>\n",
              "      <td>56.770</td>\n",
              "    </tr>\n",
              "    <tr>\n",
              "      <th>114</th>\n",
              "      <td>36.000000</td>\n",
              "      <td>54.000000</td>\n",
              "      <td>80.000000</td>\n",
              "      <td>80.000000</td>\n",
              "      <td>9.000000</td>\n",
              "      <td>40.250</td>\n",
              "    </tr>\n",
              "    <tr>\n",
              "      <th>115</th>\n",
              "      <td>39.666667</td>\n",
              "      <td>57.966667</td>\n",
              "      <td>752.333333</td>\n",
              "      <td>915.333333</td>\n",
              "      <td>8.766667</td>\n",
              "      <td>43.620</td>\n",
              "    </tr>\n",
              "    <tr>\n",
              "      <th>116</th>\n",
              "      <td>22.500000</td>\n",
              "      <td>63.850000</td>\n",
              "      <td>116.000000</td>\n",
              "      <td>418.500000</td>\n",
              "      <td>9.700000</td>\n",
              "      <td>49.575</td>\n",
              "    </tr>\n",
              "    <tr>\n",
              "      <th>119</th>\n",
              "      <td>18.000000</td>\n",
              "      <td>59.400000</td>\n",
              "      <td>275.000000</td>\n",
              "      <td>448.000000</td>\n",
              "      <td>7.900000</td>\n",
              "      <td>46.000</td>\n",
              "    </tr>\n",
              "    <tr>\n",
              "      <th>121</th>\n",
              "      <td>28.000000</td>\n",
              "      <td>52.300000</td>\n",
              "      <td>361.000000</td>\n",
              "      <td>746.000000</td>\n",
              "      <td>9.700000</td>\n",
              "      <td>38.740</td>\n",
              "    </tr>\n",
              "    <tr>\n",
              "      <th>122</th>\n",
              "      <td>110.000000</td>\n",
              "      <td>50.600000</td>\n",
              "      <td>3344.000000</td>\n",
              "      <td>3369.000000</td>\n",
              "      <td>10.400000</td>\n",
              "      <td>34.440</td>\n",
              "    </tr>\n",
              "    <tr>\n",
              "      <th>123</th>\n",
              "      <td>23.000000</td>\n",
              "      <td>50.650000</td>\n",
              "      <td>430.000000</td>\n",
              "      <td>655.000000</td>\n",
              "      <td>10.050000</td>\n",
              "      <td>36.090</td>\n",
              "    </tr>\n",
              "    <tr>\n",
              "      <th>125</th>\n",
              "      <td>94.000000</td>\n",
              "      <td>50.000000</td>\n",
              "      <td>343.000000</td>\n",
              "      <td>179.000000</td>\n",
              "      <td>10.600000</td>\n",
              "      <td>42.750</td>\n",
              "    </tr>\n",
              "    <tr>\n",
              "      <th>127</th>\n",
              "      <td>56.000000</td>\n",
              "      <td>49.100000</td>\n",
              "      <td>412.000000</td>\n",
              "      <td>158.000000</td>\n",
              "      <td>9.000000</td>\n",
              "      <td>43.370</td>\n",
              "    </tr>\n",
              "    <tr>\n",
              "      <th>128</th>\n",
              "      <td>10.000000</td>\n",
              "      <td>75.500000</td>\n",
              "      <td>207.000000</td>\n",
              "      <td>335.000000</td>\n",
              "      <td>9.000000</td>\n",
              "      <td>59.800</td>\n",
              "    </tr>\n",
              "    <tr>\n",
              "      <th>129</th>\n",
              "      <td>35.000000</td>\n",
              "      <td>49.900000</td>\n",
              "      <td>1064.000000</td>\n",
              "      <td>1513.000000</td>\n",
              "      <td>10.100000</td>\n",
              "      <td>30.960</td>\n",
              "    </tr>\n",
              "    <tr>\n",
              "      <th>132</th>\n",
              "      <td>23.000000</td>\n",
              "      <td>54.000000</td>\n",
              "      <td>462.000000</td>\n",
              "      <td>453.000000</td>\n",
              "      <td>7.100000</td>\n",
              "      <td>39.040</td>\n",
              "    </tr>\n",
              "    <tr>\n",
              "      <th>134</th>\n",
              "      <td>26.000000</td>\n",
              "      <td>51.500000</td>\n",
              "      <td>266.000000</td>\n",
              "      <td>540.000000</td>\n",
              "      <td>8.600000</td>\n",
              "      <td>37.010</td>\n",
              "    </tr>\n",
              "    <tr>\n",
              "      <th>135</th>\n",
              "      <td>46.000000</td>\n",
              "      <td>47.600000</td>\n",
              "      <td>44.000000</td>\n",
              "      <td>116.000000</td>\n",
              "      <td>8.800000</td>\n",
              "      <td>33.360</td>\n",
              "    </tr>\n",
              "    <tr>\n",
              "      <th>137</th>\n",
              "      <td>29.000000</td>\n",
              "      <td>43.500000</td>\n",
              "      <td>699.000000</td>\n",
              "      <td>744.000000</td>\n",
              "      <td>10.600000</td>\n",
              "      <td>25.940</td>\n",
              "    </tr>\n",
              "    <tr>\n",
              "      <th>147</th>\n",
              "      <td>61.000000</td>\n",
              "      <td>50.400000</td>\n",
              "      <td>347.000000</td>\n",
              "      <td>520.000000</td>\n",
              "      <td>9.400000</td>\n",
              "      <td>36.220</td>\n",
              "    </tr>\n",
              "    <tr>\n",
              "      <th>148</th>\n",
              "      <td>31.000000</td>\n",
              "      <td>55.200000</td>\n",
              "      <td>35.000000</td>\n",
              "      <td>71.000000</td>\n",
              "      <td>6.500000</td>\n",
              "      <td>40.750</td>\n",
              "    </tr>\n",
              "    <tr>\n",
              "      <th>155</th>\n",
              "      <td>65.000000</td>\n",
              "      <td>49.700000</td>\n",
              "      <td>1007.000000</td>\n",
              "      <td>751.000000</td>\n",
              "      <td>10.900000</td>\n",
              "      <td>34.990</td>\n",
              "    </tr>\n",
              "    <tr>\n",
              "      <th>164</th>\n",
              "      <td>29.000000</td>\n",
              "      <td>51.100000</td>\n",
              "      <td>379.000000</td>\n",
              "      <td>531.000000</td>\n",
              "      <td>9.400000</td>\n",
              "      <td>38.790</td>\n",
              "    </tr>\n",
              "    <tr>\n",
              "      <th>166</th>\n",
              "      <td>11.000000</td>\n",
              "      <td>47.100000</td>\n",
              "      <td>391.000000</td>\n",
              "      <td>463.000000</td>\n",
              "      <td>12.400000</td>\n",
              "      <td>36.110</td>\n",
              "    </tr>\n",
              "  </tbody>\n",
              "</table>\n",
              "</div>"
            ],
            "text/plain": [
              "             Contaminacion_SO2  Temperatura     Fabricas   Habitantes  \\\n",
              "Dias_Lluvia                                                             \n",
              "36                   10.000000    70.300000   213.000000   582.000000   \n",
              "58                   11.000000    56.800000    46.000000   244.000000   \n",
              "67                   12.000000    56.700000   453.000000   716.000000   \n",
              "78                    9.000000    66.200000   641.000000   844.000000   \n",
              "82                    8.000000    56.600000   125.000000   277.000000   \n",
              "86                   17.000000    51.900000   454.000000   515.000000   \n",
              "89                   28.000000    51.000000   137.000000   176.000000   \n",
              "98                   14.000000    51.500000   181.000000   347.000000   \n",
              "99                   14.000000    54.500000   381.000000   507.000000   \n",
              "100                  13.000000    61.000000    91.000000   132.000000   \n",
              "103                  13.500000    58.950000   412.500000   717.000000   \n",
              "105                  33.000000    58.750000   556.000000   623.000000   \n",
              "111                  38.000000    56.150000   529.500000   831.000000   \n",
              "113                   9.000000    68.300000   204.000000   361.000000   \n",
              "114                  36.000000    54.000000    80.000000    80.000000   \n",
              "115                  39.666667    57.966667   752.333333   915.333333   \n",
              "116                  22.500000    63.850000   116.000000   418.500000   \n",
              "119                  18.000000    59.400000   275.000000   448.000000   \n",
              "121                  28.000000    52.300000   361.000000   746.000000   \n",
              "122                 110.000000    50.600000  3344.000000  3369.000000   \n",
              "123                  23.000000    50.650000   430.000000   655.000000   \n",
              "125                  94.000000    50.000000   343.000000   179.000000   \n",
              "127                  56.000000    49.100000   412.000000   158.000000   \n",
              "128                  10.000000    75.500000   207.000000   335.000000   \n",
              "129                  35.000000    49.900000  1064.000000  1513.000000   \n",
              "132                  23.000000    54.000000   462.000000   453.000000   \n",
              "134                  26.000000    51.500000   266.000000   540.000000   \n",
              "135                  46.000000    47.600000    44.000000   116.000000   \n",
              "137                  29.000000    43.500000   699.000000   744.000000   \n",
              "147                  61.000000    50.400000   347.000000   520.000000   \n",
              "148                  31.000000    55.200000    35.000000    71.000000   \n",
              "155                  65.000000    49.700000  1007.000000   751.000000   \n",
              "164                  29.000000    51.100000   379.000000   531.000000   \n",
              "166                  11.000000    47.100000   391.000000   463.000000   \n",
              "\n",
              "             Velocidad_viento  Lluvia  \n",
              "Dias_Lluvia                            \n",
              "36                   6.000000   7.050  \n",
              "58                   8.900000   7.770  \n",
              "67                   8.700000  20.660  \n",
              "78                  10.900000  35.940  \n",
              "82                  12.700000  30.580  \n",
              "86                   9.000000  12.950  \n",
              "89                   8.700000  15.170  \n",
              "98                  10.900000  30.180  \n",
              "99                  10.000000  37.000  \n",
              "100                  8.200000  48.520  \n",
              "103                 11.000000  39.520  \n",
              "105                  9.350000  42.495  \n",
              "111                  9.450000  40.100  \n",
              "113                  8.400000  56.770  \n",
              "114                  9.000000  40.250  \n",
              "115                  8.766667  43.620  \n",
              "116                  9.700000  49.575  \n",
              "119                  7.900000  46.000  \n",
              "121                  9.700000  38.740  \n",
              "122                 10.400000  34.440  \n",
              "123                 10.050000  36.090  \n",
              "125                 10.600000  42.750  \n",
              "127                  9.000000  43.370  \n",
              "128                  9.000000  59.800  \n",
              "129                 10.100000  30.960  \n",
              "132                  7.100000  39.040  \n",
              "134                  8.600000  37.010  \n",
              "135                  8.800000  33.360  \n",
              "137                 10.600000  25.940  \n",
              "147                  9.400000  36.220  \n",
              "148                  6.500000  40.750  \n",
              "155                 10.900000  34.990  \n",
              "164                  9.400000  38.790  \n",
              "166                 12.400000  36.110  "
            ]
          },
          "execution_count": 53,
          "metadata": {},
          "output_type": "execute_result"
        }
      ],
      "source": [
        "grupo.mean()"
      ]
    },
    {
      "cell_type": "code",
      "execution_count": 54,
      "metadata": {
        "id": "6BEkjtQwhCgz"
      },
      "outputs": [
        {
          "data": {
            "text/html": [
              "<div>\n",
              "<style scoped>\n",
              "    .dataframe tbody tr th:only-of-type {\n",
              "        vertical-align: middle;\n",
              "    }\n",
              "\n",
              "    .dataframe tbody tr th {\n",
              "        vertical-align: top;\n",
              "    }\n",
              "\n",
              "    .dataframe thead th {\n",
              "        text-align: right;\n",
              "    }\n",
              "</style>\n",
              "<table border=\"1\" class=\"dataframe\">\n",
              "  <thead>\n",
              "    <tr style=\"text-align: right;\">\n",
              "      <th></th>\n",
              "      <th>Contaminacion_SO2</th>\n",
              "      <th>Temperatura</th>\n",
              "      <th>Fabricas</th>\n",
              "      <th>Habitantes</th>\n",
              "      <th>Velocidad_viento</th>\n",
              "      <th>Lluvia</th>\n",
              "    </tr>\n",
              "    <tr>\n",
              "      <th>Dias_Lluvia</th>\n",
              "      <th></th>\n",
              "      <th></th>\n",
              "      <th></th>\n",
              "      <th></th>\n",
              "      <th></th>\n",
              "      <th></th>\n",
              "    </tr>\n",
              "  </thead>\n",
              "  <tbody>\n",
              "    <tr>\n",
              "      <th>36</th>\n",
              "      <td>10</td>\n",
              "      <td>70.3</td>\n",
              "      <td>213</td>\n",
              "      <td>582</td>\n",
              "      <td>6.0</td>\n",
              "      <td>7.05</td>\n",
              "    </tr>\n",
              "    <tr>\n",
              "      <th>58</th>\n",
              "      <td>11</td>\n",
              "      <td>56.8</td>\n",
              "      <td>46</td>\n",
              "      <td>244</td>\n",
              "      <td>8.9</td>\n",
              "      <td>7.77</td>\n",
              "    </tr>\n",
              "    <tr>\n",
              "      <th>67</th>\n",
              "      <td>12</td>\n",
              "      <td>56.7</td>\n",
              "      <td>453</td>\n",
              "      <td>716</td>\n",
              "      <td>8.7</td>\n",
              "      <td>20.66</td>\n",
              "    </tr>\n",
              "    <tr>\n",
              "      <th>78</th>\n",
              "      <td>9</td>\n",
              "      <td>66.2</td>\n",
              "      <td>641</td>\n",
              "      <td>844</td>\n",
              "      <td>10.9</td>\n",
              "      <td>35.94</td>\n",
              "    </tr>\n",
              "    <tr>\n",
              "      <th>82</th>\n",
              "      <td>8</td>\n",
              "      <td>56.6</td>\n",
              "      <td>125</td>\n",
              "      <td>277</td>\n",
              "      <td>12.7</td>\n",
              "      <td>30.58</td>\n",
              "    </tr>\n",
              "    <tr>\n",
              "      <th>86</th>\n",
              "      <td>17</td>\n",
              "      <td>51.9</td>\n",
              "      <td>454</td>\n",
              "      <td>515</td>\n",
              "      <td>9.0</td>\n",
              "      <td>12.95</td>\n",
              "    </tr>\n",
              "    <tr>\n",
              "      <th>89</th>\n",
              "      <td>28</td>\n",
              "      <td>51.0</td>\n",
              "      <td>137</td>\n",
              "      <td>176</td>\n",
              "      <td>8.7</td>\n",
              "      <td>15.17</td>\n",
              "    </tr>\n",
              "    <tr>\n",
              "      <th>98</th>\n",
              "      <td>14</td>\n",
              "      <td>51.5</td>\n",
              "      <td>181</td>\n",
              "      <td>347</td>\n",
              "      <td>10.9</td>\n",
              "      <td>30.18</td>\n",
              "    </tr>\n",
              "    <tr>\n",
              "      <th>99</th>\n",
              "      <td>14</td>\n",
              "      <td>54.5</td>\n",
              "      <td>381</td>\n",
              "      <td>507</td>\n",
              "      <td>10.0</td>\n",
              "      <td>37.00</td>\n",
              "    </tr>\n",
              "    <tr>\n",
              "      <th>100</th>\n",
              "      <td>13</td>\n",
              "      <td>61.0</td>\n",
              "      <td>91</td>\n",
              "      <td>132</td>\n",
              "      <td>8.2</td>\n",
              "      <td>48.52</td>\n",
              "    </tr>\n",
              "    <tr>\n",
              "      <th>103</th>\n",
              "      <td>27</td>\n",
              "      <td>117.9</td>\n",
              "      <td>825</td>\n",
              "      <td>1434</td>\n",
              "      <td>22.0</td>\n",
              "      <td>79.04</td>\n",
              "    </tr>\n",
              "    <tr>\n",
              "      <th>105</th>\n",
              "      <td>66</td>\n",
              "      <td>117.5</td>\n",
              "      <td>1112</td>\n",
              "      <td>1246</td>\n",
              "      <td>18.7</td>\n",
              "      <td>84.99</td>\n",
              "    </tr>\n",
              "    <tr>\n",
              "      <th>111</th>\n",
              "      <td>76</td>\n",
              "      <td>112.3</td>\n",
              "      <td>1059</td>\n",
              "      <td>1662</td>\n",
              "      <td>18.9</td>\n",
              "      <td>80.20</td>\n",
              "    </tr>\n",
              "    <tr>\n",
              "      <th>113</th>\n",
              "      <td>9</td>\n",
              "      <td>68.3</td>\n",
              "      <td>204</td>\n",
              "      <td>361</td>\n",
              "      <td>8.4</td>\n",
              "      <td>56.77</td>\n",
              "    </tr>\n",
              "    <tr>\n",
              "      <th>114</th>\n",
              "      <td>36</td>\n",
              "      <td>54.0</td>\n",
              "      <td>80</td>\n",
              "      <td>80</td>\n",
              "      <td>9.0</td>\n",
              "      <td>40.25</td>\n",
              "    </tr>\n",
              "    <tr>\n",
              "      <th>115</th>\n",
              "      <td>119</td>\n",
              "      <td>173.9</td>\n",
              "      <td>2257</td>\n",
              "      <td>2746</td>\n",
              "      <td>26.3</td>\n",
              "      <td>130.86</td>\n",
              "    </tr>\n",
              "    <tr>\n",
              "      <th>116</th>\n",
              "      <td>45</td>\n",
              "      <td>127.7</td>\n",
              "      <td>232</td>\n",
              "      <td>837</td>\n",
              "      <td>19.4</td>\n",
              "      <td>99.15</td>\n",
              "    </tr>\n",
              "    <tr>\n",
              "      <th>119</th>\n",
              "      <td>18</td>\n",
              "      <td>59.4</td>\n",
              "      <td>275</td>\n",
              "      <td>448</td>\n",
              "      <td>7.9</td>\n",
              "      <td>46.00</td>\n",
              "    </tr>\n",
              "    <tr>\n",
              "      <th>121</th>\n",
              "      <td>28</td>\n",
              "      <td>52.3</td>\n",
              "      <td>361</td>\n",
              "      <td>746</td>\n",
              "      <td>9.7</td>\n",
              "      <td>38.74</td>\n",
              "    </tr>\n",
              "    <tr>\n",
              "      <th>122</th>\n",
              "      <td>110</td>\n",
              "      <td>50.6</td>\n",
              "      <td>3344</td>\n",
              "      <td>3369</td>\n",
              "      <td>10.4</td>\n",
              "      <td>34.44</td>\n",
              "    </tr>\n",
              "  </tbody>\n",
              "</table>\n",
              "</div>"
            ],
            "text/plain": [
              "             Contaminacion_SO2  Temperatura  Fabricas  Habitantes  \\\n",
              "Dias_Lluvia                                                         \n",
              "36                          10         70.3       213         582   \n",
              "58                          11         56.8        46         244   \n",
              "67                          12         56.7       453         716   \n",
              "78                           9         66.2       641         844   \n",
              "82                           8         56.6       125         277   \n",
              "86                          17         51.9       454         515   \n",
              "89                          28         51.0       137         176   \n",
              "98                          14         51.5       181         347   \n",
              "99                          14         54.5       381         507   \n",
              "100                         13         61.0        91         132   \n",
              "103                         27        117.9       825        1434   \n",
              "105                         66        117.5      1112        1246   \n",
              "111                         76        112.3      1059        1662   \n",
              "113                          9         68.3       204         361   \n",
              "114                         36         54.0        80          80   \n",
              "115                        119        173.9      2257        2746   \n",
              "116                         45        127.7       232         837   \n",
              "119                         18         59.4       275         448   \n",
              "121                         28         52.3       361         746   \n",
              "122                        110         50.6      3344        3369   \n",
              "\n",
              "             Velocidad_viento  Lluvia  \n",
              "Dias_Lluvia                            \n",
              "36                        6.0    7.05  \n",
              "58                        8.9    7.77  \n",
              "67                        8.7   20.66  \n",
              "78                       10.9   35.94  \n",
              "82                       12.7   30.58  \n",
              "86                        9.0   12.95  \n",
              "89                        8.7   15.17  \n",
              "98                       10.9   30.18  \n",
              "99                       10.0   37.00  \n",
              "100                       8.2   48.52  \n",
              "103                      22.0   79.04  \n",
              "105                      18.7   84.99  \n",
              "111                      18.9   80.20  \n",
              "113                       8.4   56.77  \n",
              "114                       9.0   40.25  \n",
              "115                      26.3  130.86  \n",
              "116                      19.4   99.15  \n",
              "119                       7.9   46.00  \n",
              "121                       9.7   38.74  \n",
              "122                      10.4   34.44  "
            ]
          },
          "execution_count": 54,
          "metadata": {},
          "output_type": "execute_result"
        }
      ],
      "source": [
        "grupo.sum().head(20)"
      ]
    },
    {
      "cell_type": "code",
      "execution_count": 55,
      "metadata": {
        "id": "jWXf_l2whCdS"
      },
      "outputs": [
        {
          "data": {
            "text/plain": [
              "Dias_Lluvia\n",
              "36      True\n",
              "58     False\n",
              "67     False\n",
              "78      True\n",
              "82     False\n",
              "86     False\n",
              "89     False\n",
              "98     False\n",
              "99     False\n",
              "100    False\n",
              "103     True\n",
              "105     True\n",
              "111     True\n",
              "113     True\n",
              "114    False\n",
              "115     True\n",
              "116     True\n",
              "119    False\n",
              "121    False\n",
              "122    False\n",
              "123     True\n",
              "125    False\n",
              "127    False\n",
              "128     True\n",
              "129    False\n",
              "132    False\n",
              "134    False\n",
              "135    False\n",
              "137    False\n",
              "147    False\n",
              "148    False\n",
              "155    False\n",
              "164    False\n",
              "166    False\n",
              "Name: Temperatura, dtype: bool"
            ]
          },
          "execution_count": 55,
          "metadata": {},
          "output_type": "execute_result"
        }
      ],
      "source": [
        "s_grupo = grupo.sum()\n",
        "cond = s_grupo.Temperatura >= 65\n",
        "cond"
      ]
    },
    {
      "cell_type": "code",
      "execution_count": 56,
      "metadata": {
        "id": "XCYdNxPrhCaZ"
      },
      "outputs": [
        {
          "data": {
            "text/html": [
              "<div>\n",
              "<style scoped>\n",
              "    .dataframe tbody tr th:only-of-type {\n",
              "        vertical-align: middle;\n",
              "    }\n",
              "\n",
              "    .dataframe tbody tr th {\n",
              "        vertical-align: top;\n",
              "    }\n",
              "\n",
              "    .dataframe thead th {\n",
              "        text-align: right;\n",
              "    }\n",
              "</style>\n",
              "<table border=\"1\" class=\"dataframe\">\n",
              "  <thead>\n",
              "    <tr style=\"text-align: right;\">\n",
              "      <th></th>\n",
              "      <th>Contaminacion_SO2</th>\n",
              "      <th>Temperatura</th>\n",
              "      <th>Fabricas</th>\n",
              "      <th>Habitantes</th>\n",
              "      <th>Velocidad_viento</th>\n",
              "      <th>Lluvia</th>\n",
              "    </tr>\n",
              "    <tr>\n",
              "      <th>Dias_Lluvia</th>\n",
              "      <th></th>\n",
              "      <th></th>\n",
              "      <th></th>\n",
              "      <th></th>\n",
              "      <th></th>\n",
              "      <th></th>\n",
              "    </tr>\n",
              "  </thead>\n",
              "  <tbody>\n",
              "    <tr>\n",
              "      <th>36</th>\n",
              "      <td>10</td>\n",
              "      <td>70.3</td>\n",
              "      <td>213</td>\n",
              "      <td>582</td>\n",
              "      <td>6.0</td>\n",
              "      <td>7.05</td>\n",
              "    </tr>\n",
              "    <tr>\n",
              "      <th>78</th>\n",
              "      <td>9</td>\n",
              "      <td>66.2</td>\n",
              "      <td>641</td>\n",
              "      <td>844</td>\n",
              "      <td>10.9</td>\n",
              "      <td>35.94</td>\n",
              "    </tr>\n",
              "    <tr>\n",
              "      <th>103</th>\n",
              "      <td>27</td>\n",
              "      <td>117.9</td>\n",
              "      <td>825</td>\n",
              "      <td>1434</td>\n",
              "      <td>22.0</td>\n",
              "      <td>79.04</td>\n",
              "    </tr>\n",
              "    <tr>\n",
              "      <th>105</th>\n",
              "      <td>66</td>\n",
              "      <td>117.5</td>\n",
              "      <td>1112</td>\n",
              "      <td>1246</td>\n",
              "      <td>18.7</td>\n",
              "      <td>84.99</td>\n",
              "    </tr>\n",
              "    <tr>\n",
              "      <th>111</th>\n",
              "      <td>76</td>\n",
              "      <td>112.3</td>\n",
              "      <td>1059</td>\n",
              "      <td>1662</td>\n",
              "      <td>18.9</td>\n",
              "      <td>80.20</td>\n",
              "    </tr>\n",
              "    <tr>\n",
              "      <th>113</th>\n",
              "      <td>9</td>\n",
              "      <td>68.3</td>\n",
              "      <td>204</td>\n",
              "      <td>361</td>\n",
              "      <td>8.4</td>\n",
              "      <td>56.77</td>\n",
              "    </tr>\n",
              "    <tr>\n",
              "      <th>115</th>\n",
              "      <td>119</td>\n",
              "      <td>173.9</td>\n",
              "      <td>2257</td>\n",
              "      <td>2746</td>\n",
              "      <td>26.3</td>\n",
              "      <td>130.86</td>\n",
              "    </tr>\n",
              "    <tr>\n",
              "      <th>116</th>\n",
              "      <td>45</td>\n",
              "      <td>127.7</td>\n",
              "      <td>232</td>\n",
              "      <td>837</td>\n",
              "      <td>19.4</td>\n",
              "      <td>99.15</td>\n",
              "    </tr>\n",
              "    <tr>\n",
              "      <th>123</th>\n",
              "      <td>46</td>\n",
              "      <td>101.3</td>\n",
              "      <td>860</td>\n",
              "      <td>1310</td>\n",
              "      <td>20.1</td>\n",
              "      <td>72.18</td>\n",
              "    </tr>\n",
              "    <tr>\n",
              "      <th>128</th>\n",
              "      <td>10</td>\n",
              "      <td>75.5</td>\n",
              "      <td>207</td>\n",
              "      <td>335</td>\n",
              "      <td>9.0</td>\n",
              "      <td>59.80</td>\n",
              "    </tr>\n",
              "  </tbody>\n",
              "</table>\n",
              "</div>"
            ],
            "text/plain": [
              "             Contaminacion_SO2  Temperatura  Fabricas  Habitantes  \\\n",
              "Dias_Lluvia                                                         \n",
              "36                          10         70.3       213         582   \n",
              "78                           9         66.2       641         844   \n",
              "103                         27        117.9       825        1434   \n",
              "105                         66        117.5      1112        1246   \n",
              "111                         76        112.3      1059        1662   \n",
              "113                          9         68.3       204         361   \n",
              "115                        119        173.9      2257        2746   \n",
              "116                         45        127.7       232         837   \n",
              "123                         46        101.3       860        1310   \n",
              "128                         10         75.5       207         335   \n",
              "\n",
              "             Velocidad_viento  Lluvia  \n",
              "Dias_Lluvia                            \n",
              "36                        6.0    7.05  \n",
              "78                       10.9   35.94  \n",
              "103                      22.0   79.04  \n",
              "105                      18.7   84.99  \n",
              "111                      18.9   80.20  \n",
              "113                       8.4   56.77  \n",
              "115                      26.3  130.86  \n",
              "116                      19.4   99.15  \n",
              "123                      20.1   72.18  \n",
              "128                       9.0   59.80  "
            ]
          },
          "execution_count": 56,
          "metadata": {},
          "output_type": "execute_result"
        }
      ],
      "source": [
        "s_grupo[cond]"
      ]
    },
    {
      "cell_type": "markdown",
      "metadata": {
        "id": "bRGQntK6p9LF"
      },
      "source": [
        "# Numpy"
      ]
    },
    {
      "cell_type": "code",
      "execution_count": 58,
      "metadata": {
        "id": "UMa0kfNChCX2"
      },
      "outputs": [],
      "source": [
        "# Numpy: utilizar arreglos y matrices \"a la matlab\"\n",
        "import numpy as np"
      ]
    },
    {
      "cell_type": "code",
      "execution_count": 59,
      "metadata": {
        "id": "pcxGrQSnhCVb"
      },
      "outputs": [
        {
          "data": {
            "text/plain": [
              "numpy.ndarray"
            ]
          },
          "execution_count": 59,
          "metadata": {},
          "output_type": "execute_result"
        }
      ],
      "source": [
        "v = np.array([1,2,3,4,5])\n",
        "type(v)"
      ]
    },
    {
      "cell_type": "code",
      "execution_count": 60,
      "metadata": {
        "id": "j7ztQlWZhCSY"
      },
      "outputs": [
        {
          "data": {
            "text/plain": [
              "(5,)"
            ]
          },
          "execution_count": 60,
          "metadata": {},
          "output_type": "execute_result"
        }
      ],
      "source": [
        "v.shape"
      ]
    },
    {
      "cell_type": "code",
      "execution_count": 61,
      "metadata": {
        "id": "qsO2G3aRhCQQ"
      },
      "outputs": [
        {
          "data": {
            "text/plain": [
              "1"
            ]
          },
          "execution_count": 61,
          "metadata": {},
          "output_type": "execute_result"
        }
      ],
      "source": [
        "v.ndim"
      ]
    },
    {
      "cell_type": "code",
      "execution_count": 62,
      "metadata": {
        "id": "BX57X-wqhCNI"
      },
      "outputs": [
        {
          "data": {
            "text/plain": [
              "dtype('int64')"
            ]
          },
          "execution_count": 62,
          "metadata": {},
          "output_type": "execute_result"
        }
      ],
      "source": [
        "v.dtype"
      ]
    },
    {
      "cell_type": "code",
      "execution_count": 63,
      "metadata": {
        "id": "RAWeUENnhCK1"
      },
      "outputs": [
        {
          "data": {
            "text/plain": [
              "array([ 2,  4,  6,  8, 10])"
            ]
          },
          "execution_count": 63,
          "metadata": {},
          "output_type": "execute_result"
        }
      ],
      "source": [
        "v + v"
      ]
    },
    {
      "cell_type": "code",
      "execution_count": 64,
      "metadata": {
        "id": "VBdAkhW9hCIU"
      },
      "outputs": [
        {
          "data": {
            "text/plain": [
              "array([ 7.18, 14.36, 21.54, 28.72, 35.9 ])"
            ]
          },
          "execution_count": 64,
          "metadata": {},
          "output_type": "execute_result"
        }
      ],
      "source": [
        "7.18 * v"
      ]
    },
    {
      "cell_type": "code",
      "execution_count": 65,
      "metadata": {
        "id": "Qcd1mG3EhCFg"
      },
      "outputs": [
        {
          "data": {
            "text/plain": [
              "array([ 1,  4,  9, 16, 25])"
            ]
          },
          "execution_count": 65,
          "metadata": {},
          "output_type": "execute_result"
        }
      ],
      "source": [
        "v * v"
      ]
    },
    {
      "cell_type": "code",
      "execution_count": 68,
      "metadata": {
        "id": "KI-dOCtDlfFf"
      },
      "outputs": [
        {
          "data": {
            "text/plain": [
              "np.int64(55)"
            ]
          },
          "execution_count": 68,
          "metadata": {},
          "output_type": "execute_result"
        }
      ],
      "source": [
        "v @ v # producto punto"
      ]
    },
    {
      "cell_type": "code",
      "execution_count": 69,
      "metadata": {
        "id": "uL1I5xC1lfCP"
      },
      "outputs": [
        {
          "data": {
            "text/plain": [
              "array([0., 0., 0., 0., 0.])"
            ]
          },
          "execution_count": 69,
          "metadata": {},
          "output_type": "execute_result"
        }
      ],
      "source": [
        "np.zeros(5)"
      ]
    },
    {
      "cell_type": "code",
      "execution_count": 70,
      "metadata": {
        "id": "mpvwrt-Ale_u"
      },
      "outputs": [
        {
          "data": {
            "text/plain": [
              "array([1., 1., 1., 1., 1.])"
            ]
          },
          "execution_count": 70,
          "metadata": {},
          "output_type": "execute_result"
        }
      ],
      "source": [
        "np.ones(5)"
      ]
    },
    {
      "cell_type": "code",
      "execution_count": 71,
      "metadata": {
        "id": "M9AtRcZ8le9B"
      },
      "outputs": [
        {
          "data": {
            "text/plain": [
              "numpy.ndarray"
            ]
          },
          "execution_count": 71,
          "metadata": {},
          "output_type": "execute_result"
        }
      ],
      "source": [
        "m = np.array([[1,2,3],[4,5,6],[7,8,9]])\n",
        "type(m)"
      ]
    },
    {
      "cell_type": "code",
      "execution_count": 72,
      "metadata": {
        "id": "l1RZqBAsorg3"
      },
      "outputs": [
        {
          "data": {
            "text/plain": [
              "(3, 3)"
            ]
          },
          "execution_count": 72,
          "metadata": {},
          "output_type": "execute_result"
        }
      ],
      "source": [
        "m.shape"
      ]
    },
    {
      "cell_type": "code",
      "execution_count": 73,
      "metadata": {
        "id": "dHAU5REZle6G"
      },
      "outputs": [
        {
          "data": {
            "text/plain": [
              "array([[ 2,  4,  6],\n",
              "       [ 8, 10, 12],\n",
              "       [14, 16, 18]])"
            ]
          },
          "execution_count": 73,
          "metadata": {},
          "output_type": "execute_result"
        }
      ],
      "source": [
        "m + m"
      ]
    },
    {
      "cell_type": "code",
      "execution_count": 74,
      "metadata": {
        "id": "R25Pk-xrle3f"
      },
      "outputs": [
        {
          "data": {
            "text/plain": [
              "array([[ 7.12, 14.24, 21.36],\n",
              "       [28.48, 35.6 , 42.72],\n",
              "       [49.84, 56.96, 64.08]])"
            ]
          },
          "execution_count": 74,
          "metadata": {},
          "output_type": "execute_result"
        }
      ],
      "source": [
        "7.12 * m"
      ]
    },
    {
      "cell_type": "code",
      "execution_count": 75,
      "metadata": {
        "id": "S1nsArL2oFLM"
      },
      "outputs": [
        {
          "data": {
            "text/plain": [
              "array([[ 1,  4,  9],\n",
              "       [16, 25, 36],\n",
              "       [49, 64, 81]])"
            ]
          },
          "execution_count": 75,
          "metadata": {},
          "output_type": "execute_result"
        }
      ],
      "source": [
        "m * m"
      ]
    },
    {
      "cell_type": "code",
      "execution_count": 76,
      "metadata": {
        "id": "aJPtne_UoFIX"
      },
      "outputs": [
        {
          "data": {
            "text/plain": [
              "array([[ 30,  36,  42],\n",
              "       [ 66,  81,  96],\n",
              "       [102, 126, 150]])"
            ]
          },
          "execution_count": 76,
          "metadata": {},
          "output_type": "execute_result"
        }
      ],
      "source": [
        "m@m"
      ]
    },
    {
      "cell_type": "code",
      "execution_count": 77,
      "metadata": {
        "id": "MeDekttHoFF-"
      },
      "outputs": [
        {
          "data": {
            "text/plain": [
              "array([[0., 0., 0.],\n",
              "       [0., 0., 0.]])"
            ]
          },
          "execution_count": 77,
          "metadata": {},
          "output_type": "execute_result"
        }
      ],
      "source": [
        "np.zeros((2,3))"
      ]
    },
    {
      "cell_type": "code",
      "execution_count": 78,
      "metadata": {
        "id": "ij_lXtyAoFEF"
      },
      "outputs": [
        {
          "data": {
            "text/plain": [
              "array([[1., 1.],\n",
              "       [1., 1.],\n",
              "       [1., 1.]])"
            ]
          },
          "execution_count": 78,
          "metadata": {},
          "output_type": "execute_result"
        }
      ],
      "source": [
        "np.ones((3,2))"
      ]
    },
    {
      "cell_type": "code",
      "execution_count": 79,
      "metadata": {
        "id": "0lELiKmooFAW"
      },
      "outputs": [
        {
          "data": {
            "text/plain": [
              "array([[36.05183091, 88.44913153, 54.2364519 , 26.95332441, 99.68394467],\n",
              "       [45.59302076, 35.03572921, 28.22797211, 25.30460745, 51.08409136],\n",
              "       [85.40047678,  5.48944599, 46.59814719, 99.57909719,  1.72117638]])"
            ]
          },
          "execution_count": 79,
          "metadata": {},
          "output_type": "execute_result"
        }
      ],
      "source": [
        "r = np.random.random((3,5))*100\n",
        "r"
      ]
    },
    {
      "cell_type": "code",
      "execution_count": 80,
      "metadata": {
        "id": "h0UuxALYoE9C"
      },
      "outputs": [
        {
          "data": {
            "text/plain": [
              "array([[36.05183091, 45.59302076, 85.40047678],\n",
              "       [88.44913153, 35.03572921,  5.48944599],\n",
              "       [54.2364519 , 28.22797211, 46.59814719],\n",
              "       [26.95332441, 25.30460745, 99.57909719],\n",
              "       [99.68394467, 51.08409136,  1.72117638]])"
            ]
          },
          "execution_count": 80,
          "metadata": {},
          "output_type": "execute_result"
        }
      ],
      "source": [
        "rt = r.T\n",
        "rt"
      ]
    },
    {
      "cell_type": "code",
      "execution_count": 81,
      "metadata": {
        "id": "vBg6RNkJle03"
      },
      "outputs": [
        {
          "data": {
            "text/plain": [
              "np.float64(5.489445994577369)"
            ]
          },
          "execution_count": 81,
          "metadata": {},
          "output_type": "execute_result"
        }
      ],
      "source": [
        "rt[1,2]"
      ]
    },
    {
      "cell_type": "code",
      "execution_count": 82,
      "metadata": {
        "id": "kTAEpA06leyn"
      },
      "outputs": [
        {
          "data": {
            "text/plain": [
              "array([88.44913153, 35.03572921,  5.48944599])"
            ]
          },
          "execution_count": 82,
          "metadata": {},
          "output_type": "execute_result"
        }
      ],
      "source": [
        "rt[1,:]"
      ]
    },
    {
      "cell_type": "code",
      "execution_count": 83,
      "metadata": {
        "id": "Izk3OsIflevo"
      },
      "outputs": [
        {
          "data": {
            "text/plain": [
              "array([85.40047678,  5.48944599, 46.59814719, 99.57909719,  1.72117638])"
            ]
          },
          "execution_count": 83,
          "metadata": {},
          "output_type": "execute_result"
        }
      ],
      "source": [
        "rt[:,2]"
      ]
    },
    {
      "cell_type": "code",
      "execution_count": 84,
      "metadata": {
        "id": "1RKdPSGqletW"
      },
      "outputs": [
        {
          "data": {
            "text/plain": [
              "array([[28.22797211, 46.59814719],\n",
              "       [25.30460745, 99.57909719],\n",
              "       [51.08409136,  1.72117638]])"
            ]
          },
          "execution_count": 84,
          "metadata": {},
          "output_type": "execute_result"
        }
      ],
      "source": [
        "rt[2:5,1:3]"
      ]
    },
    {
      "cell_type": "code",
      "execution_count": 85,
      "metadata": {
        "id": "JVDCVbnQqaMb"
      },
      "outputs": [
        {
          "data": {
            "text/plain": [
              "array([[False,  True,  True],\n",
              "       [ True, False, False],\n",
              "       [ True, False,  True],\n",
              "       [False, False,  True],\n",
              "       [ True,  True, False]])"
            ]
          },
          "execution_count": 85,
          "metadata": {},
          "output_type": "execute_result"
        }
      ],
      "source": [
        "rt > 45"
      ]
    },
    {
      "cell_type": "code",
      "execution_count": 86,
      "metadata": {
        "id": "LQoYdEy5qaI2"
      },
      "outputs": [
        {
          "data": {
            "text/plain": [
              "array([45.59302076, 85.40047678, 88.44913153, 54.2364519 , 46.59814719,\n",
              "       99.57909719, 99.68394467, 51.08409136])"
            ]
          },
          "execution_count": 86,
          "metadata": {},
          "output_type": "execute_result"
        }
      ],
      "source": [
        "rt[ rt>45 ]"
      ]
    },
    {
      "cell_type": "code",
      "execution_count": 87,
      "metadata": {
        "id": "EjNtb1hnqaGJ"
      },
      "outputs": [
        {
          "data": {
            "text/plain": [
              "np.float64(729.4084478607607)"
            ]
          },
          "execution_count": 87,
          "metadata": {},
          "output_type": "execute_result"
        }
      ],
      "source": [
        "rt.sum()"
      ]
    },
    {
      "cell_type": "code",
      "execution_count": null,
      "metadata": {
        "id": "8zSJJUFIqaC_"
      },
      "outputs": [
        {
          "data": {
            "text/plain": [
              "array([305.37468343, 185.24542089, 238.78834354])"
            ]
          },
          "execution_count": 91,
          "metadata": {},
          "output_type": "execute_result"
        }
      ],
      "source": [
        "rt.sum(axis=0)      # suma verticalmente (cada columna)\n",
        "# rt.shape"
      ]
    },
    {
      "cell_type": "code",
      "execution_count": 93,
      "metadata": {
        "id": "4lwItJRWqZ_5"
      },
      "outputs": [
        {
          "data": {
            "text/plain": [
              "array([167.04532845, 128.97430674, 129.0625712 , 151.83702906,\n",
              "       152.48921241])"
            ]
          },
          "execution_count": 93,
          "metadata": {},
          "output_type": "execute_result"
        }
      ],
      "source": [
        "rt.sum(axis=1)      # suma verticalmente (cada fila)\n"
      ]
    },
    {
      "cell_type": "code",
      "execution_count": null,
      "metadata": {
        "id": "oNi7Wn3xqZ9J"
      },
      "outputs": [
        {
          "data": {
            "text/plain": [
              "array([[36.05183091, 45.59302076, 85.40047678],\n",
              "       [88.44913153, 35.03572921,  5.48944599],\n",
              "       [54.2364519 , 28.22797211, 46.59814719],\n",
              "       [26.95332441, 25.30460745, 99.57909719],\n",
              "       [99.68394467, 51.08409136,  1.72117638]])"
            ]
          },
          "execution_count": 95,
          "metadata": {},
          "output_type": "execute_result"
        }
      ],
      "source": [
        "rt.std()"
      ]
    },
    {
      "cell_type": "code",
      "execution_count": 96,
      "metadata": {
        "id": "ZucxtqZ4qZ57"
      },
      "outputs": [
        {
          "data": {
            "text/plain": [
              "array([28.55593515,  9.8972585 , 40.02436062])"
            ]
          },
          "execution_count": 96,
          "metadata": {},
          "output_type": "execute_result"
        }
      ],
      "source": [
        "rt.std(axis=0)"
      ]
    },
    {
      "cell_type": "code",
      "execution_count": 97,
      "metadata": {
        "id": "sYzUalUQrNq_"
      },
      "outputs": [
        {
          "data": {
            "text/plain": [
              "array([0, 1, 2, 3, 4, 5, 6, 7, 8, 9])"
            ]
          },
          "execution_count": 97,
          "metadata": {},
          "output_type": "execute_result"
        }
      ],
      "source": [
        "a = np.arange(10)\n",
        "a"
      ]
    },
    {
      "cell_type": "code",
      "execution_count": 98,
      "metadata": {
        "id": "sR8pVgGnrNns"
      },
      "outputs": [
        {
          "data": {
            "text/plain": [
              "array([[0, 1, 2, 3, 4],\n",
              "       [5, 6, 7, 8, 9]])"
            ]
          },
          "execution_count": 98,
          "metadata": {},
          "output_type": "execute_result"
        }
      ],
      "source": [
        "a2 = a.reshape(2,5)\n",
        "a2"
      ]
    },
    {
      "cell_type": "code",
      "execution_count": 99,
      "metadata": {
        "id": "eRwV8zBerNlC"
      },
      "outputs": [
        {
          "data": {
            "text/plain": [
              "array([[0, 1],\n",
              "       [2, 3],\n",
              "       [4, 5],\n",
              "       [6, 7],\n",
              "       [8, 9]])"
            ]
          },
          "execution_count": 99,
          "metadata": {},
          "output_type": "execute_result"
        }
      ],
      "source": [
        "a.reshape(5,2)"
      ]
    },
    {
      "cell_type": "code",
      "execution_count": 100,
      "metadata": {
        "id": "dbiDfz9ZrNjK"
      },
      "outputs": [
        {
          "data": {
            "text/plain": [
              "array([0, 1, 2, 3, 4, 5, 6, 7, 8, 9])"
            ]
          },
          "execution_count": 100,
          "metadata": {},
          "output_type": "execute_result"
        }
      ],
      "source": [
        "a"
      ]
    },
    {
      "cell_type": "code",
      "execution_count": 101,
      "metadata": {
        "id": "cN4l0okCrNfS"
      },
      "outputs": [
        {
          "data": {
            "text/plain": [
              "(3,)"
            ]
          },
          "execution_count": 101,
          "metadata": {},
          "output_type": "execute_result"
        }
      ],
      "source": [
        "v = np.array([7,8,9])\n",
        "m = np.array([[1,2,3],[4,5,6]])\n",
        "v.shape"
      ]
    },
    {
      "cell_type": "code",
      "execution_count": 102,
      "metadata": {
        "id": "_b6GmTU8rNc5"
      },
      "outputs": [
        {
          "data": {
            "text/plain": [
              "(2, 3)"
            ]
          },
          "execution_count": 102,
          "metadata": {},
          "output_type": "execute_result"
        }
      ],
      "source": [
        "m.shape"
      ]
    },
    {
      "cell_type": "code",
      "execution_count": 103,
      "metadata": {
        "id": "ELVmAd4yrNap"
      },
      "outputs": [
        {
          "data": {
            "text/plain": [
              "array([[ 8, 10, 12],\n",
              "       [11, 13, 15]])"
            ]
          },
          "execution_count": 103,
          "metadata": {},
          "output_type": "execute_result"
        }
      ],
      "source": [
        "v+m"
      ]
    },
    {
      "cell_type": "code",
      "execution_count": 104,
      "metadata": {
        "id": "hAQWzknQrNTI"
      },
      "outputs": [
        {
          "data": {
            "text/plain": [
              "(3, 2)"
            ]
          },
          "execution_count": 104,
          "metadata": {},
          "output_type": "execute_result"
        }
      ],
      "source": [
        "v = np.array([8,9])\n",
        "m = np.array([[1,2,3],[4,5,6]]).T\n",
        "m.shape"
      ]
    },
    {
      "cell_type": "code",
      "execution_count": 106,
      "metadata": {
        "id": "1oinX2g4s4vg"
      },
      "outputs": [
        {
          "data": {
            "text/plain": [
              "array([[1, 4],\n",
              "       [2, 5],\n",
              "       [3, 6]])"
            ]
          },
          "execution_count": 106,
          "metadata": {},
          "output_type": "execute_result"
        }
      ],
      "source": [
        "m"
      ]
    },
    {
      "cell_type": "code",
      "execution_count": 107,
      "metadata": {
        "id": "5QEbbFFrlemz"
      },
      "outputs": [
        {
          "data": {
            "text/plain": [
              "array([[ 9, 13],\n",
              "       [10, 14],\n",
              "       [11, 15]])"
            ]
          },
          "execution_count": 107,
          "metadata": {},
          "output_type": "execute_result"
        }
      ],
      "source": [
        "v+m"
      ]
    },
    {
      "cell_type": "code",
      "execution_count": 108,
      "metadata": {
        "id": "glqB04dBlekn"
      },
      "outputs": [
        {
          "data": {
            "text/plain": [
              "array([[ 8, 36],\n",
              "       [16, 45],\n",
              "       [24, 54]])"
            ]
          },
          "execution_count": 108,
          "metadata": {},
          "output_type": "execute_result"
        }
      ],
      "source": [
        "v * m"
      ]
    },
    {
      "cell_type": "code",
      "execution_count": null,
      "metadata": {
        "id": "tIeTaE1qr2Xe"
      },
      "outputs": [
        {
          "ename": "ValueError",
          "evalue": "matmul: Input operand 1 has a mismatch in its core dimension 0, with gufunc signature (n?,k),(k,m?)->(n?,m?) (size 3 is different from 2)",
          "output_type": "error",
          "traceback": [
            "\u001b[31m---------------------------------------------------------------------------\u001b[39m",
            "\u001b[31mValueError\u001b[39m                                Traceback (most recent call last)",
            "\u001b[36mCell\u001b[39m\u001b[36m \u001b[39m\u001b[32mIn[109]\u001b[39m\u001b[32m, line 1\u001b[39m\n\u001b[32m----> \u001b[39m\u001b[32m1\u001b[39m \u001b[43mv\u001b[49m\u001b[43m \u001b[49m\u001b[43m@\u001b[49m\u001b[43m \u001b[49m\u001b[43mm\u001b[49m\n",
            "\u001b[31mValueError\u001b[39m: matmul: Input operand 1 has a mismatch in its core dimension 0, with gufunc signature (n?,k),(k,m?)->(n?,m?) (size 3 is different from 2)"
          ]
        }
      ],
      "source": [
        "v @ m       # (2,1) (3,2)"
      ]
    },
    {
      "cell_type": "code",
      "execution_count": 110,
      "metadata": {
        "id": "_l2vuG3ar2Vg"
      },
      "outputs": [
        {
          "data": {
            "text/plain": [
              "array([44, 61, 78])"
            ]
          },
          "execution_count": 110,
          "metadata": {},
          "output_type": "execute_result"
        }
      ],
      "source": [
        "m @ v"
      ]
    },
    {
      "cell_type": "markdown",
      "metadata": {
        "id": "7ewrylBUIxsm"
      },
      "source": [
        "# Matplotlib"
      ]
    },
    {
      "cell_type": "code",
      "execution_count": 111,
      "metadata": {
        "id": "sH7_Fsyer2C9"
      },
      "outputs": [],
      "source": [
        "# Matplotlib\n",
        "import numpy as np\n",
        "import matplotlib.pyplot as plt"
      ]
    },
    {
      "cell_type": "code",
      "execution_count": 118,
      "metadata": {
        "id": "ep6u59d1r2AN"
      },
      "outputs": [
        {
          "data": {
            "text/plain": [
              "[<matplotlib.lines.Line2D at 0x7f58242e5750>]"
            ]
          },
          "execution_count": 118,
          "metadata": {},
          "output_type": "execute_result"
        },
        {
          "data": {
            "image/png": "[encoded data removed]",
            "text/plain": [
              "<Figure size 640x480 with 1 Axes>"
            ]
          },
          "metadata": {},
          "output_type": "display_data"
        }
      ],
      "source": [
        "x = np.linspace(-5, 5, 50)\n",
        "y = np.sin(x)\n",
        "\n",
        "plt.plot(x, y, 'co', linestyle='dotted', markersize=6)"
      ]
    },
    {
      "cell_type": "code",
      "execution_count": 119,
      "metadata": {
        "id": "WFQ7zMkbr19N"
      },
      "outputs": [
        {
          "data": {
            "image/png": "[encoded data removed]",
            "text/plain": [
              "<Figure size 640x480 with 1 Axes>"
            ]
          },
          "metadata": {},
          "output_type": "display_data"
        }
      ],
      "source": [
        "x = np.linspace(0, 2, 100)\n",
        "plt.plot(x, x, label='lineal')\n",
        "plt.plot(x, x**2, label='cuadrática')\n",
        "plt.plot(x, x**3, label='cúbica')\n",
        "plt.xlabel('eje X')\n",
        "plt.ylabel('f(X)')\n",
        "plt.title('Funciones')\n",
        "plt.grid()\n",
        "plt.legend()\n",
        "plt.show()"
      ]
    },
    {
      "cell_type": "code",
      "execution_count": 121,
      "metadata": {
        "id": "HiDn0kg31jbm"
      },
      "outputs": [
        {
          "data": {
            "image/png": "[encoded data removed]",
            "text/plain": [
              "<Figure size 640x480 with 1 Axes>"
            ]
          },
          "metadata": {},
          "output_type": "display_data"
        }
      ],
      "source": [
        "n = 50\n",
        "x = np.random.rand(n)\n",
        "y = np.random.rand(n)\n",
        "colores = np.random.rand(n) * 20\n",
        "areas = (30 * np.random.rand(n))**2\n",
        "plt.scatter(x,y,s=areas,c=colores,alpha=0.6)\n",
        "plt.show()"
      ]
    },
    {
      "cell_type": "code",
      "execution_count": 133,
      "metadata": {
        "id": "06tH2iIh1jYr"
      },
      "outputs": [
        {
          "data": {
            "image/png": "[encoded data removed]",
            "text/plain": [
              "<Figure size 640x480 with 1 Axes>"
            ]
          },
          "metadata": {},
          "output_type": "display_data"
        }
      ],
      "source": [
        "mu,sigma = 100,15\n",
        "x = mu+sigma * np.random.randn(1000)\n",
        "plt.hist(x, 20, density=True)\n",
        "plt.title('Histograma')\n",
        "plt.text(52, 0.030, r'$\\mu=100,\\ \\sigma=15$')\n",
        "plt.show()"
      ]
    },
    {
      "cell_type": "code",
      "execution_count": 138,
      "metadata": {
        "id": "2CtNIic71jSE"
      },
      "outputs": [
        {
          "data": {
            "text/plain": [
              "Text(0.5, 1.0, 'Dispersión con áreas')"
            ]
          },
          "execution_count": 138,
          "metadata": {},
          "output_type": "execute_result"
        },
        {
          "data": {
            "image/png": "[encoded data removed]",
            "text/plain": [
              "<Figure size 800x800 with 4 Axes>"
            ]
          },
          "metadata": {},
          "output_type": "display_data"
        }
      ],
      "source": [
        "data={'foo':10,'bar':15,'foobar':5,'barfoo':20}\n",
        "names=list(data.keys())\n",
        "values=list(data.values())\n",
        "fig,((ax1,ax2),(ax3,ax4)) = plt.subplots(2,2,figsize=(8,8),sharey=True)\n",
        "\n",
        "ax1.bar(names,values)\n",
        "ax1.set_title('Barras')\n",
        "\n",
        "ax2.scatter(names,values)\n",
        "ax2.set_title('Dispersión')\n",
        "\n",
        "ax3.plot(names, values)\n",
        "ax3.set_title('Líneas')\n",
        "\n",
        "areas = [v*50 for v in values]\n",
        "ax4.scatter(names,values,s=areas)\n",
        "ax4.set_title('Dispersión con áreas')"
      ]
    },
    {
      "cell_type": "code",
      "execution_count": 139,
      "metadata": {
        "id": "ln3vlfae1jPw"
      },
      "outputs": [
        {
          "data": {
            "text/plain": [
              "matplotlib.figure.Figure"
            ]
          },
          "execution_count": 139,
          "metadata": {},
          "output_type": "execute_result"
        }
      ],
      "source": [
        "type(fig)"
      ]
    },
    {
      "cell_type": "code",
      "execution_count": 140,
      "metadata": {
        "id": "qi0zyEwN8HOE"
      },
      "outputs": [
        {
          "data": {
            "text/plain": [
              "matplotlib.axes._axes.Axes"
            ]
          },
          "execution_count": 140,
          "metadata": {},
          "output_type": "execute_result"
        }
      ],
      "source": [
        "type(ax1)"
      ]
    }
  ],
  "metadata": {
    "colab": {
      "provenance": []
    },
    "kernelspec": {
      "display_name": "MeIA",
      "language": "python",
      "name": "python3"
    },
    "language_info": {
      "codemirror_mode": {
        "name": "ipython",
        "version": 3
      },
      "file_extension": ".py",
      "mimetype": "text/x-python",
      "name": "python",
      "nbconvert_exporter": "python",
      "pygments_lexer": "ipython3",
      "version": "3.11.2"
    }
  },
  "nbformat": 4,
  "nbformat_minor": 0
}
