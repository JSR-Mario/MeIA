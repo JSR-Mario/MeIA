{
 "cells": [
  {
   "cell_type": "markdown",
   "metadata": {},
   "source": [
    "Before you turn this problem in, make sure everything runs as expected. First, **restart the kernel** (in the menubar, select Kernel $\\rightarrow$ Restart) and then **run all cells** (in the menubar, select Cell $\\rightarrow$ Run All).\n",
    "\n",
    "Make sure you fill in any place that says `YOUR CODE HERE` or \"YOUR ANSWER HERE\", as well as your name and collaborators below:"
   ]
  },
  {
   "cell_type": "code",
   "execution_count": 6,
   "metadata": {},
   "outputs": [],
   "source": [
    "NAME = \"Juan Mario Sosa Romo\""
   ]
  },
  {
   "cell_type": "markdown",
   "metadata": {},
   "source": [
    "---"
   ]
  },
  {
   "cell_type": "markdown",
   "metadata": {
    "deletable": false,
    "editable": false,
    "id": "uKFYrZ-CO8I3",
    "nbgrader": {
     "cell_type": "markdown",
     "checksum": "1fdf0754c5029685e870d0037c2fe1f1",
     "grade": false,
     "grade_id": "cell-7a16e698b97c9735",
     "locked": true,
     "schema_version": 3,
     "solution": false,
     "task": false
    }
   },
   "source": [
    "<div class=\"alert alert-success\">\n",
    "\n",
    "# Objetivos\n",
    "\n",
    "El propósito de este ejercicio es que refuerces tus conocimientos sobre detección de anomalías"
   ]
  },
  {
   "cell_type": "code",
   "execution_count": 7,
   "metadata": {
    "deletable": false,
    "editable": false,
    "id": "QUjEDZA06ndR",
    "nbgrader": {
     "cell_type": "code",
     "checksum": "3ef865dfec6ccb6fe3b815abac3c4418",
     "grade": false,
     "grade_id": "cell-f1a9380a7ba2ebae",
     "locked": true,
     "schema_version": 3,
     "solution": false,
     "task": false
    }
   },
   "outputs": [],
   "source": [
    "# Bibliotecas básicas\n",
    "import pandas as pd\n",
    "import numpy as np\n",
    "import matplotlib.pyplot as plt\n",
    "from macti.eval import *"
   ]
  },
  {
   "cell_type": "code",
   "execution_count": 8,
   "metadata": {
    "deletable": false,
    "editable": false,
    "nbgrader": {
     "cell_type": "code",
     "checksum": "ec9648e49dcfccbcde13dc0eaa324536",
     "grade": false,
     "grade_id": "cell-0b3c80f02cabe190",
     "locked": true,
     "schema_version": 3,
     "solution": false,
     "task": false
    }
   },
   "outputs": [],
   "source": [
    "quiz = Quiz('1', 'mdp')"
   ]
  },
  {
   "cell_type": "code",
   "execution_count": 9,
   "metadata": {
    "deletable": false,
    "editable": false,
    "id": "Mpd4ulb66naM",
    "nbgrader": {
     "cell_type": "code",
     "checksum": "db1e2ac9daf490cc44f84845b2edae03",
     "grade": false,
     "grade_id": "cell-9472a69e1db41e17",
     "locked": true,
     "schema_version": 3,
     "solution": false,
     "task": false
    }
   },
   "outputs": [],
   "source": [
    "# Desviación estándar\n",
    "# Conjunto ficticio con distribución normal\n",
    "np.random.seed(0)\n",
    "datos = np.random.randn(50000) * 20 + 20"
   ]
  },
  {
   "cell_type": "code",
   "execution_count": 18,
   "metadata": {
    "colab": {
     "base_uri": "https://localhost:8080/"
    },
    "deletable": false,
    "id": "iRBqJ3ca6nXl",
    "nbgrader": {
     "cell_type": "code",
     "checksum": "14480c9068dbe1605f88480474595c63",
     "grade": false,
     "grade_id": "cell-f0e23619a949db0a",
     "locked": false,
     "schema_version": 3,
     "solution": true,
     "task": false
    },
    "outputId": "5c7aa994-6032-4dde-8d72-4d6cc1aacdab"
   },
   "outputs": [
    {
     "name": "stdout",
     "output_type": "stream",
     "text": [
      "148\n"
     ]
    }
   ],
   "source": [
    "def anomalias_std(datos, corte=3):\n",
    "    \"\"\"\n",
    "    Función para obtener las anomalías con base en la desviación estándar\n",
    "    params  :\n",
    "    ---------\n",
    "    datos : arreglo de numpy con los datos en los que se buscarán anomalías\n",
    "    corte : entero, número que multiplica a la desviación estándar para las anomalías\n",
    "            por omisión tiene valor de 3\n",
    "    devuelve:\n",
    "    ---------\n",
    "    - anom     : arreglo 1D de numpy con los valores anomálos\n",
    "    - anom_ind : arreglo 1D de numpy con los índices de los valores anomálos\n",
    "    \"\"\"\n",
    "    std = np.std(datos)\n",
    "    mean = np.mean(datos)\n",
    "    anom_ind = np.where((datos<mean-std*corte)|(datos>mean+std*corte))  \n",
    "    anom = datos[anom_ind]   \n",
    "    \n",
    "    return anom, anom_ind\n",
    "\n",
    "anom_std, ind_std = anomalias_std(datos)\n",
    "tot_std = len(anom_std)\n",
    "print(tot_std)"
   ]
  },
  {
   "cell_type": "code",
   "execution_count": 19,
   "metadata": {
    "deletable": false,
    "editable": false,
    "nbgrader": {
     "cell_type": "code",
     "checksum": "56bdf0072e91540113a878a0bfd9bc89",
     "grade": true,
     "grade_id": "cell-e43b6b7ce8c6c44a",
     "locked": true,
     "points": 4,
     "schema_version": 3,
     "solution": false,
     "task": false
    }
   },
   "outputs": [
    {
     "name": "stdout",
     "output_type": "stream",
     "text": [
      "\u001b[39m――――――――――――――――――――――――――――――――――――――――\n",
      "\u001b[32m1 | Tu resultado es correcto.\n",
      "\u001b[39m――――――――――――――――――――――――――――――――――――――――\n"
     ]
    }
   ],
   "source": [
    "quiz.eval_numeric('1', tot_std)"
   ]
  },
  {
   "cell_type": "code",
   "execution_count": 20,
   "metadata": {
    "deletable": false,
    "editable": false,
    "id": "FPrv5QheFuws",
    "nbgrader": {
     "cell_type": "code",
     "checksum": "084a448919ea5dde629200c33337d6f6",
     "grade": false,
     "grade_id": "cell-4f6201d30f353461",
     "locked": true,
     "schema_version": 3,
     "solution": false,
     "task": false
    }
   },
   "outputs": [],
   "source": [
    "# Rango intercuartil\n",
    "# Conjunto ficticio con distribución normal\n",
    "np.random.seed(0)\n",
    "datos = np.random.randn(50000) * 20 + 20"
   ]
  },
  {
   "cell_type": "code",
   "execution_count": 21,
   "metadata": {
    "colab": {
     "base_uri": "https://localhost:8080/"
    },
    "deletable": false,
    "id": "wmrkbPTQFuuC",
    "nbgrader": {
     "cell_type": "code",
     "checksum": "ac943a58eac907a34ac0b6c5f7335d25",
     "grade": false,
     "grade_id": "cell-d5899be880165726",
     "locked": false,
     "schema_version": 3,
     "solution": true,
     "task": false
    },
    "outputId": "ee27a717-bd5c-4b1e-8b7b-e625a0fca36e"
   },
   "outputs": [
    {
     "name": "stdout",
     "output_type": "stream",
     "text": [
      "379\n"
     ]
    }
   ],
   "source": [
    "def anomalias_iqr(datos):\n",
    "    \"\"\" \n",
    "    Función para obtener las anomalías con base en el rango intercuartil\n",
    "    params  :\n",
    "    ---------\n",
    "    datos : arreglo de numpy con los datos en los que se buscarán anomalías\n",
    "    devuelve:\n",
    "    ---------\n",
    "    - anom     : arreglo de numpy con los valores anomálos\n",
    "    - anom_ind : arreglo de numpy con los índices de los valores anomálos\n",
    "    \"\"\"\n",
    "    Q1, Q3 = np.percentile(datos, [25,75])\n",
    "    IQR = Q3 - Q1\n",
    "    anom_ind = np.where((datos < Q1-1.5*IQR)|(datos> Q3+1.5*IQR))\n",
    "    anom = datos[anom_ind]\n",
    "    return anom, anom_ind\n",
    "\n",
    "anom_iqr, ind_iqr = anomalias_iqr(datos)\n",
    "tot_iqr = len(anom_iqr)\n",
    "print(tot_iqr)"
   ]
  },
  {
   "cell_type": "code",
   "execution_count": 25,
   "metadata": {
    "deletable": false,
    "editable": false,
    "nbgrader": {
     "cell_type": "code",
     "checksum": "03a5516d116e049cd563e01079a2ef75",
     "grade": true,
     "grade_id": "cell-dc626c186bb87792",
     "locked": true,
     "points": 4,
     "schema_version": 3,
     "solution": false,
     "task": false
    }
   },
   "outputs": [
    {
     "name": "stdout",
     "output_type": "stream",
     "text": [
      "\u001b[39m――――――――――――――――――――――――――――――――――――――――\n",
      "\u001b[32m2 | Tu resultado es correcto.\n",
      "\u001b[39m――――――――――――――――――――――――――――――――――――――――\n"
     ]
    }
   ],
   "source": [
    "quiz.eval_numeric('2', tot_iqr)"
   ]
  },
  {
   "cell_type": "code",
   "execution_count": 1,
   "metadata": {
    "deletable": false,
    "editable": false,
    "id": "Mw_hV33fFunf",
    "nbgrader": {
     "cell_type": "code",
     "checksum": "93b245cabfa6323ff3f27ed6bdf730eb",
     "grade": false,
     "grade_id": "cell-e97981fe58ab7b83",
     "locked": true,
     "schema_version": 3,
     "solution": false,
     "task": false
    }
   },
   "outputs": [],
   "source": [
    "# Repaso EllipticEnvelope con datos 3D\n",
    "import numpy as np\n",
    "import pandas as pd\n",
    "import matplotlib.pyplot as plt\n",
    "from mpl_toolkits.mplot3d import Axes3D\n",
    "from sklearn.datasets import make_blobs\n",
    "# 4 nubes de puntos de 3D con alta varianza\n",
    "X, y = make_blobs(n_samples=500,n_features=3,centers=4,cluster_std=[5]*4,random_state=42)"
   ]
  },
  {
   "cell_type": "code",
   "execution_count": 2,
   "metadata": {
    "colab": {
     "base_uri": "https://localhost:8080/"
    },
    "deletable": false,
    "id": "exsKuDOXIB2Q",
    "nbgrader": {
     "cell_type": "code",
     "checksum": "3cf9b2a3f47865b1012c41763974ef03",
     "grade": false,
     "grade_id": "cell-df387916e1ec20b3",
     "locked": false,
     "schema_version": 3,
     "solution": true,
     "task": false
    },
    "outputId": "8b625019-d229-453e-b611-152775c593d8"
   },
   "outputs": [
    {
     "name": "stdout",
     "output_type": "stream",
     "text": [
      "50\n"
     ]
    }
   ],
   "source": [
    "# Genera un objeto de EllipticEnvelope con valor para reproducir de 42\n",
    "# ajusta y obtén la predicción para el conjunto X\n",
    "# almacena los índices de los valores anómalos e imprime el conteo de los mismos\n",
    "from sklearn.covariance import EllipticEnvelope\n",
    "ee = EllipticEnvelope(random_state=42)\n",
    "ee.fit(X)                        # hacemos que el modelo se entrene con los datos\n",
    "anom = ee.predict(X)             # anom nos regresa un array de (n,1) marcando -1 los anomalos\n",
    "ind_ee = np.where(anom==-1)[0]   # el array \n",
    "anom_ee = X[ind_ee]\n",
    "tot_ee = len(ind_ee)\n",
    "print(tot_ee)"
   ]
  },
  {
   "cell_type": "code",
   "execution_count": 39,
   "metadata": {
    "deletable": false,
    "editable": false,
    "nbgrader": {
     "cell_type": "code",
     "checksum": "42ed329c867c42855dd38fe645fa5b72",
     "grade": true,
     "grade_id": "cell-777cfdfec69e5fbe",
     "locked": true,
     "points": 2,
     "schema_version": 3,
     "solution": false,
     "task": false
    }
   },
   "outputs": [
    {
     "name": "stdout",
     "output_type": "stream",
     "text": [
      "\u001b[39m――――――――――――――――――――――――――――――――――――――――\n",
      "\u001b[32m3 | Tu resultado es correcto.\n",
      "\u001b[39m――――――――――――――――――――――――――――――――――――――――\n"
     ]
    }
   ],
   "source": [
    "quiz.eval_numeric('3', tot_ee)"
   ]
  },
  {
   "cell_type": "code",
   "execution_count": 3,
   "metadata": {
    "colab": {
     "base_uri": "https://localhost:8080/",
     "height": 409
    },
    "deletable": false,
    "editable": false,
    "id": "6mV-04uoMHSg",
    "nbgrader": {
     "cell_type": "code",
     "checksum": "fc81e219be0af3fff7d5561694eccebd",
     "grade": false,
     "grade_id": "cell-45496a106c04ba89",
     "locked": true,
     "schema_version": 3,
     "solution": false,
     "task": false
    },
    "outputId": "cb95b9d5-0d42-4a9b-88ea-e1cc256e2aa7"
   },
   "outputs": [
    {
     "data": {
      "image/png": "[encoded data removed]",
      "text/plain": [
       "<Figure size 640x480 with 1 Axes>"
      ]
     },
     "metadata": {},
     "output_type": "display_data"
    }
   ],
   "source": [
    "# Gráfica con el resultado\n",
    "fig, ax = plt.subplots(subplot_kw={\"projection\": \"3d\"})\n",
    "ax.scatter(X[:,0], X[:,1], X[:,2], c=anom)\n",
    "plt.show()"
   ]
  },
  {
   "cell_type": "code",
   "execution_count": 4,
   "metadata": {
    "colab": {
     "base_uri": "https://localhost:8080/",
     "height": 542
    },
    "id": "NuUk51-PIBzB",
    "outputId": "22626cc3-0259-4603-9dde-d6bea9aefc75"
   },
   "outputs": [
    {
     "data": {
      "application/vnd.plotly.v1+json": {
       "config": {
        "plotlyServerURL": "https://plot.ly"
       },
       "data": [
        {
         "hovertemplate": "x=%{x}<br>y=%{y}<br>z=%{z}<br>color=%{marker.color}<extra></extra>",
         "legendgroup": "",
         "marker": {
          "color": {
           "bdata": "/wEBAQEBAQEBAQEBAQEBAQEBAQH//wEBAQH/AQEBAQEBAQEBAQEBAQEBAQEBAQEBAQEBAQEBAQEBAQEBAQEB/wEBAQEBAQEBAQH/Af8BAf8BAQEBAQEBAQEB/wEBAQEBAf8BAQEBAQEBAf////8BAQEBAf8BAQEBAQEBAQEBAQEBAQEBAf//Af8BAQEBAQEBAQEBAf8BAQEBAQEBAQEBAQEBAQEBAQEBAQEBAQEBAQEBAQH/AQEBAQEBAQEBAQEBAQEBAQEBAQEBAQEBAQEBAQEBAf8BAQEBAQEB/wEBAQEBAQEBAQEB/wEBAQEBAQEBAQEBAQEBAQEBAf8BAQH/AQH/AQEBAQEBAQEBAQEBAf8BAQEB/wEBAQEB/wEBAQEBAQEBAQEBAQH/AQEBAQEBAf8BAf8BAQEBAQH/AQEBAQEBAQH/AQEBAQEBAQEBAQEBAQEBAQEBAQEBAQEBAQEBAf8BAQEBAQEB/wEB/wEBAQEBAf///wEBAQEBAQH/AQEBAf8BAQEBAQH/AQEBAQEB/wEBAQEB/wEBAQEBAf8BAQEBAQEBAQEBAQEB/wEBAQEBAQEBAQEBAQEBAQEB/wEBAQEBAQEBAQEBAQEBAQEBAQEBAQEBAQEBAQEBAQEBAQH/AQEBAQEBAQEBAQEBAQH/AQEBAQE=",
           "dtype": "i1"
          },
          "coloraxis": "coloraxis",
          "symbol": "circle"
         },
         "mode": "markers",
         "name": "",
         "scene": "scene",
         "showlegend": false,
         "type": "scatter3d",
         "x": {
          "bdata": "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",
          "dtype": "f8"
         },
         "y": {
          "bdata": "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",
          "dtype": "f8"
         },
         "z": {
          "bdata": "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",
          "dtype": "f8"
         }
        }
       ],
       "layout": {
        "coloraxis": {
         "colorbar": {
          "title": {
           "text": "color"
          }
         },
         "colorscale": [
          [
           0,
           "#0d0887"
          ],
          [
           0.1111111111111111,
           "#46039f"
          ],
          [
           0.2222222222222222,
           "#7201a8"
          ],
          [
           0.3333333333333333,
           "#9c179e"
          ],
          [
           0.4444444444444444,
           "#bd3786"
          ],
          [
           0.5555555555555556,
           "#d8576b"
          ],
          [
           0.6666666666666666,
           "#ed7953"
          ],
          [
           0.7777777777777778,
           "#fb9f3a"
          ],
          [
           0.8888888888888888,
           "#fdca26"
          ],
          [
           1,
           "#f0f921"
          ]
         ]
        },
        "legend": {
         "tracegroupgap": 0
        },
        "margin": {
         "t": 60
        },
        "scene": {
         "domain": {
          "x": [
           0,
           1
          ],
          "y": [
           0,
           1
          ]
         },
         "xaxis": {
          "title": {
           "text": "x"
          }
         },
         "yaxis": {
          "title": {
           "text": "y"
          }
         },
         "zaxis": {
          "title": {
           "text": "z"
          }
         }
        },
        "template": {
         "data": {
          "bar": [
           {
            "error_x": {
             "color": "#2a3f5f"
            },
            "error_y": {
             "color": "#2a3f5f"
            },
            "marker": {
             "line": {
              "color": "#E5ECF6",
              "width": 0.5
             },
             "pattern": {
              "fillmode": "overlay",
              "size": 10,
              "solidity": 0.2
             }
            },
            "type": "bar"
           }
          ],
          "barpolar": [
           {
            "marker": {
             "line": {
              "color": "#E5ECF6",
              "width": 0.5
             },
             "pattern": {
              "fillmode": "overlay",
              "size": 10,
              "solidity": 0.2
             }
            },
            "type": "barpolar"
           }
          ],
          "carpet": [
           {
            "aaxis": {
             "endlinecolor": "#2a3f5f",
             "gridcolor": "white",
             "linecolor": "white",
             "minorgridcolor": "white",
             "startlinecolor": "#2a3f5f"
            },
            "baxis": {
             "endlinecolor": "#2a3f5f",
             "gridcolor": "white",
             "linecolor": "white",
             "minorgridcolor": "white",
             "startlinecolor": "#2a3f5f"
            },
            "type": "carpet"
           }
          ],
          "choropleth": [
           {
            "colorbar": {
             "outlinewidth": 0,
             "ticks": ""
            },
            "type": "choropleth"
           }
          ],
          "contour": [
           {
            "colorbar": {
             "outlinewidth": 0,
             "ticks": ""
            },
            "colorscale": [
             [
              0,
              "#0d0887"
             ],
             [
              0.1111111111111111,
              "#46039f"
             ],
             [
              0.2222222222222222,
              "#7201a8"
             ],
             [
              0.3333333333333333,
              "#9c179e"
             ],
             [
              0.4444444444444444,
              "#bd3786"
             ],
             [
              0.5555555555555556,
              "#d8576b"
             ],
             [
              0.6666666666666666,
              "#ed7953"
             ],
             [
              0.7777777777777778,
              "#fb9f3a"
             ],
             [
              0.8888888888888888,
              "#fdca26"
             ],
             [
              1,
              "#f0f921"
             ]
            ],
            "type": "contour"
           }
          ],
          "contourcarpet": [
           {
            "colorbar": {
             "outlinewidth": 0,
             "ticks": ""
            },
            "type": "contourcarpet"
           }
          ],
          "heatmap": [
           {
            "colorbar": {
             "outlinewidth": 0,
             "ticks": ""
            },
            "colorscale": [
             [
              0,
              "#0d0887"
             ],
             [
              0.1111111111111111,
              "#46039f"
             ],
             [
              0.2222222222222222,
              "#7201a8"
             ],
             [
              0.3333333333333333,
              "#9c179e"
             ],
             [
              0.4444444444444444,
              "#bd3786"
             ],
             [
              0.5555555555555556,
              "#d8576b"
             ],
             [
              0.6666666666666666,
              "#ed7953"
             ],
             [
              0.7777777777777778,
              "#fb9f3a"
             ],
             [
              0.8888888888888888,
              "#fdca26"
             ],
             [
              1,
              "#f0f921"
             ]
            ],
            "type": "heatmap"
           }
          ],
          "histogram": [
           {
            "marker": {
             "pattern": {
              "fillmode": "overlay",
              "size": 10,
              "solidity": 0.2
             }
            },
            "type": "histogram"
           }
          ],
          "histogram2d": [
           {
            "colorbar": {
             "outlinewidth": 0,
             "ticks": ""
            },
            "colorscale": [
             [
              0,
              "#0d0887"
             ],
             [
              0.1111111111111111,
              "#46039f"
             ],
             [
              0.2222222222222222,
              "#7201a8"
             ],
             [
              0.3333333333333333,
              "#9c179e"
             ],
             [
              0.4444444444444444,
              "#bd3786"
             ],
             [
              0.5555555555555556,
              "#d8576b"
             ],
             [
              0.6666666666666666,
              "#ed7953"
             ],
             [
              0.7777777777777778,
              "#fb9f3a"
             ],
             [
              0.8888888888888888,
              "#fdca26"
             ],
             [
              1,
              "#f0f921"
             ]
            ],
            "type": "histogram2d"
           }
          ],
          "histogram2dcontour": [
           {
            "colorbar": {
             "outlinewidth": 0,
             "ticks": ""
            },
            "colorscale": [
             [
              0,
              "#0d0887"
             ],
             [
              0.1111111111111111,
              "#46039f"
             ],
             [
              0.2222222222222222,
              "#7201a8"
             ],
             [
              0.3333333333333333,
              "#9c179e"
             ],
             [
              0.4444444444444444,
              "#bd3786"
             ],
             [
              0.5555555555555556,
              "#d8576b"
             ],
             [
              0.6666666666666666,
              "#ed7953"
             ],
             [
              0.7777777777777778,
              "#fb9f3a"
             ],
             [
              0.8888888888888888,
              "#fdca26"
             ],
             [
              1,
              "#f0f921"
             ]
            ],
            "type": "histogram2dcontour"
           }
          ],
          "mesh3d": [
           {
            "colorbar": {
             "outlinewidth": 0,
             "ticks": ""
            },
            "type": "mesh3d"
           }
          ],
          "parcoords": [
           {
            "line": {
             "colorbar": {
              "outlinewidth": 0,
              "ticks": ""
             }
            },
            "type": "parcoords"
           }
          ],
          "pie": [
           {
            "automargin": true,
            "type": "pie"
           }
          ],
          "scatter": [
           {
            "fillpattern": {
             "fillmode": "overlay",
             "size": 10,
             "solidity": 0.2
            },
            "type": "scatter"
           }
          ],
          "scatter3d": [
           {
            "line": {
             "colorbar": {
              "outlinewidth": 0,
              "ticks": ""
             }
            },
            "marker": {
             "colorbar": {
              "outlinewidth": 0,
              "ticks": ""
             }
            },
            "type": "scatter3d"
           }
          ],
          "scattercarpet": [
           {
            "marker": {
             "colorbar": {
              "outlinewidth": 0,
              "ticks": ""
             }
            },
            "type": "scattercarpet"
           }
          ],
          "scattergeo": [
           {
            "marker": {
             "colorbar": {
              "outlinewidth": 0,
              "ticks": ""
             }
            },
            "type": "scattergeo"
           }
          ],
          "scattergl": [
           {
            "marker": {
             "colorbar": {
              "outlinewidth": 0,
              "ticks": ""
             }
            },
            "type": "scattergl"
           }
          ],
          "scattermap": [
           {
            "marker": {
             "colorbar": {
              "outlinewidth": 0,
              "ticks": ""
             }
            },
            "type": "scattermap"
           }
          ],
          "scattermapbox": [
           {
            "marker": {
             "colorbar": {
              "outlinewidth": 0,
              "ticks": ""
             }
            },
            "type": "scattermapbox"
           }
          ],
          "scatterpolar": [
           {
            "marker": {
             "colorbar": {
              "outlinewidth": 0,
              "ticks": ""
             }
            },
            "type": "scatterpolar"
           }
          ],
          "scatterpolargl": [
           {
            "marker": {
             "colorbar": {
              "outlinewidth": 0,
              "ticks": ""
             }
            },
            "type": "scatterpolargl"
           }
          ],
          "scatterternary": [
           {
            "marker": {
             "colorbar": {
              "outlinewidth": 0,
              "ticks": ""
             }
            },
            "type": "scatterternary"
           }
          ],
          "surface": [
           {
            "colorbar": {
             "outlinewidth": 0,
             "ticks": ""
            },
            "colorscale": [
             [
              0,
              "#0d0887"
             ],
             [
              0.1111111111111111,
              "#46039f"
             ],
             [
              0.2222222222222222,
              "#7201a8"
             ],
             [
              0.3333333333333333,
              "#9c179e"
             ],
             [
              0.4444444444444444,
              "#bd3786"
             ],
             [
              0.5555555555555556,
              "#d8576b"
             ],
             [
              0.6666666666666666,
              "#ed7953"
             ],
             [
              0.7777777777777778,
              "#fb9f3a"
             ],
             [
              0.8888888888888888,
              "#fdca26"
             ],
             [
              1,
              "#f0f921"
             ]
            ],
            "type": "surface"
           }
          ],
          "table": [
           {
            "cells": {
             "fill": {
              "color": "#EBF0F8"
             },
             "line": {
              "color": "white"
             }
            },
            "header": {
             "fill": {
              "color": "#C8D4E3"
             },
             "line": {
              "color": "white"
             }
            },
            "type": "table"
           }
          ]
         },
         "layout": {
          "annotationdefaults": {
           "arrowcolor": "#2a3f5f",
           "arrowhead": 0,
           "arrowwidth": 1
          },
          "autotypenumbers": "strict",
          "coloraxis": {
           "colorbar": {
            "outlinewidth": 0,
            "ticks": ""
           }
          },
          "colorscale": {
           "diverging": [
            [
             0,
             "#8e0152"
            ],
            [
             0.1,
             "#c51b7d"
            ],
            [
             0.2,
             "#de77ae"
            ],
            [
             0.3,
             "#f1b6da"
            ],
            [
             0.4,
             "#fde0ef"
            ],
            [
             0.5,
             "#f7f7f7"
            ],
            [
             0.6,
             "#e6f5d0"
            ],
            [
             0.7,
             "#b8e186"
            ],
            [
             0.8,
             "#7fbc41"
            ],
            [
             0.9,
             "#4d9221"
            ],
            [
             1,
             "#276419"
            ]
           ],
           "sequential": [
            [
             0,
             "#0d0887"
            ],
            [
             0.1111111111111111,
             "#46039f"
            ],
            [
             0.2222222222222222,
             "#7201a8"
            ],
            [
             0.3333333333333333,
             "#9c179e"
            ],
            [
             0.4444444444444444,
             "#bd3786"
            ],
            [
             0.5555555555555556,
             "#d8576b"
            ],
            [
             0.6666666666666666,
             "#ed7953"
            ],
            [
             0.7777777777777778,
             "#fb9f3a"
            ],
            [
             0.8888888888888888,
             "#fdca26"
            ],
            [
             1,
             "#f0f921"
            ]
           ],
           "sequentialminus": [
            [
             0,
             "#0d0887"
            ],
            [
             0.1111111111111111,
             "#46039f"
            ],
            [
             0.2222222222222222,
             "#7201a8"
            ],
            [
             0.3333333333333333,
             "#9c179e"
            ],
            [
             0.4444444444444444,
             "#bd3786"
            ],
            [
             0.5555555555555556,
             "#d8576b"
            ],
            [
             0.6666666666666666,
             "#ed7953"
            ],
            [
             0.7777777777777778,
             "#fb9f3a"
            ],
            [
             0.8888888888888888,
             "#fdca26"
            ],
            [
             1,
             "#f0f921"
            ]
           ]
          },
          "colorway": [
           "#636efa",
           "#EF553B",
           "#00cc96",
           "#ab63fa",
           "#FFA15A",
           "#19d3f3",
           "#FF6692",
           "#B6E880",
           "#FF97FF",
           "#FECB52"
          ],
          "font": {
           "color": "#2a3f5f"
          },
          "geo": {
           "bgcolor": "white",
           "lakecolor": "white",
           "landcolor": "#E5ECF6",
           "showlakes": true,
           "showland": true,
           "subunitcolor": "white"
          },
          "hoverlabel": {
           "align": "left"
          },
          "hovermode": "closest",
          "mapbox": {
           "style": "light"
          },
          "paper_bgcolor": "white",
          "plot_bgcolor": "#E5ECF6",
          "polar": {
           "angularaxis": {
            "gridcolor": "white",
            "linecolor": "white",
            "ticks": ""
           },
           "bgcolor": "#E5ECF6",
           "radialaxis": {
            "gridcolor": "white",
            "linecolor": "white",
            "ticks": ""
           }
          },
          "scene": {
           "xaxis": {
            "backgroundcolor": "#E5ECF6",
            "gridcolor": "white",
            "gridwidth": 2,
            "linecolor": "white",
            "showbackground": true,
            "ticks": "",
            "zerolinecolor": "white"
           },
           "yaxis": {
            "backgroundcolor": "#E5ECF6",
            "gridcolor": "white",
            "gridwidth": 2,
            "linecolor": "white",
            "showbackground": true,
            "ticks": "",
            "zerolinecolor": "white"
           },
           "zaxis": {
            "backgroundcolor": "#E5ECF6",
            "gridcolor": "white",
            "gridwidth": 2,
            "linecolor": "white",
            "showbackground": true,
            "ticks": "",
            "zerolinecolor": "white"
           }
          },
          "shapedefaults": {
           "line": {
            "color": "#2a3f5f"
           }
          },
          "ternary": {
           "aaxis": {
            "gridcolor": "white",
            "linecolor": "white",
            "ticks": ""
           },
           "baxis": {
            "gridcolor": "white",
            "linecolor": "white",
            "ticks": ""
           },
           "bgcolor": "#E5ECF6",
           "caxis": {
            "gridcolor": "white",
            "linecolor": "white",
            "ticks": ""
           }
          },
          "title": {
           "x": 0.05
          },
          "xaxis": {
           "automargin": true,
           "gridcolor": "white",
           "linecolor": "white",
           "ticks": "",
           "title": {
            "standoff": 15
           },
           "zerolinecolor": "white",
           "zerolinewidth": 2
          },
          "yaxis": {
           "automargin": true,
           "gridcolor": "white",
           "linecolor": "white",
           "ticks": "",
           "title": {
            "standoff": 15
           },
           "zerolinecolor": "white",
           "zerolinewidth": 2
          }
         }
        }
       }
      }
     },
     "metadata": {},
     "output_type": "display_data"
    }
   ],
   "source": [
    "import plotly.express as px\n",
    "fig = px.scatter_3d(x=X[:,0], y=X[:,1], z=X[:,2],\n",
    "                    color=anom)\n",
    "fig.show()"
   ]
  }
 ],
 "metadata": {
  "colab": {
   "provenance": []
  },
  "kernelspec": {
   "display_name": "MeIA",
   "language": "python",
   "name": "python3"
  },
  "language_info": {
   "codemirror_mode": {
    "name": "ipython",
    "version": 3
   },
   "file_extension": ".py",
   "mimetype": "text/x-python",
   "name": "python",
   "nbconvert_exporter": "python",
   "pygments_lexer": "ipython3",
   "version": "3.11.2"
  }
 },
 "nbformat": 4,
 "nbformat_minor": 4
}
