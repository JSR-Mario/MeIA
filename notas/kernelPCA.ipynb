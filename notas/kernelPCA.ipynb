{
  "cells": [
    {
      "cell_type": "code",
      "execution_count": null,
      "metadata": {
        "id": "EgwZjRMa-Ggp"
      },
      "outputs": [],
      "source": [
        "import numpy as np\n",
        "import matplotlib.pyplot as plt"
      ]
    },
    {
      "cell_type": "code",
      "execution_count": null,
      "metadata": {
        "id": "1Fzm05Rstt7m"
      },
      "outputs": [],
      "source": [
        "# Datos: Separar medias lunas\n",
        "from sklearn.datasets import make_moons\n",
        "X, y = make_moons(n_samples=100, random_state=123)\n",
        "plt.scatter(X[y==0, 0], X[y==0, 1], color='red', marker='^', alpha=0.5)\n",
        "plt.scatter(X[y==1, 0], X[y==1, 1], color='blue', marker='o', alpha=0.5)\n",
        "plt.show()"
      ]
    },
    {
      "cell_type": "code",
      "execution_count": null,
      "metadata": {
        "id": "7zd9S4Xm5ezC"
      },
      "outputs": [],
      "source": [
        "# Con PCA\n",
        "from sklearn.decomposition import PCA\n",
        "pca = PCA(n_components=2)\n",
        "X_pca = pca.fit_transform(X)"
      ]
    },
    {
      "cell_type": "code",
      "execution_count": null,
      "metadata": {
        "id": "nxZfQwRm5eug"
      },
      "outputs": [],
      "source": [
        "fig, ax = plt.subplots(nrows=1, ncols=2,figsize=(10,4))\n",
        "\"\"\"\n",
        "ax[0].scatter(,,color='red',marker='^',alpha=0.5)\n",
        "ax[0].scatter(,,color='blue',marker='o',alpha=0.5)\n",
        "ax[1].scatter(,,color='red',marker='^',alpha=0.5)\n",
        "ax[1].scatter(,,color='blue',marker='o',alpha=0.5)\n",
        "ax[0].set_xlabel('PC1')\n",
        "ax[0].set_ylabel('PC2')\n",
        "ax[1].set_ylim([-1,1])\n",
        "ax[0].set_xlabel('PC1')\n",
        "\"\"\"\n",
        "plt.show()"
      ]
    },
    {
      "cell_type": "code",
      "execution_count": null,
      "metadata": {
        "id": "yciZFu0a8BTF"
      },
      "outputs": [],
      "source": [
        "# Datos: Separar medias lunas\n",
        "from sklearn.datasets import make_moons\n",
        "X, y = make_moons(n_samples=100, random_state=123)"
      ]
    },
    {
      "cell_type": "code",
      "execution_count": null,
      "metadata": {
        "id": "TXuLZBKHaE7R"
      },
      "outputs": [],
      "source": [
        "# Con KPCA de Python\n",
        "from sklearn.decomposition import KernelPCA\n",
        "#kpca = KernelPCA(n_components=2, kernel='rbf', gamma=15)\n",
        "#X_kpca = kpca.fit_transform(X)"
      ]
    },
    {
      "cell_type": "code",
      "execution_count": null,
      "metadata": {
        "id": "ueDaJKiT7t8g"
      },
      "outputs": [],
      "source": [
        "fig, ax = plt.subplots(nrows=1, ncols=2, figsize=(10,4))\n",
        "\"\"\"\n",
        "ax[0].scatter(,,color='red',marker='^',alpha=0.5)\n",
        "ax[0].scatter(,,color='blue',marker='o',alpha=0.5)\n",
        "ax[1].scatter(,,color='red',marker='^',alpha=0.5)\n",
        "ax[1].scatter(,,color='blue',marker='o',alpha=0.5)\n",
        "ax[0].set_xlabel('PC1')\n",
        "ax[0].set_ylabel('PC2')\n",
        "ax[1].set_ylim([-1,1])\n",
        "ax[0].set_xlabel('PC1')\n",
        "\"\"\"\n",
        "plt.show()"
      ]
    },
    {
      "cell_type": "code",
      "execution_count": null,
      "metadata": {
        "id": "xuIhuhW0tt31"
      },
      "outputs": [],
      "source": [
        "# Datos: círculos concéntricos\n",
        "from sklearn.datasets import make_circles\n",
        "X, y = make_circles(n_samples=1000, random_state=123, noise=0.1, factor=0.2)\n",
        "plt.scatter(X[y==0, 0], X[y==0, 1], color='red', marker='^', alpha=0.5)\n",
        "plt.scatter(X[y==1, 0], X[y==1, 1], color='blue', marker='o', alpha=0.5)\n",
        "plt.show()"
      ]
    },
    {
      "cell_type": "code",
      "execution_count": null,
      "metadata": {
        "id": "HbOfzT8-8p6O"
      },
      "outputs": [],
      "source": [
        "# Intentar con PCA\n",
        "from sklearn.decomposition import PCA\n",
        "pca = PCA(n_components=2)\n",
        "X_pca = pca.fit_transform(X)"
      ]
    },
    {
      "cell_type": "code",
      "execution_count": null,
      "metadata": {
        "id": "D96x3K2R8pzy"
      },
      "outputs": [],
      "source": [
        "fig, ax = plt.subplots(nrows=1, ncols=2, figsize=(10,4))\n",
        "# Código para graficar\n",
        "plt.show()"
      ]
    },
    {
      "cell_type": "code",
      "execution_count": null,
      "metadata": {
        "id": "MfqqgVLi1sRo"
      },
      "outputs": [],
      "source": [
        "# Con KPCA de Python\n",
        "from sklearn.decomposition import KernelPCA\n",
        "#kpca = KernelPCA()\n",
        "#X_kpca = kpca.fit_transform(X)"
      ]
    },
    {
      "cell_type": "code",
      "execution_count": null,
      "metadata": {
        "id": "s1BT9UIv8hIW"
      },
      "outputs": [],
      "source": [
        "fig, ax = plt.subplots(nrows=1, ncols=2, figsize=(10,4))\n",
        "# Código para graficar\n",
        "plt.show()"
      ]
    }
  ],
  "metadata": {
    "colab": {
      "provenance": []
    },
    "kernelspec": {
      "display_name": "Python 3",
      "name": "python3"
    }
  },
  "nbformat": 4,
  "nbformat_minor": 0
}
