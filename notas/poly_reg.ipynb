{
  "nbformat": 4,
  "nbformat_minor": 0,
  "metadata": {
    "colab": {
      "provenance": []
    },
    "kernelspec": {
      "name": "python3",
      "display_name": "Python 3"
    },
    "language_info": {
      "name": "python"
    }
  },
  "cells": [
    {
      "cell_type": "code",
      "execution_count": null,
      "metadata": {
        "id": "oBomZMX7QzRZ"
      },
      "outputs": [],
      "source": [
        "import numpy as np\n",
        "import pandas as pd\n",
        "import matplotlib.pyplot as plt"
      ]
    },
    {
      "cell_type": "code",
      "source": [
        "y = [3, 4, 5, 7, 10, 8, 10, 23, 27, 44, 63, 67,  60, 62, 70, 75, 88, 81,\n",
        "     87, 95, 108, 135, 151, 169, 179]\n",
        "x = np.arange(len(y))\n",
        "plt.figure(figsize=(10,6))\n",
        "plt.scatter(x, y)\n",
        "plt.show()"
      ],
      "metadata": {
        "id": "ORsqzWRiRcJt"
      },
      "execution_count": null,
      "outputs": []
    },
    {
      "cell_type": "code",
      "source": [
        "# Características polinomiales\n",
        "from sklearn.preprocessing import PolynomialFeatures\n",
        "#poly = PolynomialFeatures()"
      ],
      "metadata": {
        "id": "Cqxh_THUjpM5"
      },
      "execution_count": null,
      "outputs": []
    },
    {
      "cell_type": "code",
      "source": [
        "# Generación de características nuevas\n",
        "#poly_features = poly.fit_transform(x.reshape(-1, 1))\n",
        "#poly_features"
      ],
      "metadata": {
        "id": "BZMFhwy9jpKJ"
      },
      "execution_count": null,
      "outputs": []
    },
    {
      "cell_type": "code",
      "source": [
        "# Modelo lineal\n",
        "from sklearn.linear_model import LinearRegression\n",
        "poly_reg_model = LinearRegression()"
      ],
      "metadata": {
        "id": "4jmf2XH4jpG_"
      },
      "execution_count": null,
      "outputs": []
    },
    {
      "cell_type": "code",
      "source": [
        "# Ajuste y predicción\n",
        "#poly_reg_model.fit(poly_features, y)\n",
        "#y_pred = poly_reg_model.predict(poly_features)"
      ],
      "metadata": {
        "id": "wKT_5zy-jpEF"
      },
      "execution_count": null,
      "outputs": []
    },
    {
      "cell_type": "code",
      "source": [
        "plt.figure(figsize=(10, 6))\n",
        "\"\"\"\n",
        "plt.scatter(x, y)\n",
        "plt.plot(x, y_pred, c=\"red\")\n",
        "plt.title('Regresión polinomial', size=16)\n",
        "plt.xlabel('x')\n",
        "plt.ylabel('y')\n",
        "\"\"\"\n",
        "plt.show()"
      ],
      "metadata": {
        "id": "kkLkNDzGjpA-"
      },
      "execution_count": null,
      "outputs": []
    },
    {
      "cell_type": "code",
      "source": [
        "# Determinar el grado del polinomio"
      ],
      "metadata": {
        "id": "btws6fX7hd6k"
      },
      "execution_count": null,
      "outputs": []
    },
    {
      "cell_type": "code",
      "source": [
        "import numpy as np\n",
        "import matplotlib.pyplot as plt\n",
        "x = 6 * np.random.rand(200, 1) - 3\n",
        "y = 0.8*x**2 + 0.9*x + 2 + np.random.randn(200, 1)\n",
        "#ecuación -> y = 0.8x^2 + 0.9x + 2\n",
        "plt.plot(x, y, 'b.')\n",
        "plt.xlabel('x')\n",
        "plt.ylabel('y')\n",
        "plt.show()"
      ],
      "metadata": {
        "id": "-xTJEIXrRdfM"
      },
      "execution_count": null,
      "outputs": []
    },
    {
      "cell_type": "code",
      "source": [
        "from sklearn.model_selection import train_test_split\n",
        "from sklearn.linear_model import LinearRegression\n",
        "from sklearn.preprocessing import PolynomialFeatures\n",
        "from sklearn.metrics import r2_score, mean_squared_error\n",
        "import seaborn as sns\n",
        "sns.set()"
      ],
      "metadata": {
        "id": "b6P3J5nuRdc7"
      },
      "execution_count": null,
      "outputs": []
    },
    {
      "cell_type": "code",
      "source": [
        "# conjunto de entrenamiento y pruebas\n",
        "x_train,x_test,y_train,y_test=train_test_split(x, y, test_size=0.2,\n",
        "                                               random_state=2)"
      ],
      "metadata": {
        "id": "JljatLt3Rdav"
      },
      "execution_count": null,
      "outputs": []
    },
    {
      "cell_type": "code",
      "source": [
        "# modelo lineaal y su rendimiento\n",
        "lr = LinearRegression()\n",
        "lr.fit(x_train, y_train)\n",
        "y_pred = lr.predict(x_test)\n",
        "print('  R2 : ',r2_score(y_test, y_pred))\n",
        "print('RMSE : ',np.sqrt(mean_squared_error(y_test, y_pred)))"
      ],
      "metadata": {
        "id": "Am2QKwk_RdWp"
      },
      "execution_count": null,
      "outputs": []
    },
    {
      "cell_type": "code",
      "source": [
        "plt.plot(x_train, lr.predict(x_train), color='r')\n",
        "plt.plot(x, y, 'b.')\n",
        "plt.xlabel('x')\n",
        "plt.ylabel('y')\n",
        "plt.show()"
      ],
      "metadata": {
        "id": "ECFEKVvARdT8"
      },
      "execution_count": null,
      "outputs": []
    },
    {
      "cell_type": "code",
      "source": [
        "# Polinomio de grado 2\n",
        "\"\"\"\n",
        "poly = PolynomialFeatures()\n",
        "x_train_poly = poly.fit_transform()\n",
        "x_test_poly = poly.transform()\n",
        "lr = LinearRegression()\n",
        "lr.fit()\n",
        "y_pred = lr.predict(x_test_poly)\n",
        "print('  R2 : ',r2_score(y_test, y_pred))\n",
        "print('RMSE : ',np.sqrt(mean_squared_error(y_test, y_pred)))\n",
        "# Visualización\n",
        "x_new = np.linspace(-3, 3, 200).reshape(200, 1)\n",
        "x_new_poly = poly.transform(x_new)\n",
        "y_new_pred = lr.predict(x_new_poly)\n",
        "plt.plot(x_new, y_new_pred, \"r\", linewidth=2, label='Curva de ajuste')\n",
        "plt.plot(x_train, y_train, \"b.\",label='Entrenamiento')\n",
        "plt.plot(x_test, y_test, \"g*\",label='Pruebas')\n",
        "plt.xlabel(\"x\")\n",
        "plt.ylabel(\"y\")\n",
        "plt.legend()\n",
        "plt.show()\n",
        "\"\"\""
      ],
      "metadata": {
        "id": "hyH4-WbLRdRl"
      },
      "execution_count": null,
      "outputs": []
    },
    {
      "cell_type": "code",
      "source": [],
      "metadata": {
        "id": "Zbf-36SLt57U"
      },
      "execution_count": null,
      "outputs": []
    },
    {
      "cell_type": "code",
      "source": [
        "# PolyReg múltiples características\n",
        "import numpy as np\n",
        "import pandas as pd\n",
        "import matplotlib.pyplot as plt"
      ],
      "metadata": {
        "id": "E6QlTOE1jo92"
      },
      "execution_count": null,
      "outputs": []
    },
    {
      "cell_type": "code",
      "source": [
        "# Generador de datos\n",
        "np.random.seed(1)\n",
        "x1 = np.absolute(np.random.randn(100, 1) * 10)\n",
        "x2 = np.absolute(np.random.randn(100, 1) * 30)\n",
        "y = 2*x1**2 + 3*x2 + 2 + np.random.randn(100, 1)*20\n",
        "#ecuación -> y = 2*x1^2 + 3x2 + 2"
      ],
      "metadata": {
        "id": "B_x3BVrHXdV2"
      },
      "execution_count": null,
      "outputs": []
    },
    {
      "cell_type": "code",
      "source": [
        "# Gráficas\n",
        "fig, axes = plt.subplots(nrows=1, ncols=2, figsize=(10, 4))\n",
        "axes[0].scatter(x1, y)\n",
        "axes[1].scatter(x2, y)\n",
        "axes[0].set_title(\"y = f(x1)\")\n",
        "axes[1].set_title(\"y = f(x2)\")\n",
        "plt.show()"
      ],
      "metadata": {
        "id": "m078SwVEXdTT"
      },
      "execution_count": null,
      "outputs": []
    },
    {
      "cell_type": "code",
      "source": [
        "# DataFrame de los datos\n",
        "df = pd.DataFrame({'x1':x1.reshape(100,), 'x2':x2.reshape(100,),\n",
        "                   'y':y.reshape(100,)}, index=range(0,100))\n",
        "df.head()"
      ],
      "metadata": {
        "id": "ADEhn-wQXdQg"
      },
      "execution_count": null,
      "outputs": []
    },
    {
      "cell_type": "code",
      "source": [
        "# Características polinomiales y conjuntos de entrenamiento/prueba\n",
        "from sklearn.preprocessing import PolynomialFeatures\n",
        "from sklearn.model_selection import train_test_split\n",
        "X, y = df[['x1', 'x2']], df['y']\n",
        "#poly = PolynomialFeatures()\n",
        "#X_poly_features = poly.fit_transform(X)\n",
        "#X_poly_features.shape"
      ],
      "metadata": {
        "id": "95F0UCk9XdKh"
      },
      "execution_count": null,
      "outputs": []
    },
    {
      "cell_type": "code",
      "source": [
        "# Entrenamiento y pruebas\n",
        "X_train,X_test,y_train,y_test=train_test_split(X_poly_features, y,\n",
        "                                               test_size=0.3, random_state=42)"
      ],
      "metadata": {
        "id": "vrQAGqjAtStt"
      },
      "execution_count": null,
      "outputs": []
    },
    {
      "cell_type": "code",
      "source": [
        "# Modelo lineal\n",
        "from sklearn.linear_model import LinearRegression\n",
        "poly_reg_model = LinearRegression()"
      ],
      "metadata": {
        "id": "bUJlm8vQjo7B"
      },
      "execution_count": null,
      "outputs": []
    },
    {
      "cell_type": "code",
      "source": [
        "# Ajuste, predicción y evaluación\n",
        "poly_reg_model.fit(X_train, y_train)\n",
        "y_pred = poly_reg_model.predict(X_test)\n",
        "from sklearn.metrics import mean_squared_error\n",
        "poly_reg_rmse = np.sqrt(mean_squared_error(y_test, y_pred))\n",
        "poly_reg_rmse"
      ],
      "metadata": {
        "id": "YnqnNaqmjo31"
      },
      "execution_count": null,
      "outputs": []
    },
    {
      "cell_type": "code",
      "source": [
        "\"\"\" Para dos variables independientes se convierte en:\n",
        "indep + a·x1 + b·x2 + c·x1^2+ d·x1·x2 + e·x2^2\n",
        "\n",
        "con: indep = intercept\n",
        "a = coefs[0]\n",
        "...\n",
        "e = coefs[4]\n",
        "\"\"\"\n",
        "print(poly_reg_model.intercept_, poly_reg_model.coef_)"
      ],
      "metadata": {
        "id": "h11qpN1rNgkD"
      },
      "execution_count": null,
      "outputs": []
    },
    {
      "cell_type": "code",
      "source": [
        "# Vs modelo lineal puro\n",
        "lin_reg_model = LinearRegression()\n",
        "lin_reg_model.fit(X_train, y_train)\n",
        "lin_reg_y_pred = lin_reg_model.predict(X_test)\n",
        "lin_reg_rmse = np.sqrt(mean_squared_error(y_test, lin_reg_y_pred))\n",
        "lin_reg_rmse"
      ],
      "metadata": {
        "id": "uY7BbF4kjo1G"
      },
      "execution_count": null,
      "outputs": []
    },
    {
      "cell_type": "code",
      "source": [],
      "metadata": {
        "id": "BCmNeGVxn3ED"
      },
      "execution_count": null,
      "outputs": []
    },
    {
      "cell_type": "code",
      "source": [],
      "metadata": {
        "id": "K2hXmdVjn3BY"
      },
      "execution_count": null,
      "outputs": []
    }
  ]
}