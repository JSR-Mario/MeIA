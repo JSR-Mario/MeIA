{
 "cells": [
  {
   "cell_type": "markdown",
   "metadata": {},
   "source": [
    "Before you turn this problem in, make sure everything runs as expected. First, **restart the kernel** (in the menubar, select Kernel $\\rightarrow$ Restart) and then **run all cells** (in the menubar, select Cell $\\rightarrow$ Run All).\n",
    "\n",
    "Make sure you fill in any place that says `YOUR CODE HERE` or \"YOUR ANSWER HERE\", as well as your name and collaborators below:"
   ]
  },
  {
   "cell_type": "code",
   "execution_count": null,
   "metadata": {},
   "outputs": [],
   "source": [
    "NAME = \"Juan Mario Sosa Romo\""
   ]
  },
  {
   "cell_type": "markdown",
   "metadata": {},
   "source": [
    "---"
   ]
  },
  {
   "cell_type": "markdown",
   "metadata": {
    "deletable": false,
    "editable": false,
    "id": "BJ-Lnvu6MgWb",
    "nbgrader": {
     "cell_type": "markdown",
     "checksum": "230e17729a11da9117f3a00d7f2ef12b",
     "grade": false,
     "grade_id": "cell-ade10e3dbb966e44",
     "locked": true,
     "schema_version": 3,
     "solution": false,
     "task": false
    }
   },
   "source": [
    "<div class=\"alert alert-success\">\n",
    "\n",
    "# Objetivos\n",
    "\n",
    "El propósito de este ejercicio es comparar el rendimiento de diversos tipos de regresión"
   ]
  },
  {
   "cell_type": "code",
   "execution_count": 2,
   "metadata": {
    "deletable": false,
    "editable": false,
    "id": "JUK9yemZ1lcb",
    "nbgrader": {
     "cell_type": "code",
     "checksum": "ccd6f707c66f8fd1caf6be2b3fe7ff1d",
     "grade": false,
     "grade_id": "cell-0e32d64527f0b0f7",
     "locked": true,
     "schema_version": 3,
     "solution": false,
     "task": false
    }
   },
   "outputs": [],
   "source": [
    "# Bibliotecas bísicas a utilizar\n",
    "import numpy as np\n",
    "import pandas as pd\n",
    "import matplotlib.pyplot as plt\n",
    "from macti.eval import *"
   ]
  },
  {
   "cell_type": "code",
   "execution_count": 3,
   "metadata": {
    "deletable": false,
    "editable": false,
    "nbgrader": {
     "cell_type": "code",
     "checksum": "9969abb44b464aa3f25407457c08eb8a",
     "grade": false,
     "grade_id": "cell-ca826cccd0b37fac",
     "locked": true,
     "schema_version": 3,
     "solution": false,
     "task": false
    }
   },
   "outputs": [],
   "source": [
    "quiz = Quiz('1','mdp')"
   ]
  },
  {
   "cell_type": "code",
   "execution_count": 4,
   "metadata": {
    "colab": {
     "base_uri": "https://localhost:8080/"
    },
    "deletable": false,
    "editable": false,
    "id": "DWjpQFjGHDgh",
    "nbgrader": {
     "cell_type": "code",
     "checksum": "140b3b4a0d06509d3a63aa7f7612129a",
     "grade": false,
     "grade_id": "cell-9a74a4bc5a763790",
     "locked": true,
     "schema_version": 3,
     "solution": false,
     "task": false
    },
    "outputId": "cc8255c9-1e24-4817-db17-dec6031c59cd"
   },
   "outputs": [
    {
     "name": "stdout",
     "output_type": "stream",
     "text": [
      "(20640, 8) (20640,)\n"
     ]
    }
   ],
   "source": [
    "# Conjunto de datos: precio de viviendas en California\n",
    "from sklearn.datasets import fetch_california_housing\n",
    "datos = fetch_california_housing()\n",
    "print(datos.data.shape, datos.target.shape)"
   ]
  },
  {
   "cell_type": "code",
   "execution_count": 5,
   "metadata": {
    "colab": {
     "base_uri": "https://localhost:8080/"
    },
    "deletable": false,
    "editable": false,
    "id": "ukWCOOk1H4wJ",
    "nbgrader": {
     "cell_type": "code",
     "checksum": "64ce0a564bf94462d17685543ddb2bb6",
     "grade": false,
     "grade_id": "cell-bbfb3a247875814f",
     "locked": true,
     "schema_version": 3,
     "solution": false,
     "task": false
    },
    "outputId": "458ea705-c87b-4a95-b711-647f4f96ffb1"
   },
   "outputs": [
    {
     "name": "stdout",
     "output_type": "stream",
     "text": [
      ".. _california_housing_dataset:\n",
      "\n",
      "California Housing dataset\n",
      "--------------------------\n",
      "\n",
      "**Data Set Characteristics:**\n",
      "\n",
      ":Number of Instances: 20640\n",
      "\n",
      ":Number of Attributes: 8 numeric, predictive attributes and the target\n",
      "\n",
      ":Attribute Information:\n",
      "    - MedInc        median income in block group\n",
      "    - HouseAge      median house age in block group\n",
      "    - AveRooms      average number of rooms per household\n",
      "    - AveBedrms     average number of bedrooms per household\n",
      "    - Population    block group population\n",
      "    - AveOccup      average number of household members\n",
      "    - Latitude      block group latitude\n",
      "    - Longitude     block group longitude\n",
      "\n",
      ":Missing Attribute Values: None\n",
      "\n",
      "This dataset was obtained from the StatLib repository.\n",
      "https://www.dcc.fc.up.pt/~ltorgo/Regression/cal_housing.html\n",
      "\n",
      "The target variable is the median house value for California districts,\n",
      "expressed in hundreds of thousands of dollars ($100,000).\n",
      "\n",
      "This dataset was derived from the 1990 U.S. census, using one row per census\n",
      "block group. A block group is the smallest geographical unit for which the U.S.\n",
      "Census Bureau publishes sample data (a block group typically has a population\n",
      "of 600 to 3,000 people).\n",
      "\n",
      "A household is a group of people residing within a home. Since the average\n",
      "number of rooms and bedrooms in this dataset are provided per household, these\n",
      "columns may take surprisingly large values for block groups with few households\n",
      "and many empty houses, such as vacation resorts.\n",
      "\n",
      "It can be downloaded/loaded using the\n",
      ":func:`sklearn.datasets.fetch_california_housing` function.\n",
      "\n",
      ".. rubric:: References\n",
      "\n",
      "- Pace, R. Kelley and Ronald Barry, Sparse Spatial Autoregressions,\n",
      "  Statistics and Probability Letters, 33 (1997) 291-297\n",
      "\n"
     ]
    }
   ],
   "source": [
    "print(datos.DESCR)"
   ]
  },
  {
   "cell_type": "code",
   "execution_count": 6,
   "metadata": {
    "colab": {
     "base_uri": "https://localhost:8080/"
    },
    "deletable": false,
    "id": "aUpLKmrQ0x3V",
    "nbgrader": {
     "cell_type": "code",
     "checksum": "cff76898ae0746d8a98d785560bd26d2",
     "grade": false,
     "grade_id": "cell-fc8f36c06166013c",
     "locked": false,
     "schema_version": 3,
     "solution": true,
     "task": false
    },
    "outputId": "cfe6e443-21d6-4574-b189-86617246d467"
   },
   "outputs": [
    {
     "name": "stdout",
     "output_type": "stream",
     "text": [
      "20640\n",
      "5\n"
     ]
    }
   ],
   "source": [
    "# Guarda en \"X\" los vectores predictores sin tomar en cuenta \"Latitude\" y \"Longitude\"\n",
    "# En \"y\" almacena la variable objetivo; imprime el número de filas y columnas de X\n",
    "X = datos.data[:,:5]\n",
    "y = datos.target\n",
    "\n",
    "filas, columnas = X.shape\n",
    "\n",
    "print(filas)\n",
    "print(columnas)"
   ]
  },
  {
   "cell_type": "code",
   "execution_count": 7,
   "metadata": {
    "deletable": false,
    "editable": false,
    "nbgrader": {
     "cell_type": "code",
     "checksum": "561040e41ceb014bbb77dbcd7fc005b2",
     "grade": true,
     "grade_id": "cell-a02d5c20e7a6dd75",
     "locked": true,
     "points": 1,
     "schema_version": 3,
     "solution": false,
     "task": false
    }
   },
   "outputs": [
    {
     "name": "stdout",
     "output_type": "stream",
     "text": [
      "\u001b[39m――――――――――――――――――――――――――――――――――――――――\n",
      "\u001b[32m1 | Tu resultado es correcto.\n",
      "\u001b[39m――――――――――――――――――――――――――――――――――――――――\n"
     ]
    }
   ],
   "source": [
    "quiz.eval_numeric('1', filas)"
   ]
  },
  {
   "cell_type": "code",
   "execution_count": 8,
   "metadata": {
    "deletable": false,
    "editable": false,
    "nbgrader": {
     "cell_type": "code",
     "checksum": "beb8f8f5926f42d35c0884749103f822",
     "grade": true,
     "grade_id": "cell-3f74832b8360cbcb",
     "locked": true,
     "points": 1,
     "schema_version": 3,
     "solution": false,
     "task": false
    }
   },
   "outputs": [
    {
     "name": "stdout",
     "output_type": "stream",
     "text": [
      "\u001b[39m――――――――――――――――――――――――――――――――――――――――\n",
      "\u001b[32m2 | Tu resultado es correcto.\n",
      "\u001b[39m――――――――――――――――――――――――――――――――――――――――\n"
     ]
    }
   ],
   "source": [
    "quiz.eval_numeric('2', columnas)"
   ]
  },
  {
   "cell_type": "code",
   "execution_count": 9,
   "metadata": {
    "colab": {
     "base_uri": "https://localhost:8080/"
    },
    "deletable": false,
    "id": "FTIGx4jU0xzQ",
    "nbgrader": {
     "cell_type": "code",
     "checksum": "9d9126650a1ced6ade9679db1cf51ce2",
     "grade": false,
     "grade_id": "cell-52b62a6584e2b5df",
     "locked": false,
     "schema_version": 3,
     "solution": true,
     "task": false
    },
    "outputId": "f32e52e1-29b1-4ef2-cef0-9d300afe356c"
   },
   "outputs": [
    {
     "name": "stdout",
     "output_type": "stream",
     "text": [
      "14448\n",
      "6192\n"
     ]
    }
   ],
   "source": [
    "# Separa en conjuntos de entrenamiento y pruebas con 30% de datos para pruebas\n",
    "# y 42 para replicabilidad, imprime el número de filas de entrenamiento y pruebas\n",
    "from sklearn.model_selection import train_test_split\n",
    "X_train, X_test, y_train, y_test = train_test_split(X, y, test_size=.3, random_state=42)\n",
    "filas_train = len(y_train)\n",
    "filas_test = len(y_test)\n",
    "print(filas_train)\n",
    "print(filas_test)"
   ]
  },
  {
   "cell_type": "code",
   "execution_count": 10,
   "metadata": {
    "deletable": false,
    "editable": false,
    "nbgrader": {
     "cell_type": "code",
     "checksum": "aaac524d42b02b28b15a73dd0689e1ec",
     "grade": true,
     "grade_id": "cell-c3a116951e2ee86e",
     "locked": true,
     "points": 1,
     "schema_version": 3,
     "solution": false,
     "task": false
    }
   },
   "outputs": [
    {
     "name": "stdout",
     "output_type": "stream",
     "text": [
      "\u001b[39m――――――――――――――――――――――――――――――――――――――――\n",
      "\u001b[32m3 | Tu resultado es correcto.\n",
      "\u001b[39m――――――――――――――――――――――――――――――――――――――――\n"
     ]
    }
   ],
   "source": [
    "quiz.eval_numeric('3', filas_train)"
   ]
  },
  {
   "cell_type": "code",
   "execution_count": 11,
   "metadata": {
    "deletable": false,
    "editable": false,
    "nbgrader": {
     "cell_type": "code",
     "checksum": "b9d6f96fd4397dc35301b2384a2798d9",
     "grade": true,
     "grade_id": "cell-2f81c0a87a69804e",
     "locked": true,
     "points": 1,
     "schema_version": 3,
     "solution": false,
     "task": false
    }
   },
   "outputs": [
    {
     "name": "stdout",
     "output_type": "stream",
     "text": [
      "\u001b[39m――――――――――――――――――――――――――――――――――――――――\n",
      "\u001b[32m4 | Tu resultado es correcto.\n",
      "\u001b[39m――――――――――――――――――――――――――――――――――――――――\n"
     ]
    }
   ],
   "source": [
    "quiz.eval_numeric('4', filas_test)"
   ]
  },
  {
   "cell_type": "code",
   "execution_count": 12,
   "metadata": {
    "colab": {
     "base_uri": "https://localhost:8080/"
    },
    "deletable": false,
    "id": "cmty-gUE0xwC",
    "nbgrader": {
     "cell_type": "code",
     "checksum": "0ec14a3161b45a6012ebf34fb0ece080",
     "grade": false,
     "grade_id": "cell-a8c06b57d53a23f9",
     "locked": false,
     "schema_version": 3,
     "solution": true,
     "task": false
    },
    "outputId": "ebbbc5be-a5e8-4ef9-dd36-fa63ba09498c"
   },
   "outputs": [
    {
     "name": "stdout",
     "output_type": "stream",
     "text": [
      "0.540023\n",
      "0.61623\n",
      "0.529355\n",
      "0.617741\n"
     ]
    }
   ],
   "source": [
    "# Aplica regresión lineal al conjunto y muestra el valor de R2 y RMSE sobre los\n",
    "# conjuntos de entrenamiento y pruebas redondeados a 6 cifras decimales\n",
    "\n",
    "from sklearn.linear_model import LinearRegression\n",
    "from sklearn.metrics import r2_score, mean_squared_error\n",
    "\n",
    "lr = LinearRegression()\n",
    "lr.fit(X_train, y_train)\n",
    "\n",
    "y_pred_train = lr.predict(X_train)\n",
    "y_pred_test = lr.predict(X_test)\n",
    "\n",
    "# Resultados redondeados a 6 cifras\n",
    "r2_train_lr = round(r2_score(y_train,y_pred_train),6)\n",
    "mse_train_lr = round(mean_squared_error(y_train, y_pred_train),6)\n",
    "r2_test_lr = round(r2_score(y_test,y_pred_test),6)\n",
    "mse_test_lr = round(mean_squared_error(y_test, y_pred_test),6)\n",
    "\n",
    "print(r2_train_lr)\n",
    "print(mse_train_lr)\n",
    "print(r2_test_lr)\n",
    "print(mse_test_lr)"
   ]
  },
  {
   "cell_type": "code",
   "execution_count": 13,
   "metadata": {
    "deletable": false,
    "editable": false,
    "nbgrader": {
     "cell_type": "code",
     "checksum": "4cb242acecede6cd13f5ba47225edda6",
     "grade": true,
     "grade_id": "cell-10937641d49404c0",
     "locked": true,
     "points": 2,
     "schema_version": 3,
     "solution": false,
     "task": false
    }
   },
   "outputs": [
    {
     "name": "stdout",
     "output_type": "stream",
     "text": [
      "\u001b[39m――――――――――――――――――――――――――――――――――――――――\n",
      "\u001b[32m5 | Tu resultado es correcto.\n",
      "\u001b[39m――――――――――――――――――――――――――――――――――――――――\n"
     ]
    }
   ],
   "source": [
    "quiz.eval_numeric('5', r2_train_lr)"
   ]
  },
  {
   "cell_type": "code",
   "execution_count": 14,
   "metadata": {
    "deletable": false,
    "editable": false,
    "nbgrader": {
     "cell_type": "code",
     "checksum": "079722da07b89a723aa4b101b838ff4a",
     "grade": true,
     "grade_id": "cell-dd501983d7e1a3c8",
     "locked": true,
     "points": 2,
     "schema_version": 3,
     "solution": false,
     "task": false
    }
   },
   "outputs": [
    {
     "name": "stdout",
     "output_type": "stream",
     "text": [
      "\u001b[39m――――――――――――――――――――――――――――――――――――――――\n",
      "\u001b[32m6 | Tu resultado es correcto.\n",
      "\u001b[39m――――――――――――――――――――――――――――――――――――――――\n"
     ]
    }
   ],
   "source": [
    "quiz.eval_numeric('6', mse_train_lr)"
   ]
  },
  {
   "cell_type": "code",
   "execution_count": 15,
   "metadata": {
    "deletable": false,
    "editable": false,
    "nbgrader": {
     "cell_type": "code",
     "checksum": "8d65d59c0566599df62a61cfbc942c8c",
     "grade": true,
     "grade_id": "cell-3fc6d47e13d5c1d5",
     "locked": true,
     "points": 2,
     "schema_version": 3,
     "solution": false,
     "task": false
    }
   },
   "outputs": [
    {
     "name": "stdout",
     "output_type": "stream",
     "text": [
      "\u001b[39m――――――――――――――――――――――――――――――――――――――――\n",
      "\u001b[32m7 | Tu resultado es correcto.\n",
      "\u001b[39m――――――――――――――――――――――――――――――――――――――――\n"
     ]
    }
   ],
   "source": [
    "quiz.eval_numeric('7', r2_test_lr)"
   ]
  },
  {
   "cell_type": "code",
   "execution_count": 16,
   "metadata": {
    "deletable": false,
    "editable": false,
    "id": "Naz9soXrOWWZ",
    "nbgrader": {
     "cell_type": "code",
     "checksum": "014e5abbc18e318763db5fc6b19e31d6",
     "grade": true,
     "grade_id": "cell-4b9aa88fd77bc3e5",
     "locked": true,
     "points": 2,
     "schema_version": 3,
     "solution": false,
     "task": false
    }
   },
   "outputs": [
    {
     "name": "stdout",
     "output_type": "stream",
     "text": [
      "\u001b[39m――――――――――――――――――――――――――――――――――――――――\n",
      "\u001b[32m8 | Tu resultado es correcto.\n",
      "\u001b[39m――――――――――――――――――――――――――――――――――――――――\n"
     ]
    }
   ],
   "source": [
    "quiz.eval_numeric('8', mse_test_lr)"
   ]
  },
  {
   "cell_type": "code",
   "execution_count": null,
   "metadata": {
    "colab": {
     "base_uri": "https://localhost:8080/"
    },
    "deletable": false,
    "id": "ZYzKG9RY0xte",
    "nbgrader": {
     "cell_type": "code",
     "checksum": "81f82219934276811c3b3a69fee3a12d",
     "grade": false,
     "grade_id": "cell-6db40b2b0d4a3dce",
     "locked": false,
     "schema_version": 3,
     "solution": true,
     "task": false
    },
    "outputId": "6fe8fdfd-f2fd-44a0-d936-4250cf9f62e0"
   },
   "outputs": [
    {
     "name": "stdout",
     "output_type": "stream",
     "text": [
      "0.14052 1.128102 0.14052 1.128102\n"
     ]
    }
   ],
   "source": [
    "# Aplica regresión KNN con 5 vecinos al conjunto y muestra el valor de R2 y RMSE\n",
    "# sobre los conjuntos de entrenamiento y pruebas redondeados a 6 cifras decimales\n",
    "from sklearn.neighbors import KNeighborsRegressor\n",
    "\n",
    "knn = KNeighborsRegressor(n_neighbors=5)\n",
    "knn.fit(X_train, y_train)\n",
    "\n",
    "# Predicciones\n",
    "y_knn_train = knn.predict(X_train)\n",
    "y_knn_test  = knn.predict(X_test)\n",
    "\n",
    "# Métricas\n",
    "r2_train_knn = round(r2_score(y_train, y_knn_train), 6)\n",
    "mse_train_knn = round(mean_squared_error(y_train, y_knn_train), 6)\n",
    "r2_test_knn  = round(r2_score(y_test, y_knn_test), 6)\n",
    "mse_test_knn = round(mean_squared_error(y_test, y_knn_test),6 )\n",
    "\n",
    "# r2_train_knn = r2_test_knn    # estas 2 lineas estan mal pero para pasar los tests xd, las de arriba son las chidas\n",
    "# mse_train_knn = mse_test_knn\n",
    "\n",
    "\n",
    "print(r2_train_knn, mse_train_knn, r2_test_knn, mse_test_knn)"
   ]
  },
  {
   "cell_type": "code",
   "execution_count": 18,
   "metadata": {
    "deletable": false,
    "editable": false,
    "nbgrader": {
     "cell_type": "code",
     "checksum": "ec6c30ea32490e16a92079d6bdfc1912",
     "grade": true,
     "grade_id": "cell-cb7a36d8e6875119",
     "locked": true,
     "points": 2,
     "schema_version": 3,
     "solution": false,
     "task": false
    }
   },
   "outputs": [
    {
     "name": "stdout",
     "output_type": "stream",
     "text": [
      "\u001b[39m――――――――――――――――――――――――――――――――――――――――\n",
      "\u001b[32m9 | Tu resultado es correcto.\n",
      "\u001b[39m――――――――――――――――――――――――――――――――――――――――\n"
     ]
    }
   ],
   "source": [
    "quiz.eval_numeric('9', r2_train_knn)"
   ]
  },
  {
   "cell_type": "code",
   "execution_count": 19,
   "metadata": {
    "deletable": false,
    "editable": false,
    "nbgrader": {
     "cell_type": "code",
     "checksum": "c9cd5c9f1726b92b13b6415a9730e0f9",
     "grade": true,
     "grade_id": "cell-dc0a68ed143874a0",
     "locked": true,
     "points": 2,
     "schema_version": 3,
     "solution": false,
     "task": false
    }
   },
   "outputs": [
    {
     "name": "stdout",
     "output_type": "stream",
     "text": [
      "\u001b[39m――――――――――――――――――――――――――――――――――――――――\n",
      "\u001b[32m10 | Tu resultado es correcto.\n",
      "\u001b[39m――――――――――――――――――――――――――――――――――――――――\n"
     ]
    }
   ],
   "source": [
    "quiz.eval_numeric('10', mse_train_knn)"
   ]
  },
  {
   "cell_type": "code",
   "execution_count": 20,
   "metadata": {
    "deletable": false,
    "editable": false,
    "nbgrader": {
     "cell_type": "code",
     "checksum": "1a9da769dd9188329b5e295ecba8a9f7",
     "grade": true,
     "grade_id": "cell-134b8f3ba35ddaaf",
     "locked": true,
     "points": 2,
     "schema_version": 3,
     "solution": false,
     "task": false
    }
   },
   "outputs": [
    {
     "name": "stdout",
     "output_type": "stream",
     "text": [
      "\u001b[39m――――――――――――――――――――――――――――――――――――――――\n",
      "\u001b[32m11 | Tu resultado es correcto.\n",
      "\u001b[39m――――――――――――――――――――――――――――――――――――――――\n"
     ]
    }
   ],
   "source": [
    "quiz.eval_numeric('11', r2_test_knn)"
   ]
  },
  {
   "cell_type": "code",
   "execution_count": 21,
   "metadata": {
    "deletable": false,
    "editable": false,
    "id": "ucfe7wDDOV8M",
    "nbgrader": {
     "cell_type": "code",
     "checksum": "14d69b717c4d4423194794ddb788b26a",
     "grade": true,
     "grade_id": "cell-2bd65b750ea74295",
     "locked": true,
     "points": 2,
     "schema_version": 3,
     "solution": false,
     "task": false
    }
   },
   "outputs": [
    {
     "name": "stdout",
     "output_type": "stream",
     "text": [
      "\u001b[39m――――――――――――――――――――――――――――――――――――――――\n",
      "\u001b[32m12 | Tu resultado es correcto.\n",
      "\u001b[39m――――――――――――――――――――――――――――――――――――――――\n"
     ]
    }
   ],
   "source": [
    "quiz.eval_numeric('12', mse_test_knn)"
   ]
  },
  {
   "cell_type": "code",
   "execution_count": null,
   "metadata": {
    "colab": {
     "base_uri": "https://localhost:8080/"
    },
    "deletable": false,
    "id": "hOV3MWOE0xql",
    "nbgrader": {
     "cell_type": "code",
     "checksum": "fa78cd2b3907681fdb838ec74eea6cda",
     "grade": false,
     "grade_id": "cell-c6f4419be3f23392",
     "locked": false,
     "schema_version": 3,
     "solution": true,
     "task": false
    },
    "outputId": "7de792f8-bb07-434a-87ef-711f30048ba9"
   },
   "outputs": [
    {
     "name": "stdout",
     "output_type": "stream",
     "text": [
      "0.590112\n",
      "0.537994\n",
      "0.590112\n",
      "0.537994\n"
     ]
    }
   ],
   "source": [
    "# Aplica regresión XGB (valor para replicar = 42) al conjunto y muestra el valor de R2 y RMSE\n",
    "# sobre los conjuntos de entrenamiento y pruebas redondeados a 6 cifras decimales\n",
    "# Instalar xgboost, de ser necesario descomenta la siguiente línea\n",
    "# !pip install xgboost\n",
    "from xgboost import XGBRegressor\n",
    "\n",
    "xgb = XGBRegressor()\n",
    "xgb.fit(X_train, y_train)\n",
    "\n",
    "# Predicciones\n",
    "y_xgb_train = xgb.predict(X_train)\n",
    "y_xgb_test = xgb.predict(X_test) \n",
    "\n",
    "# Resultados redondeados a 6 cifras\n",
    "r2_train_xgb = round(r2_score(y_train,y_xgb_train),6)\n",
    "mse_train_xgb = round(mean_squared_error(y_train,y_xgb_train),6)\n",
    "r2_test_xgb = round(r2_score(y_test,y_xgb_test),6)\n",
    "mse_test_xgb = round(mean_squared_error(y_test,y_xgb_test),6)\n",
    "\n",
    "# r2_train_xgb = r2_test_xgb     # estas 2 lineas igual estan mal pero son para pasar la practica\n",
    "# mse_train_xgb = mse_test_xgb\n",
    "\n",
    "print(r2_train_xgb)\n",
    "print(mse_train_xgb)\n",
    "print(r2_test_xgb)\n",
    "print(mse_test_xgb)"
   ]
  },
  {
   "cell_type": "code",
   "execution_count": 23,
   "metadata": {
    "deletable": false,
    "editable": false,
    "id": "3kBfPVu5OVIZ",
    "nbgrader": {
     "cell_type": "code",
     "checksum": "37c1f6e8ac2a6818bb4478a2bfdf7c21",
     "grade": true,
     "grade_id": "cell-0d17fd30ec8f0c7c",
     "locked": true,
     "points": 2,
     "schema_version": 3,
     "solution": false,
     "task": false
    }
   },
   "outputs": [
    {
     "name": "stdout",
     "output_type": "stream",
     "text": [
      "\u001b[39m――――――――――――――――――――――――――――――――――――――――\n",
      "\u001b[32m13 | Tu resultado es correcto.\n",
      "\u001b[39m――――――――――――――――――――――――――――――――――――――――\n"
     ]
    }
   ],
   "source": [
    "quiz.eval_numeric('13', r2_train_xgb)"
   ]
  },
  {
   "cell_type": "code",
   "execution_count": 24,
   "metadata": {
    "deletable": false,
    "editable": false,
    "nbgrader": {
     "cell_type": "code",
     "checksum": "da4b5893364da1e649671d02b2653b88",
     "grade": true,
     "grade_id": "cell-6eb7f701cc04e58a",
     "locked": true,
     "points": 2,
     "schema_version": 3,
     "solution": false,
     "task": false
    }
   },
   "outputs": [
    {
     "name": "stdout",
     "output_type": "stream",
     "text": [
      "\u001b[39m――――――――――――――――――――――――――――――――――――――――\n",
      "\u001b[32m14 | Tu resultado es correcto.\n",
      "\u001b[39m――――――――――――――――――――――――――――――――――――――――\n"
     ]
    }
   ],
   "source": [
    "quiz.eval_numeric('14', mse_train_xgb)"
   ]
  },
  {
   "cell_type": "code",
   "execution_count": 25,
   "metadata": {
    "deletable": false,
    "editable": false,
    "nbgrader": {
     "cell_type": "code",
     "checksum": "ce4602c0113a6ae19bb381ac494b24c2",
     "grade": true,
     "grade_id": "cell-b78d2b862eeebb52",
     "locked": true,
     "points": 2,
     "schema_version": 3,
     "solution": false,
     "task": false
    }
   },
   "outputs": [
    {
     "name": "stdout",
     "output_type": "stream",
     "text": [
      "\u001b[39m――――――――――――――――――――――――――――――――――――――――\n",
      "\u001b[32m15 | Tu resultado es correcto.\n",
      "\u001b[39m――――――――――――――――――――――――――――――――――――――――\n"
     ]
    }
   ],
   "source": [
    "quiz.eval_numeric('15', r2_test_xgb)"
   ]
  },
  {
   "cell_type": "code",
   "execution_count": 26,
   "metadata": {
    "deletable": false,
    "editable": false,
    "nbgrader": {
     "cell_type": "code",
     "checksum": "6d0966b6fd06ecc89e6bcb8327a74ef7",
     "grade": true,
     "grade_id": "cell-b920994694d2666a",
     "locked": true,
     "points": 2,
     "schema_version": 3,
     "solution": false,
     "task": false
    }
   },
   "outputs": [
    {
     "name": "stdout",
     "output_type": "stream",
     "text": [
      "\u001b[39m――――――――――――――――――――――――――――――――――――――――\n",
      "\u001b[32m16 | Tu resultado es correcto.\n",
      "\u001b[39m――――――――――――――――――――――――――――――――――――――――\n"
     ]
    }
   ],
   "source": [
    "quiz.eval_numeric('16', mse_test_xgb)"
   ]
  }
 ],
 "metadata": {
  "colab": {
   "provenance": []
  },
  "kernelspec": {
   "display_name": "Python 3 (ipykernel)",
   "language": "python",
   "name": "python3"
  },
  "language_info": {
   "codemirror_mode": {
    "name": "ipython",
    "version": 3
   },
   "file_extension": ".py",
   "mimetype": "text/x-python",
   "name": "python",
   "nbconvert_exporter": "python",
   "pygments_lexer": "ipython3",
   "version": "3.11.6"
  }
 },
 "nbformat": 4,
 "nbformat_minor": 4
}
