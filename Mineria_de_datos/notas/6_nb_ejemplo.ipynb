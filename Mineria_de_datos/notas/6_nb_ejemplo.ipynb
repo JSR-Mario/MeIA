{
  "nbformat": 4,
  "nbformat_minor": 0,
  "metadata": {
    "colab": {
      "provenance": []
    },
    "kernelspec": {
      "name": "python3",
      "display_name": "Python 3"
    },
    "language_info": {
      "name": "python"
    }
  },
  "cells": [
    {
      "cell_type": "code",
      "source": [
        "# Ejemplo Bag of Words\n",
        "documents = ['Hello, how are you!',\n",
        "             'Win money, win from home.',\n",
        "             'Call me now.',\n",
        "             'Hello, Call hello you tomorrow?']"
      ],
      "metadata": {
        "id": "DFvVkY0BMKvk"
      },
      "execution_count": null,
      "outputs": []
    },
    {
      "cell_type": "code",
      "source": [
        "# Importar CountVectorizer y crear un objeto\n",
        "from sklearn.feature_extraction.text import CountVectorizer\n",
        "cv = CountVectorizer()\n",
        "cv.fit(documents)\n",
        "names = cv.get_feature_names_out()\n",
        "names"
      ],
      "metadata": {
        "id": "QEWnaYLOMRvA"
      },
      "execution_count": null,
      "outputs": []
    },
    {
      "cell_type": "code",
      "source": [
        "# Transformar y convertir en arreglo\n",
        "docs = cv.transform(documents).toarray()\n",
        "docs"
      ],
      "metadata": {
        "id": "UvTaLL-fMhOW"
      },
      "execution_count": null,
      "outputs": []
    },
    {
      "cell_type": "code",
      "source": [
        "# Convertir en DataFrame\n",
        "import pandas as pd\n",
        "freq = pd.DataFrame(data=docs, columns=names)\n",
        "freq"
      ],
      "metadata": {
        "id": "W7PlzIqpMhLw"
      },
      "execution_count": null,
      "outputs": []
    },
    {
      "cell_type": "code",
      "source": [],
      "metadata": {
        "id": "zaYS6VJ3MhI3"
      },
      "execution_count": null,
      "outputs": []
    },
    {
      "cell_type": "code",
      "source": [
        "# Naive Bayes\n",
        "import pandas as pd\n",
        "df = pd.read_csv('spam.csv', names = ['label', 'sms_message'])\n",
        "df.head(3)"
      ],
      "metadata": {
        "id": "lpSIzJMSo2ba"
      },
      "execution_count": null,
      "outputs": []
    },
    {
      "cell_type": "code",
      "source": [
        "# Preprocesamiento\n",
        "df.label =\n",
        "df.head(3)"
      ],
      "metadata": {
        "id": "mox30RhRrucj"
      },
      "execution_count": null,
      "outputs": []
    },
    {
      "cell_type": "code",
      "source": [
        "from sklearn.model_selection import train_test_split\n",
        "X_train,X_test,y_train,y_test=train_test_split(df.sms_message, df.label,\n",
        "                                               random_state=1)\n",
        "print('Conjunto completo: {}'.format(df.shape[0]))\n",
        "print('Conjunto de entrenamiento: {}'.format(X_train.shape[0]))\n",
        "print('Conjunto de pruebas: {}'.format(X_test.shape[0]))"
      ],
      "metadata": {
        "id": "XwEjLjXwsTDY"
      },
      "execution_count": null,
      "outputs": []
    },
    {
      "cell_type": "code",
      "source": [
        "# Aplicar BoW == Bolsa de palabras\n",
        "from sklearn.feature_extraction.text import CountVectorizer\n",
        "cv = CountVectorizer()\n",
        "# entrenamos el objeto\n",
        "train_data =\n",
        "test_data =\n",
        "train_data.shape, test_data.shape"
      ],
      "metadata": {
        "id": "k-T1MVH1sW9w"
      },
      "execution_count": null,
      "outputs": []
    },
    {
      "cell_type": "code",
      "source": [
        "# Modelo Bayes multinomial\n",
        "from sklearn.naive_bayes import MultinomialNB\n",
        "nb = MultinomialNB()\n",
        "# Entrenar y predecir\n",
        "nb.fit(train_data, y_train)\n",
        "y_pred = nb.predict(test_data)"
      ],
      "metadata": {
        "id": "ccMsbwl0tIKP"
      },
      "execution_count": null,
      "outputs": []
    },
    {
      "cell_type": "code",
      "source": [
        "# Hay otras metricas\n",
        "from sklearn.metrics import\n",
        "print(' Accuracy: ', ))\n",
        "print('Precision: ', ))\n",
        "print('   Recall: ', ))\n",
        "print('       F1: ', ))"
      ],
      "metadata": {
        "id": "qVjYOV_Qt8Xm"
      },
      "execution_count": null,
      "outputs": []
    },
    {
      "cell_type": "code",
      "source": [],
      "metadata": {
        "id": "LIl4ocPYt1UG"
      },
      "execution_count": null,
      "outputs": []
    },
    {
      "cell_type": "code",
      "source": [],
      "metadata": {
        "id": "k67gabojOZ0b"
      },
      "execution_count": null,
      "outputs": []
    }
  ]
}