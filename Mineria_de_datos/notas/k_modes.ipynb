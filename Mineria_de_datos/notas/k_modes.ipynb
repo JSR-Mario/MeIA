{
  "cells": [
    {
      "cell_type": "code",
      "execution_count": null,
      "metadata": {
        "id": "dnl1DfWw401c"
      },
      "outputs": [],
      "source": [
        "# BIBLIOTECA\n",
        "# !pip install kmodes"
      ]
    },
    {
      "cell_type": "code",
      "execution_count": 1,
      "metadata": {
        "id": "Ea5ghNBd41uH"
      },
      "outputs": [],
      "source": [
        "# bibliotecas\n",
        "import pandas as pd\n",
        "import numpy as np\n",
        "import matplotlib.pyplot as plt\n",
        "from kmodes.kmodes import KModes"
      ]
    },
    {
      "cell_type": "code",
      "execution_count": 4,
      "metadata": {
        "id": "_UlAjvYWjszU"
      },
      "outputs": [
        {
          "data": {
            "text/plain": [
              "(array([0, 0, 1, 0, 0, 1, 0, 1], dtype=uint16),\n",
              " array([['x', 'z', 'y'],\n",
              "        ['z', 'y', 'x']], dtype='<U1'))"
            ]
          },
          "execution_count": 4,
          "metadata": {},
          "output_type": "execute_result"
        }
      ],
      "source": [
        "data = np.array([['x', 'y', 'z'],\n",
        "                 ['y', 'z', 'x'],\n",
        "                 ['z', 'x', 'x'],\n",
        "                 ['y', 'z', 'z'],\n",
        "                 ['x', 'z', 'y'],\n",
        "                 ['z', 'y', 'x'],\n",
        "                 ['x', 'x', 'y'],\n",
        "                 ['z', 'y', 'x']])\n",
        "# modelo con 2 grupos\n",
        "# n_init Number of time the k-modes algorithm will be run with different\n",
        "#        centroid seeds. The final results will be the best output of\n",
        "#        n_init consecutive runs in terms of cost\n",
        "km = KModes(n_clusters=2, init='random',n_init=5,verbose=0)\n",
        "grupos = km.fit_predict(data)\n",
        "grupos, km.cluster_centroids_"
      ]
    },
    {
      "cell_type": "code",
      "execution_count": 6,
      "metadata": {
        "id": "llTXZlx9rJl9"
      },
      "outputs": [
        {
          "data": {
            "text/html": [
              "<div>\n",
              "<style scoped>\n",
              "    .dataframe tbody tr th:only-of-type {\n",
              "        vertical-align: middle;\n",
              "    }\n",
              "\n",
              "    .dataframe tbody tr th {\n",
              "        vertical-align: top;\n",
              "    }\n",
              "\n",
              "    .dataframe thead th {\n",
              "        text-align: right;\n",
              "    }\n",
              "</style>\n",
              "<table border=\"1\" class=\"dataframe\">\n",
              "  <thead>\n",
              "    <tr style=\"text-align: right;\">\n",
              "      <th></th>\n",
              "      <th>col_cabello</th>\n",
              "      <th>col_ojos</th>\n",
              "      <th>tipo_cabello</th>\n",
              "    </tr>\n",
              "    <tr>\n",
              "      <th>person</th>\n",
              "      <th></th>\n",
              "      <th></th>\n",
              "      <th></th>\n",
              "    </tr>\n",
              "  </thead>\n",
              "  <tbody>\n",
              "    <tr>\n",
              "      <th>P1</th>\n",
              "      <td>rubio</td>\n",
              "      <td>azul</td>\n",
              "      <td>lacio</td>\n",
              "    </tr>\n",
              "    <tr>\n",
              "      <th>P2</th>\n",
              "      <td>castaño</td>\n",
              "      <td>gris</td>\n",
              "      <td>chino</td>\n",
              "    </tr>\n",
              "    <tr>\n",
              "      <th>P3</th>\n",
              "      <td>pelirrojo</td>\n",
              "      <td>verde</td>\n",
              "      <td>ondulado</td>\n",
              "    </tr>\n",
              "    <tr>\n",
              "      <th>P4</th>\n",
              "      <td>negro</td>\n",
              "      <td>café</td>\n",
              "      <td>ondulado</td>\n",
              "    </tr>\n",
              "    <tr>\n",
              "      <th>P5</th>\n",
              "      <td>castaño</td>\n",
              "      <td>azul</td>\n",
              "      <td>chino</td>\n",
              "    </tr>\n",
              "    <tr>\n",
              "      <th>P6</th>\n",
              "      <td>negro</td>\n",
              "      <td>gris</td>\n",
              "      <td>chino</td>\n",
              "    </tr>\n",
              "    <tr>\n",
              "      <th>P7</th>\n",
              "      <td>pelirrojo</td>\n",
              "      <td>azul</td>\n",
              "      <td>ondulado</td>\n",
              "    </tr>\n",
              "    <tr>\n",
              "      <th>P8</th>\n",
              "      <td>rubio</td>\n",
              "      <td>café</td>\n",
              "      <td>lacio</td>\n",
              "    </tr>\n",
              "  </tbody>\n",
              "</table>\n",
              "</div>"
            ],
            "text/plain": [
              "       col_cabello col_ojos tipo_cabello\n",
              "person                                  \n",
              "P1           rubio     azul        lacio\n",
              "P2         castaño     gris        chino\n",
              "P3       pelirrojo    verde     ondulado\n",
              "P4           negro     café     ondulado\n",
              "P5         castaño     azul        chino\n",
              "P6           negro     gris        chino\n",
              "P7       pelirrojo     azul     ondulado\n",
              "P8           rubio     café        lacio"
            ]
          },
          "execution_count": 6,
          "metadata": {},
          "output_type": "execute_result"
        }
      ],
      "source": [
        "# datos\n",
        "col_cabello = np.array(['rubio', 'castaño', 'pelirrojo', 'negro', 'castaño', 'negro', 'pelirrojo', 'rubio'])\n",
        "col_ojos = np.array(['azul', 'gris', 'verde', 'café', 'azul', 'gris', 'azul', 'café'])\n",
        "tipo_cabello = np.array(['lacio', 'chino', 'ondulado', 'ondulado', 'chino', 'chino', 'ondulado', 'lacio'])\n",
        "personas = ['P1','P2','P3','P4','P5','P6','P7','P8']\n",
        "data = pd.DataFrame({'person':personas, 'col_cabello':col_cabello, 'col_ojos':col_ojos, 'tipo_cabello':tipo_cabello})\n",
        "data = data.set_index('person')\n",
        "data"
      ]
    },
    {
      "cell_type": "code",
      "execution_count": 28,
      "metadata": {
        "id": "Fum9qgz1iefF"
      },
      "outputs": [
        {
          "data": {
            "image/png": "[encoded data removed]",
            "text/plain": [
              "<Figure size 640x480 with 1 Axes>"
            ]
          },
          "metadata": {},
          "output_type": "display_data"
        }
      ],
      "source": [
        "# Gráfica del codo\n",
        "cost = []\n",
        "K = range(1,6)\n",
        "for num_clusters in list(K):\n",
        " kmode = KModes(n_clusters=num_clusters,init='random',n_init=5,verbose=0,random_state=42)\n",
        " kmode.fit_predict(data)\n",
        " cost.append(kmode.cost_)\n",
        "\n",
        "plt.plot(K, cost, 'bx-')\n",
        "plt.xlabel('# grupos')\n",
        "plt.ylabel('costo')\n",
        "plt.title('Gráfica de codo')\n",
        "plt.show()"
      ]
    },
    {
      "cell_type": "code",
      "execution_count": 42,
      "metadata": {
        "id": "Wm4ZeXwKiySI"
      },
      "outputs": [
        {
          "data": {
            "text/plain": [
              "array([0, 1, 2, 0, 1, 1, 2, 0], dtype=uint16)"
            ]
          },
          "execution_count": 42,
          "metadata": {},
          "output_type": "execute_result"
        }
      ],
      "source": [
        "# modelo con 3 grupos\n",
        "kmode = KModes(n_clusters=3, init=\"random\", n_init=5, verbose=False, random_state=42)\n",
        "grupos = kmode.fit_predict(data)\n",
        "grupos"
      ]
    },
    {
      "cell_type": "code",
      "execution_count": 43,
      "metadata": {
        "id": "oho3s4-wpn0f"
      },
      "outputs": [
        {
          "data": {
            "text/plain": [
              "array([['rubio', 'café', 'lacio'],\n",
              "       ['castaño', 'gris', 'chino'],\n",
              "       ['pelirrojo', 'azul', 'ondulado']], dtype='<U9')"
            ]
          },
          "execution_count": 43,
          "metadata": {},
          "output_type": "execute_result"
        }
      ],
      "source": [
        "kmode.cluster_centroids_"
      ]
    },
    {
      "cell_type": "code",
      "execution_count": 44,
      "metadata": {
        "id": "l--YSxKBiyOC"
      },
      "outputs": [
        {
          "data": {
            "text/html": [
              "<div>\n",
              "<style scoped>\n",
              "    .dataframe tbody tr th:only-of-type {\n",
              "        vertical-align: middle;\n",
              "    }\n",
              "\n",
              "    .dataframe tbody tr th {\n",
              "        vertical-align: top;\n",
              "    }\n",
              "\n",
              "    .dataframe thead th {\n",
              "        text-align: right;\n",
              "    }\n",
              "</style>\n",
              "<table border=\"1\" class=\"dataframe\">\n",
              "  <thead>\n",
              "    <tr style=\"text-align: right;\">\n",
              "      <th></th>\n",
              "      <th>grupo</th>\n",
              "      <th>col_cabello</th>\n",
              "      <th>col_ojos</th>\n",
              "      <th>tipo_cabello</th>\n",
              "    </tr>\n",
              "    <tr>\n",
              "      <th>person</th>\n",
              "      <th></th>\n",
              "      <th></th>\n",
              "      <th></th>\n",
              "      <th></th>\n",
              "    </tr>\n",
              "  </thead>\n",
              "  <tbody>\n",
              "    <tr>\n",
              "      <th>P1</th>\n",
              "      <td>0</td>\n",
              "      <td>rubio</td>\n",
              "      <td>azul</td>\n",
              "      <td>lacio</td>\n",
              "    </tr>\n",
              "    <tr>\n",
              "      <th>P2</th>\n",
              "      <td>1</td>\n",
              "      <td>castaño</td>\n",
              "      <td>gris</td>\n",
              "      <td>chino</td>\n",
              "    </tr>\n",
              "    <tr>\n",
              "      <th>P3</th>\n",
              "      <td>2</td>\n",
              "      <td>pelirrojo</td>\n",
              "      <td>verde</td>\n",
              "      <td>ondulado</td>\n",
              "    </tr>\n",
              "    <tr>\n",
              "      <th>P4</th>\n",
              "      <td>0</td>\n",
              "      <td>negro</td>\n",
              "      <td>café</td>\n",
              "      <td>ondulado</td>\n",
              "    </tr>\n",
              "    <tr>\n",
              "      <th>P5</th>\n",
              "      <td>1</td>\n",
              "      <td>castaño</td>\n",
              "      <td>azul</td>\n",
              "      <td>chino</td>\n",
              "    </tr>\n",
              "    <tr>\n",
              "      <th>P6</th>\n",
              "      <td>1</td>\n",
              "      <td>negro</td>\n",
              "      <td>gris</td>\n",
              "      <td>chino</td>\n",
              "    </tr>\n",
              "    <tr>\n",
              "      <th>P7</th>\n",
              "      <td>2</td>\n",
              "      <td>pelirrojo</td>\n",
              "      <td>azul</td>\n",
              "      <td>ondulado</td>\n",
              "    </tr>\n",
              "    <tr>\n",
              "      <th>P8</th>\n",
              "      <td>0</td>\n",
              "      <td>rubio</td>\n",
              "      <td>café</td>\n",
              "      <td>lacio</td>\n",
              "    </tr>\n",
              "  </tbody>\n",
              "</table>\n",
              "</div>"
            ],
            "text/plain": [
              "        grupo col_cabello col_ojos tipo_cabello\n",
              "person                                         \n",
              "P1          0       rubio     azul        lacio\n",
              "P2          1     castaño     gris        chino\n",
              "P3          2   pelirrojo    verde     ondulado\n",
              "P4          0       negro     café     ondulado\n",
              "P5          1     castaño     azul        chino\n",
              "P6          1       negro     gris        chino\n",
              "P7          2   pelirrojo     azul     ondulado\n",
              "P8          0       rubio     café        lacio"
            ]
          },
          "execution_count": 44,
          "metadata": {},
          "output_type": "execute_result"
        }
      ],
      "source": [
        "data.insert(0, \"grupo\", grupos)\n",
        "data"
      ]
    }
  ],
  "metadata": {
    "colab": {
      "provenance": []
    },
    "kernelspec": {
      "display_name": "MeIA",
      "language": "python",
      "name": "python3"
    },
    "language_info": {
      "codemirror_mode": {
        "name": "ipython",
        "version": 3
      },
      "file_extension": ".py",
      "mimetype": "text/x-python",
      "name": "python",
      "nbconvert_exporter": "python",
      "pygments_lexer": "ipython3",
      "version": "3.11.2"
    }
  },
  "nbformat": 4,
  "nbformat_minor": 0
}
