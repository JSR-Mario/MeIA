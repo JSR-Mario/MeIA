{
  "nbformat": 4,
  "nbformat_minor": 0,
  "metadata": {
    "colab": {
      "provenance": []
    },
    "kernelspec": {
      "name": "python3",
      "display_name": "Python 3"
    }
  },
  "cells": [
    {
      "cell_type": "code",
      "metadata": {
        "id": "7YK8--vabfW2"
      },
      "source": [
        "# Conjunto de datos\n",
        "import pandas as pd\n",
        "# https://archive.ics.uci.edu/ml/machine-learning-databases/breast-cancer-wisconsin/wdbc.data\n",
        "df = pd.read_csv('https://bit.ly/3gob0mX', header=None)"
      ],
      "execution_count": null,
      "outputs": []
    },
    {
      "cell_type": "code",
      "metadata": {
        "id": "dLjP3zZNb9oV"
      },
      "source": [
        "df.head(2)"
      ],
      "execution_count": null,
      "outputs": []
    },
    {
      "cell_type": "code",
      "source": [
        "# Predictoras y objetivo\n",
        "X = df.loc[:, 2:].values\n",
        "y = df.loc[:, 1].values"
      ],
      "metadata": {
        "id": "SY-rRsdaJJbx"
      },
      "execution_count": null,
      "outputs": []
    },
    {
      "cell_type": "code",
      "metadata": {
        "id": "DYdnD3Ivb_G5"
      },
      "source": [
        "# Codificación de etiquetas\n",
        "from sklearn.preprocessing import LabelEncoder\n",
        "le = LabelEncoder()\n",
        "y = le.fit_transform(y)\n",
        "le.classes_, le.transform(['M','B']) # clases y ejemplo"
      ],
      "execution_count": null,
      "outputs": []
    },
    {
      "cell_type": "code",
      "metadata": {
        "id": "IH06pyDad4wW",
        "collapsed": true
      },
      "source": [
        "# Entrenamiento y pruebas\n",
        "from sklearn.model_selection import train_test_split\n",
        "X_train, X_test, y_train, y_test = train_test_split(X, y, test_size=0.2,\n",
        "                                                    stratify=y, random_state=1)\n",
        "X_train.shape, X_test.shape"
      ],
      "execution_count": null,
      "outputs": []
    },
    {
      "cell_type": "code",
      "metadata": {
        "id": "TTfA-ZYoevkp"
      },
      "source": [
        "# Primer pipeline\n",
        "from sklearn.preprocessing import StandardScaler\n",
        "from sklearn.decomposition import PCA\n",
        "from sklearn.linear_model import LogisticRegression\n",
        "from sklearn.pipeline import make_pipeline\n",
        "\n",
        "pipe_lr = make_pipeline(\n",
        "                        )\n",
        "pipe_lr.fit(X_train, y_train)\n",
        "y_pred = pipe_lr.predict(X_test)\n",
        "print('Exactitud en test = %.3f' % pipe_lr.score(X_test, y_test))"
      ],
      "execution_count": null,
      "outputs": []
    },
    {
      "cell_type": "code",
      "metadata": {
        "id": "JOTeKObTk8Qi"
      },
      "source": [
        "# Validación cruzada en sklearn\n",
        "from sklearn.model_selection import cross_val_score\n",
        "\n",
        "scores = cross_val_score(estimator=...,\n",
        "                         X= ..., y=...,\n",
        "                         cv=10, n_jobs=1)\n",
        "print('Puntajes de exactitud de validación cruzada : %s'%(scores))\n",
        "print('Exactitud de validación cruzada : %.3f +/- %.3f'%(np.mean(scores),np.std(scores)))"
      ],
      "execution_count": null,
      "outputs": []
    },
    {
      "cell_type": "code",
      "source": [
        "# Curvas de aprendizaje\n",
        "import matplotlib.pyplot as plt\n",
        "from sklearn.model_selection import learning_curve\n",
        "\n",
        "pipe_lr = make_pipeline(StandardScaler(),\n",
        "                        LogisticRegression(penalty='l2', random_state=1))\n",
        "\n",
        "train_sizes,train_scores,test_scores=learning_curve(estimator=...,\n",
        "                                                        X=..., y=...,\n",
        "                                                        train_sizes=np.linspace(0.1,1,10),\n",
        "                                                        cv=10, n_jobs=1)"
      ],
      "metadata": {
        "id": "JrtzSGnHT8uk"
      },
      "execution_count": null,
      "outputs": []
    },
    {
      "cell_type": "code",
      "metadata": {
        "id": "RSfySEJSqcrb"
      },
      "source": [
        "train_mean = np.mean(train_scores, axis=1)\n",
        "train_std = np.std(train_scores, axis=1)\n",
        "test_mean = np.mean(test_scores, axis=1)\n",
        "test_std = np.std(test_scores, axis=1)\n",
        "\n",
        "plt.plot(train_sizes, train_mean, color='blue', marker='o', markersize=5,\n",
        "         label='exactitud del entrenamiento')\n",
        "plt.fill_between(train_sizes, train_mean+train_std, train_mean-train_std,\n",
        "                 alpha=0.15, color='blue')\n",
        "\n",
        "plt.plot(train_sizes, test_mean, color='green', marker='o', markersize=5,\n",
        "         linestyle='--', label='exactitud de validación')\n",
        "plt.fill_between(train_sizes, test_mean+test_std, test_mean-test_std,\n",
        "                 alpha=0.15, color='green')\n",
        "\n",
        "plt.grid()\n",
        "plt.xlabel('Número de muestras de entrenamiento')\n",
        "plt.ylabel('Exactitud')\n",
        "plt.legend(loc='lower right')\n",
        "plt.ylim([0.8, 1.05])\n",
        "plt.show()"
      ],
      "execution_count": null,
      "outputs": []
    },
    {
      "cell_type": "code",
      "metadata": {
        "id": "AohLIMYNsH-C"
      },
      "source": [
        "# Sobre/subajuste & curvas de validación\n",
        "from sklearn.model_selection import validation_curve\n",
        "param_range = [10**i for i in range(-3,3)]\n",
        "train_scores,test_scores=validation_curve(estimator=pipe_lr,\n",
        "                                          X=X_train, y=y_train,\n",
        "                                          param_name='logisticregression__C',\n",
        "                                          param_range=param_range,\n",
        "                                          cv=10, n_jobs=10)"
      ],
      "execution_count": null,
      "outputs": []
    },
    {
      "cell_type": "code",
      "metadata": {
        "id": "D8zVZeJw9AfT"
      },
      "source": [
        "train_mean = np.mean(train_scores, axis=1)\n",
        "train_std = np.std(train_scores, axis=1)\n",
        "test_mean = np.mean(test_scores, axis=1)\n",
        "test_std = np.std(test_scores, axis=1)\n",
        "\n",
        "plt.plot(param_range, train_mean, color='blue', marker='o', markersize=5,\n",
        "         label='exactitud del entrenamiento')\n",
        "plt.fill_between(param_range, train_mean+train_std, train_mean-train_std,\n",
        "                 alpha=0.15, color='blue')\n",
        "\n",
        "plt.plot(param_range, test_mean, color='green', marker='o', markersize=5,\n",
        "         linestyle='--', label='exactitud de validación')\n",
        "plt.fill_between(param_range, test_mean+test_std, test_mean-test_std,\n",
        "                 alpha=0.15, color='green')\n",
        "\n",
        "plt.grid()\n",
        "plt.xscale('log')\n",
        "plt.xlabel('Parámetro C')\n",
        "plt.ylabel('Exactitud')\n",
        "plt.legend(loc='lower right')\n",
        "plt.ylim([0.8, 1.01])\n",
        "plt.show()"
      ],
      "execution_count": null,
      "outputs": []
    },
    {
      "cell_type": "code",
      "metadata": {
        "id": "uqpMH9nH-jbS"
      },
      "source": [
        "# Ajuste de hiperparámetros con búsqueda de malla => grid search\n",
        "from sklearn.model_selection import GridSearchCV\n",
        "from sklearn.svm import SVC\n",
        "\n",
        "pipe_svc = make_pipeline(StandardScaler(),\n",
        "                         SVC(random_state=1))\n",
        "\n",
        "plt.plot(param_range, train_mean, color='blue', marker='o', markersize=5,\n",
        "         label='exactitud del entrenamiento')\n",
        "plt.fill_between(param_range, train_mean+train_std, train_mean-train_std,\n",
        "                 alpha=0.15, color='blue')\n",
        "\n",
        "plt.plot(param_range, test_mean, color='green', marker='o', markersize=5,\n",
        "         linestyle='--', label='exactitud de validación')\n",
        "plt.fill_between(param_range, test_mean+test_std, test_mean-test_std,\n",
        "                 alpha=0.15, color='green')\n",
        "\n",
        "param_range = [10**i for i in range(-4,5)]\n",
        "param_grid_svc = [{'svc__C':param_range,'svc__kernel':['linear']},\n",
        "                  {'svc__C':param_range,'svc__gamma':param_range,\n",
        "                   'svc__kernel':['rbf']}]\n",
        "\n",
        "gs = GridSearchCV(estimator=..., param_grid=...,\n",
        "                  scoring='accuracy', cv=10, n_jobs=-1)\n",
        "\n",
        "gs = gs.fit(X_train, y_train)"
      ],
      "execution_count": null,
      "outputs": []
    },
    {
      "cell_type": "code",
      "metadata": {
        "id": "ifs3-gamZuTv"
      },
      "source": [
        "print(gs.best_score_)\n",
        "print(gs.best_params_)"
      ],
      "execution_count": null,
      "outputs": []
    },
    {
      "cell_type": "code",
      "metadata": {
        "id": "U5SFpWWoZ6gY"
      },
      "source": [
        "# exactitud del mejor estimador\n",
        "clf = gs.best_estimator_\n",
        "clf.fit(X_train, y_train)\n",
        "print('Exactitud en test : %.3f' % clf.score(X_test, y_test))"
      ],
      "execution_count": null,
      "outputs": []
    },
    {
      "cell_type": "code",
      "metadata": {
        "id": "sJ7kO99uXx_c"
      },
      "source": [
        "# Comparación de búsqueda aleatoria y de malla para estimar hiperparámetros\n",
        "# https://scikit-learn.org/stable/auto_examples/model_selection/plot_randomized_search.html#sphx-glr-auto-examples-model-selection-plot-randomized-search-py"
      ],
      "execution_count": null,
      "outputs": []
    },
    {
      "cell_type": "code",
      "metadata": {
        "id": "psiCRGn1a14d"
      },
      "source": [
        "# Selección de algoritmos con validación cruzada anidada\n",
        "gs_svc = GridSearchCV(estimator=pipe_svc, param_grid=param_grid_svc,\n",
        "                      scoring='accuracy', cv=2)\n",
        "\n",
        "scores = cross_val_score(gs_svc, X_train, y_train,\n",
        "                         scoring='accuracy', cv=5)"
      ],
      "execution_count": null,
      "outputs": []
    },
    {
      "cell_type": "code",
      "metadata": {
        "id": "083l44qeeZ4Q"
      },
      "source": [
        "print('Exactitud NCV con SVC : %.3f +/- %.3f'%(np.mean(scores),np.std(scores)))"
      ],
      "execution_count": null,
      "outputs": []
    },
    {
      "cell_type": "code",
      "metadata": {
        "id": "A2ek7kwKa2B0"
      },
      "source": [
        "from sklearn.tree import DecisionTreeClassifier\n",
        "\n",
        "gs_dtc = GridSearchCV(estimator=DecisionTreeClassifier(random_state=0),\n",
        "                  param_grid=[{'max_depth':[1,2,3,4,5,6,7,None]}],\n",
        "                  scoring='accuracy', cv=2)\n",
        "\n",
        "scores = cross_val_score(gs_dtc, X_train, y_train,\n",
        "                         scoring='accuracy', cv=5)"
      ],
      "execution_count": null,
      "outputs": []
    },
    {
      "cell_type": "code",
      "metadata": {
        "id": "jCWI_gRca2J4"
      },
      "source": [
        "print('Exactitud de NCV con DT : %.3f +/- %.3f'%(np.mean(scores),np.std(scores)))"
      ],
      "execution_count": null,
      "outputs": []
    },
    {
      "cell_type": "code",
      "metadata": {
        "id": "L0RtF3iua2Q2"
      },
      "source": [
        "# Métricas de rendimiento\n",
        "# Matriz de confusión\n",
        "from sklearn.metrics import confusion_matrix\n",
        "\n",
        "pipe_svc.fit(X_train, y_train)\n",
        "y_pred = pipe_svc.predict(X_test)\n",
        "confmat = confusion_matrix(...)\n",
        "print(confmat)"
      ],
      "execution_count": null,
      "outputs": []
    },
    {
      "cell_type": "code",
      "metadata": {
        "id": "YQuKgpEya2XL"
      },
      "source": [
        "confmat = np.array([[71,1],[2,40]])\n",
        "fig, ax = plt.subplots(figsize=(2.5, 2.5))\n",
        "ax.matshow(confmat, cmap=plt.cm.Blues, alpha=0.3)\n",
        "for i in range(confmat.shape[0]):\n",
        "  for j in range(confmat.shape[1]):\n",
        "    ax.text(x=j, y=i, s=confmat[i,j],\n",
        "            va='center', ha='center')\n",
        "plt.xlabel('clase predicha')\n",
        "plt.ylabel('clase verdadera')\n",
        "plt.show()"
      ],
      "execution_count": null,
      "outputs": []
    },
    {
      "cell_type": "code",
      "source": [
        "# Con sklearn\n",
        "from sklearn.metrics import ConfusionMatrixDisplay\n",
        "disp = ConfusionMatrixDisplay(confusion_matrix=confmat, display_labels=['No Enfermedad', 'Enfermedad'])\n",
        "disp.plot(cmap=plt.cm.Blues)  # Puedes cambiar el mapa de color\n",
        "plt.title('Matriz de Confusión')\n",
        "plt.show()"
      ],
      "metadata": {
        "id": "YkfnmTS4MY1T"
      },
      "execution_count": null,
      "outputs": []
    },
    {
      "cell_type": "code",
      "metadata": {
        "id": "kUIL_f-4a2Zt"
      },
      "source": [
        "# Precisión y sensibilidad\n",
        "from sklearn.metrics import precision_score\n",
        "from sklearn.metrics import recall_score, f1_score\n",
        "\n",
        "print('Precisión : %.3f' % precision_score(y_true=y_test, y_pred=y_pred))\n",
        "print('   Recall : %.3f' % recall_score(y_true=y_test, y_pred=y_pred))\n",
        "print('       F1 : %.3f' % f1_score(y_true=y_test, y_pred=y_pred))"
      ],
      "execution_count": null,
      "outputs": []
    },
    {
      "cell_type": "code",
      "source": [
        "print(gs.best_score_)\n",
        "print(gs.best_params_)"
      ],
      "metadata": {
        "id": "2c0gYJJwqzqm"
      },
      "execution_count": null,
      "outputs": []
    },
    {
      "cell_type": "code",
      "metadata": {
        "id": "hGTihhOVa2fV"
      },
      "source": [
        "# Gráfica de ROC (Receiver Operating Characteristic, o Característica Operativa del Receptor)\n",
        "from sklearn.metrics import roc_curve, auc\n",
        "from numpy import interp\n",
        "\n",
        "pipe_lr = make_pipeline(StandardScaler(),\n",
        "                        PCA(n_components=2),\n",
        "                        LogisticRegression(penalty='l2',random_state=1,\n",
        "                                           C=100.0))\n",
        "\n",
        "X_train2 = X_train[:, [4, 14]]\n",
        "\n",
        "cv = list(StratifiedKFold(n_splits=3).split(X_train, y_train))"
      ],
      "execution_count": null,
      "outputs": []
    },
    {
      "cell_type": "code",
      "metadata": {
        "id": "5V1raPQka2dC"
      },
      "source": [
        "fig = plt.figure(figsize=(7, 5))\n",
        "\n",
        "mean_tpr = 0.0\n",
        "mean_fpr = np.linspace(0, 1, 100)\n",
        "all_tpr = []\n",
        "\n",
        "for i, (train, test) in enumerate(cv):\n",
        "  probas = pipe_lr.fit(X_train2[train],\n",
        "                       y_train[train]).predict_proba(X_train2[test])\n",
        "  fpr, tpr, threshold = roc_curve(y_train[test], probas[:,1], pos_label=1)\n",
        "  mean_tpr += interp(mean_fpr, fpr, tpr)\n",
        "  mean_tpr[0] = 0.0\n",
        "  roc_auc = auc(fpr, tpr)\n",
        "  plt.plot(fpr, tpr, label='ROC pliegue %d (área = %0.2f)' % (i+1, roc_auc))\n",
        "\n",
        "plt.plot([0,1], [0,1], linestyle='--', color=[0.6,0.6,0.6],\n",
        "         label='estimación aleatoria')\n",
        "\n",
        "mean_tpr /= len(cv)\n",
        "mean_tpr[-1] = 1.0\n",
        "mean_auc = auc(mean_fpr, mean_tpr)\n",
        "plt.plot(mean_fpr, mean_tpr, 'k--',\n",
        "         label='Media de ROC (área = %.2f)'%mean_auc, lw=2)\n",
        "plt.plot([0,0,1], [0,1,1], linestyle=':', color='black',\n",
        "         label='rendimiento perfecto')\n",
        "\n",
        "plt.xlim([-0.05, 1.05])\n",
        "plt.ylim([-0.05, 1.05])\n",
        "plt.xlabel('proporción de falsos positivos')\n",
        "plt.ylabel('proporción de positivos verdaderos')\n",
        "plt.legend(loc='lower right')\n",
        "plt.show()"
      ],
      "execution_count": null,
      "outputs": []
    },
    {
      "cell_type": "code",
      "metadata": {
        "id": "sPZdYFqE9Kwc"
      },
      "source": [],
      "execution_count": null,
      "outputs": []
    },
    {
      "cell_type": "code",
      "metadata": {
        "id": "X29kKEFs9CUB"
      },
      "source": [],
      "execution_count": null,
      "outputs": []
    },
    {
      "cell_type": "code",
      "metadata": {
        "id": "UlCnA_Ida1vA"
      },
      "source": [],
      "execution_count": null,
      "outputs": []
    },
    {
      "cell_type": "code",
      "metadata": {
        "id": "cUAMhK2pSCaJ"
      },
      "source": [],
      "execution_count": null,
      "outputs": []
    },
    {
      "cell_type": "code",
      "metadata": {
        "id": "doYfFxMJSCfm"
      },
      "source": [],
      "execution_count": null,
      "outputs": []
    },
    {
      "cell_type": "code",
      "metadata": {
        "id": "mXtIGhlDSCdq"
      },
      "source": [],
      "execution_count": null,
      "outputs": []
    },
    {
      "cell_type": "code",
      "metadata": {
        "id": "Nf8oWQjBSCX6"
      },
      "source": [],
      "execution_count": null,
      "outputs": []
    },
    {
      "cell_type": "code",
      "metadata": {
        "id": "__A9CXmVSCUt"
      },
      "source": [],
      "execution_count": null,
      "outputs": []
    }
  ]
}