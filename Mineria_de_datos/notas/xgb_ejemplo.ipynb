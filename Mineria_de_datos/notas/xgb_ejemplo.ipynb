{
  "nbformat": 4,
  "nbformat_minor": 0,
  "metadata": {
    "colab": {
      "provenance": []
    },
    "kernelspec": {
      "name": "python3",
      "display_name": "Python 3"
    },
    "language_info": {
      "name": "python"
    }
  },
  "cells": [
    {
      "cell_type": "code",
      "source": [
        "# XGB Clasificador => Predecir diabetes\n",
        "import numpy as np\n",
        "import pandas as pd\n",
        "import matplotlib.pyplot as plt\n",
        "import seaborn as sns"
      ],
      "metadata": {
        "id": "bs8e7eh4KT1u"
      },
      "execution_count": null,
      "outputs": []
    },
    {
      "cell_type": "code",
      "source": [
        "from xgboost import XGBClassifier\n",
        "from sklearn.model_selection import train_test_split\n",
        "from sklearn.metrics import accuracy_score"
      ],
      "metadata": {
        "id": "glkg9vDsKTu9"
      },
      "execution_count": null,
      "outputs": []
    },
    {
      "cell_type": "code",
      "source": [
        "# Datos\n",
        "df = pd.read_csv('diabetes.csv')\n",
        "df.tail()"
      ],
      "metadata": {
        "id": "rGvLmYXdKTsE"
      },
      "execution_count": null,
      "outputs": []
    },
    {
      "cell_type": "code",
      "source": [
        "# Separar X, y\n",
        "X =\n",
        "y ="
      ],
      "metadata": {
        "id": "kXQ0tJcIKTo9"
      },
      "execution_count": null,
      "outputs": []
    },
    {
      "cell_type": "code",
      "source": [
        "# Entrenamiento y prueba\n",
        "X_train,X_test,y_train,y_test=train_test_split()\n",
        "X_train.shape, X_test.shape"
      ],
      "metadata": {
        "id": "m1bJfBUvLE8e"
      },
      "execution_count": null,
      "outputs": []
    },
    {
      "cell_type": "code",
      "source": [
        "# Modelo\n",
        "xgb = XGBClassifier()\n",
        "xgb.fit(X_train, y_train)"
      ],
      "metadata": {
        "id": "oS8yv69SLE6G"
      },
      "execution_count": null,
      "outputs": []
    },
    {
      "cell_type": "code",
      "source": [
        "y_pred = xgb."
      ],
      "metadata": {
        "id": "8omcQZ_6LE2-"
      },
      "execution_count": null,
      "outputs": []
    },
    {
      "cell_type": "code",
      "source": [
        "accuracy = accuracy_score(y_test, y_pred)\n",
        "print(\"Accuracy : \",accuracy)"
      ],
      "metadata": {
        "id": "Ujp3q9mALE0G"
      },
      "execution_count": null,
      "outputs": []
    },
    {
      "cell_type": "code",
      "source": [],
      "metadata": {
        "id": "J_ZhG1gp9b_V"
      },
      "execution_count": null,
      "outputs": []
    },
    {
      "cell_type": "code",
      "source": [],
      "metadata": {
        "id": "7X1XtHPiLlzT"
      },
      "execution_count": null,
      "outputs": []
    },
    {
      "cell_type": "code",
      "metadata": {
        "id": "6PbZXKDQZEWJ"
      },
      "source": [
        "# Regresor => Predecir calorías\n",
        "import numpy as np\n",
        "import pandas as pd\n",
        "import matplotlib.pyplot as plt\n",
        "import seaborn as sns\n",
        "from sklearn.model_selection import train_test_split\n",
        "from xgboost import XGBRegressor\n",
        "from sklearn import metrics"
      ],
      "execution_count": null,
      "outputs": []
    },
    {
      "cell_type": "code",
      "metadata": {
        "id": "alQtMyM6etdl"
      },
      "source": [
        "# Datos\n",
        "exercise = pd.read_csv('exercise.csv')\n",
        "exercise.head(3)"
      ],
      "execution_count": null,
      "outputs": []
    },
    {
      "cell_type": "code",
      "metadata": {
        "id": "455T_ehLc9LM"
      },
      "source": [
        "# Datos\n",
        "calories = pd.read_csv('calories.csv')\n",
        "calories.head(3)"
      ],
      "execution_count": null,
      "outputs": []
    },
    {
      "cell_type": "code",
      "metadata": {
        "id": "kAHQrky8e6VP"
      },
      "source": [
        "# Combinando los dos DFs\n",
        "calories_data =\n",
        "calories_data.head(3)"
      ],
      "execution_count": null,
      "outputs": []
    },
    {
      "cell_type": "code",
      "metadata": {
        "id": "kB0hwwMHgS7x"
      },
      "source": [
        "# Número de filas y columnas\n",
        "calories_data.shape"
      ],
      "execution_count": null,
      "outputs": []
    },
    {
      "cell_type": "code",
      "metadata": {
        "id": "siYE6fU7gbi3"
      },
      "source": [
        "# Información del conjunto\n",
        "calories_data.info()"
      ],
      "execution_count": null,
      "outputs": []
    },
    {
      "cell_type": "code",
      "metadata": {
        "id": "XhKisO0pgwXd"
      },
      "source": [
        "# ¿Hay nulos?\n",
        "calories_data.isnull().sum()"
      ],
      "execution_count": null,
      "outputs": []
    },
    {
      "cell_type": "code",
      "metadata": {
        "id": "95cmeAWZhFa4"
      },
      "source": [
        "# Algunas estadísticas de las columnas\n",
        "calories_data.describe()"
      ],
      "execution_count": null,
      "outputs": []
    },
    {
      "cell_type": "code",
      "metadata": {
        "id": "xU4y4ZsIhiKE"
      },
      "source": [
        "# Visualizaciones\n",
        "sns.set()"
      ],
      "execution_count": null,
      "outputs": []
    },
    {
      "cell_type": "code",
      "metadata": {
        "id": "MuzLivXSiMwi"
      },
      "source": [
        "# Conteo por género\n",
        "sns.countplot()"
      ],
      "execution_count": null,
      "outputs": []
    },
    {
      "cell_type": "code",
      "source": [
        "# Distribución de edades\n",
        "sns.kdeplot()"
      ],
      "metadata": {
        "id": "AkwLqbtBQ921"
      },
      "execution_count": null,
      "outputs": []
    },
    {
      "cell_type": "code",
      "source": [
        "# Histograma de edades\n",
        "sns.histplot()"
      ],
      "metadata": {
        "id": "tbUJZjlvPz-7"
      },
      "execution_count": null,
      "outputs": []
    },
    {
      "cell_type": "code",
      "metadata": {
        "id": "FZDTaUmfjBzk"
      },
      "source": [
        "# # Distribución de Peso\n",
        "sns.histplot()"
      ],
      "execution_count": null,
      "outputs": []
    },
    {
      "cell_type": "code",
      "metadata": {
        "id": "2UFA5ZOujfbh"
      },
      "source": [
        "# Correlación entre las columnas (positiva / negativa)\n",
        "corr =\n",
        "corr"
      ],
      "execution_count": null,
      "outputs": []
    },
    {
      "cell_type": "code",
      "metadata": {
        "id": "dtp36oCBjyQI"
      },
      "source": [
        "# Visualización con un heatmap\n",
        "plt.figure(figsize=(10,10))\n",
        "sns.heatmap(\n",
        "            )"
      ],
      "execution_count": null,
      "outputs": []
    },
    {
      "cell_type": "code",
      "metadata": {
        "id": "lvlWPvd_k2hw"
      },
      "source": [
        "# Convertir texto a número\n",
        "calories_data.replace\n",
        "calories_data.head()"
      ],
      "execution_count": null,
      "outputs": []
    },
    {
      "cell_type": "code",
      "metadata": {
        "id": "yNX7qV5dmh-o"
      },
      "source": [
        "# Separar predictoras y objetivo\n",
        "X = calories_data.drop(columns=['User_ID','Calories'], axis=1)\n",
        "y = calories_data.Calories"
      ],
      "execution_count": null,
      "outputs": []
    },
    {
      "cell_type": "code",
      "metadata": {
        "id": "lVpEUea_naiH"
      },
      "source": [
        "# Entrenamiento y pruebas\n",
        "X_train,X_test,y_train,y_test=train_test_split(\n",
        "                                               )"
      ],
      "execution_count": null,
      "outputs": []
    },
    {
      "cell_type": "code",
      "metadata": {
        "id": "b5bBE7wRoPw9"
      },
      "source": [
        "X.shape, X_train.shape, X_test.shape"
      ],
      "execution_count": null,
      "outputs": []
    },
    {
      "cell_type": "code",
      "metadata": {
        "id": "9C4PUD9noX10"
      },
      "source": [
        "# Modelo XGBRegressor\n",
        "xgb = XGBRegressor()\n",
        "xgb.fit(X_train, y_train)"
      ],
      "execution_count": null,
      "outputs": []
    },
    {
      "cell_type": "code",
      "metadata": {
        "id": "6fwoa12gpD1A"
      },
      "source": [
        "# Evaluación\n",
        "y_hat = xgb.predict(X_test)"
      ],
      "execution_count": null,
      "outputs": []
    },
    {
      "cell_type": "code",
      "metadata": {
        "id": "e32ffB4Opshq"
      },
      "source": [
        "# Error absoluto medio\n",
        "mae = metrics.mean_absolute_error(y_test, y_hat)\n",
        "print(\"Mean Absolute Error = \", mae)"
      ],
      "execution_count": null,
      "outputs": []
    },
    {
      "cell_type": "code",
      "metadata": {
        "id": "MWJQ0yJtqell"
      },
      "source": [],
      "execution_count": null,
      "outputs": []
    },
    {
      "cell_type": "code",
      "source": [],
      "metadata": {
        "id": "ElgCPsYzKu6s"
      },
      "execution_count": null,
      "outputs": []
    }
  ]
}