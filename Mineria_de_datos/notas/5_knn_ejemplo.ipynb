{
  "nbformat": 4,
  "nbformat_minor": 0,
  "metadata": {
    "colab": {
      "provenance": []
    },
    "kernelspec": {
      "name": "python3",
      "display_name": "Python 3"
    },
    "language_info": {
      "name": "python"
    }
  },
  "cells": [
    {
      "cell_type": "code",
      "source": [
        "# KNN\n",
        "# bibliotecas\n",
        "import numpy as np\n",
        "import pandas as pd\n",
        "import matplotlib.pyplot as plt"
      ],
      "metadata": {
        "id": "hGIzsR91FEM8"
      },
      "execution_count": null,
      "outputs": []
    },
    {
      "cell_type": "code",
      "source": [
        "data = pd.read_csv('tallas.csv')\n",
        "data.T"
      ],
      "metadata": {
        "id": "prru7YwEFEJ2"
      },
      "execution_count": null,
      "outputs": []
    },
    {
      "cell_type": "code",
      "source": [
        "\"\"\"\n",
        "talla_map =\n",
        "data['color']=\n",
        "data.T\n",
        "\"\"\""
      ],
      "metadata": {
        "id": "_Co7nLtBFEGt"
      },
      "execution_count": null,
      "outputs": []
    },
    {
      "cell_type": "code",
      "source": [
        "\"\"\"\n",
        "plt.scatter\n",
        "new = pd.DataFrame([ [160,63,None,None] ])\n",
        "new.columns = ['altura','peso','talla','color']\n",
        "plt.scatter(new.altura,new.peso,color='r')\n",
        "new2 = pd.DataFrame([ [164,62,None,None] ])\n",
        "new2.columns = ['altura','peso','talla','color']\n",
        "plt.scatter(new2.altura,new2.peso,color='g')\n",
        "plt.show()\n",
        "\"\"\""
      ],
      "metadata": {
        "id": "xTu2DLISFEDT"
      },
      "execution_count": null,
      "outputs": []
    },
    {
      "cell_type": "code",
      "source": [
        "# knn propio\n",
        "def get_closest_points(data, point, k=3):\n",
        "  X = data.iloc[:,0:2].values\n",
        "  p = point.iloc[:,0:2].values\n",
        "  talla = data.talla.values\n",
        "  dist=[[i,np.linalg.norm(X[i]-p),talla[i]]\n",
        "        for i in range(len(X))]\n",
        "  dist = pd.DataFrame(dist)\n",
        "  dist.columns = ['index','dist','talla']\n",
        "  return dist.sort_values(by='dist').head(k)\n",
        "\n",
        "def show_closest_points(data, point, cercanos, color='k'):\n",
        "  plt.scatter(data.altura,data.peso,c=data.color)\n",
        "  plt.scatter(point.altura,point.peso,color=color)\n",
        "  for c in cercanos.values:\n",
        "    p = data.loc[c[0],:]\n",
        "    plt.plot([point.altura[0],p.altura],[point.peso[0],p.peso])\n",
        "  plt.show()"
      ],
      "metadata": {
        "id": "Qw27jhSDFYHh"
      },
      "execution_count": null,
      "outputs": []
    },
    {
      "cell_type": "code",
      "source": [
        "c = get_closest_points(data, new, 3)\n",
        "print(c)\n",
        "show_closest_points(data, new, c, color='r')"
      ],
      "metadata": {
        "id": "wCas7KKzFYEb"
      },
      "execution_count": null,
      "outputs": []
    },
    {
      "cell_type": "code",
      "source": [
        "c = get_closest_points(data, new2, 3)\n",
        "print(c)\n",
        "show_closest_points(data, new2, c, color='g')"
      ],
      "metadata": {
        "id": "wMVX_jXfFYBR"
      },
      "execution_count": null,
      "outputs": []
    },
    {
      "cell_type": "code",
      "source": [],
      "metadata": {
        "id": "Fxd8_aUbFvD8"
      },
      "execution_count": null,
      "outputs": []
    },
    {
      "cell_type": "code",
      "source": [
        "# Con sklearn\n",
        "from sklearn.neighbors import KNeighborsClassifier\n",
        "\"\"\"\n",
        "X =\n",
        "y =\n",
        "\"\"\""
      ],
      "metadata": {
        "id": "Yon9YUtjFX81",
        "collapsed": true
      },
      "execution_count": null,
      "outputs": []
    },
    {
      "cell_type": "code",
      "source": [
        "knn = KNeighborsClassifier(n_neighbors=3)\n",
        "knn.fit(X, y)"
      ],
      "metadata": {
        "id": "-wzRBUe-FD7d"
      },
      "execution_count": null,
      "outputs": []
    },
    {
      "cell_type": "code",
      "source": [
        "new = np.array([160,63]).reshape(1,2)\n",
        "new_pred = knn.predict(new)[0]\n",
        "new2 = np.array([164,62]).reshape(1,2)\n",
        "new2_pred = knn.predict(new2)[0]\n",
        "plt.scatter(X[:,0], X[:,1], c=y)\n",
        "plt.scatter(new[:,0], new[:,1], c='r')\n",
        "plt.text(x=new[:,0]-1.7, y=new[:,1]-0.7, s=f\"new, clase: {new_pred}\")\n",
        "plt.scatter(new2[:,0], new2[:,1], c='g')\n",
        "plt.text(x=new2[:,0]-1.7, y=new2[:,1]-0.7, s=f\"new2, clase: {new2_pred}\")"
      ],
      "metadata": {
        "id": "MwOUn0owS5Sa"
      },
      "execution_count": null,
      "outputs": []
    },
    {
      "cell_type": "code",
      "source": [],
      "metadata": {
        "id": "BIpERkMsS5JP"
      },
      "execution_count": null,
      "outputs": []
    },
    {
      "cell_type": "code",
      "source": [],
      "metadata": {
        "id": "fDEreGNrS5G2"
      },
      "execution_count": null,
      "outputs": []
    },
    {
      "cell_type": "code",
      "source": [],
      "metadata": {
        "id": "4yrYBM0fS5D-"
      },
      "execution_count": null,
      "outputs": []
    },
    {
      "cell_type": "code",
      "source": [],
      "metadata": {
        "id": "hEEI540GS5BF"
      },
      "execution_count": null,
      "outputs": []
    },
    {
      "cell_type": "code",
      "execution_count": null,
      "metadata": {
        "id": "IzSbCEzk-UzA"
      },
      "outputs": [],
      "source": [
        "# Ejemplo 2 ~> regresión\n",
        "import numpy as np\n",
        "import pandas as pd\n",
        "import matplotlib.pyplot as plt\n",
        "import seaborn as sns"
      ]
    },
    {
      "cell_type": "code",
      "source": [
        "# https://archive.ics.uci.edu/dataset/1/abalone\n",
        "url = \"https://archive.ics.uci.edu/ml/machine-learning-databases/abalone/abalone.data\"\n",
        "abulon = pd.read_csv(url, header=None)\n",
        "abulon.columns = [\"Sex\", \"Length\", \"Diameter\", \"Height\", \"Whole weight\",\n",
        "                  \"Shucked weight\", \"Viscera weight\", \"Shell weight\", \"Rings\"]\n",
        "abulon.tail(3)"
      ],
      "metadata": {
        "id": "GZVQJrWO-mPh"
      },
      "execution_count": null,
      "outputs": []
    },
    {
      "cell_type": "code",
      "source": [
        "# https://laroussecocina.mx/palabra/abulon/\n",
        "# Predecir la edad => No sirve la columna sex\n",
        "abulon = abulon.drop(\"Sex\", axis=1)"
      ],
      "metadata": {
        "id": "vlFeOBrC_J8D"
      },
      "execution_count": null,
      "outputs": []
    },
    {
      "cell_type": "code",
      "source": [
        "# sns.pairplot(abulon) # (8x8)"
      ],
      "metadata": {
        "id": "1GTA6u5R_vhj",
        "collapsed": true
      },
      "execution_count": null,
      "outputs": []
    },
    {
      "cell_type": "code",
      "source": [
        "# número de anillos ~ edad <= Variable objetivo\n",
        "# en este conjunto la mayoría están entre 5 y 15 años\n",
        "abulon.Rings.hist(bins=15)"
      ],
      "metadata": {
        "id": "4kScK7TfCTyX"
      },
      "execution_count": null,
      "outputs": []
    },
    {
      "cell_type": "code",
      "source": [
        "#Correlaciones\n",
        "corr = None\n",
        "sns.heatmap(corr)"
      ],
      "metadata": {
        "id": "fu-XyyxTCTwO"
      },
      "execution_count": null,
      "outputs": []
    },
    {
      "cell_type": "code",
      "source": [
        "corr.Rings"
      ],
      "metadata": {
        "id": "2ty4oiScGUPw"
      },
      "execution_count": null,
      "outputs": []
    },
    {
      "cell_type": "code",
      "source": [
        "X =\n",
        "y =\n",
        "X[:2,:],y[:2]"
      ],
      "metadata": {
        "id": "7N7qW-slCTtb"
      },
      "execution_count": null,
      "outputs": []
    },
    {
      "cell_type": "code",
      "source": [
        "# Predecir el número de anillo => edad\n",
        "from sklearn.model_selection import train_test_split\n",
        "X_train,X_test,y_train,y_test=train_test_split(X,y,test_size=0.2,random_state=42)\n",
        "X_train.shape, X_test.shape"
      ],
      "metadata": {
        "id": "hTSinXPZCTqg"
      },
      "execution_count": null,
      "outputs": []
    },
    {
      "cell_type": "code",
      "source": [
        "# Modelo regresor\n",
        "from sklearn.neighbors import KNeighborsRegressor\n",
        "knn = KNeighborsRegressor(n_neighbors=3)\n",
        "knn.fit(X_train, y_train)"
      ],
      "metadata": {
        "id": "2RGV955-CTn2"
      },
      "execution_count": null,
      "outputs": []
    },
    {
      "cell_type": "code",
      "source": [
        "from sklearn.metrics import mean_squared_error\n",
        "from math import sqrt\n",
        "y_train_pred = knn.predict(X_train)\n",
        "mse = mean_squared_error(y_train, y_train_pred)\n",
        "sqrt(mse)"
      ],
      "metadata": {
        "id": "PqnnFCtoCTlG"
      },
      "execution_count": null,
      "outputs": []
    },
    {
      "cell_type": "code",
      "source": [
        "y_pred = knn.predict(X_test)\n",
        "mse = mean_squared_error(y_test, y_pred)\n",
        "sqrt(mse)"
      ],
      "metadata": {
        "id": "KbV2UxrHCTia"
      },
      "execution_count": null,
      "outputs": []
    },
    {
      "cell_type": "code",
      "source": [],
      "metadata": {
        "id": "RNNzQN83CTfi"
      },
      "execution_count": null,
      "outputs": []
    },
    {
      "cell_type": "code",
      "source": [],
      "metadata": {
        "id": "NGPRDtHZCTc5"
      },
      "execution_count": null,
      "outputs": []
    },
    {
      "cell_type": "code",
      "source": [],
      "metadata": {
        "id": "OfeBAOo9CTaU"
      },
      "execution_count": null,
      "outputs": []
    },
    {
      "cell_type": "code",
      "source": [],
      "metadata": {
        "id": "F72r_7Q-CTXt"
      },
      "execution_count": null,
      "outputs": []
    }
  ]
}